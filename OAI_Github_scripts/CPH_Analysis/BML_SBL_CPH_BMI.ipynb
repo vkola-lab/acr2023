{
 "cells": [
  {
   "cell_type": "code",
   "execution_count": null,
   "metadata": {},
   "outputs": [],
   "source": [
    "import pandas as pd\n",
    "import numpy as np\n",
    "import matplotlib.pyplot as plt\n",
    "from lifelines import KaplanMeierFitter\n",
    "from lifelines import CoxPHFitter\n",
    "import lifelines\n",
    "import math\n",
    "import sys\n",
    "from statistics import stdev\n",
    "from lifelines.statistics import logrank_test, multivariate_logrank_test,pairwise_logrank_test\n",
    "\n",
    "# Set the path of SBL and merge1 files and read the files\n",
    "loc_data = \"/data_1/OAI_SBL_Analysis_Data/\"\n",
    "loc_module = \"/home/tsurendr/OAI_Github_scripts\"\n",
    "loc_data_SBL = loc_data + \"SBL_0904.csv\"\n",
    "loc_merge1 = loc_data + \"merge1_KL.csv\"\n",
    "raw_data_SBL = pd.read_csv(loc_data_SBL)\n",
    "merge1 = pd.read_csv(loc_merge1)\n",
    "# load custom module \n",
    "sys.path.append(loc_module)"
   ]
  },
  {
   "cell_type": "code",
   "execution_count": null,
   "metadata": {},
   "outputs": [],
   "source": [
    "sbl_col_names = [\"F\" + str(i) for i in range(200)] + [\n",
    "    \"T\" + str(i) for i in range(200)\n",
    "]  # femur: F0~ F199 , tibia: T0 ~ T199\n",
    "sbl_col_names_femur = [\"F\" + str(i) for i in range(200)]\n",
    "sbl_col_names_tibia = [\"T\" + str(i) for i in range(200)]"
   ]
  },
  {
   "cell_type": "code",
   "execution_count": null,
   "metadata": {},
   "outputs": [],
   "source": [
    "##################################\n",
    "# normalize SBL for both at once #\n",
    "##################################\n",
    "raw_sbl_values = raw_data_SBL.loc[:, sbl_col_names].values\n",
    "sbl_values = np.empty_like(raw_sbl_values)  # for saving normalized SBL\n",
    "for row in range(raw_sbl_values.shape[0]):\n",
    "    sbl_values[row, :] = (\n",
    "        raw_sbl_values[row, :] / raw_sbl_values[row, :].mean()\n",
    "    )  # normalize by the averaged val. of SBL\n",
    "df_normalized_SBL = pd.DataFrame(sbl_values, columns=sbl_col_names)\n",
    "# get mean of Kellgren Lawrence (KL) grade 0\n",
    "sbl_KL_0_mean = df_normalized_SBL.loc[\n",
    "    (merge1[\"KL_Grade\"] == 0) , sbl_col_names\n",
    "].values.mean(0)\n",
    "\n",
    "print(f\"shape of sbl_KL_0_mean: {sbl_KL_0_mean.shape}\")\n",
    "baseline = sbl_KL_0_mean\n",
    "sbl_difference = df_normalized_SBL.loc[:, sbl_col_names].sub(baseline, axis=1)\n",
    "# absolute value of sbl difference.\n",
    "sbl_difference_absolute = sbl_difference.abs()\n",
    "\n",
    "sbl_difference_absolute.name = \"normalized_sbl\"\n",
    "\n",
    "df_normalized_SBL_both = pd.DataFrame(sbl_difference_absolute)\n",
    "df_normalized_SBL_both = df_normalized_SBL_both.add_suffix('_merged')\n",
    "print(df_normalized_SBL_both)"
   ]
  },
  {
   "cell_type": "code",
   "execution_count": null,
   "metadata": {},
   "outputs": [],
   "source": [
    "###########################\n",
    "# normalize SBL for femur #\n",
    "###########################\n",
    "raw_sbl_values = raw_data_SBL.loc[:, sbl_col_names_femur].values\n",
    "sbl_values = np.empty_like(raw_sbl_values)  # for saving normalized SBL\n",
    "for row in range(raw_sbl_values.shape[0]):\n",
    "    sbl_values[row, :] = (\n",
    "        raw_sbl_values[row, :] / raw_sbl_values[row, :].mean()\n",
    "    )  # normalize by the averaged val. of SBL\n",
    "df_normalized_SBL = pd.DataFrame(sbl_values, columns=sbl_col_names_femur)\n",
    "# get mean of Kellgren Lawrence (KL) grade 0\n",
    "sbl_KL_0_mean = df_normalized_SBL.loc[\n",
    "    (merge1[\"KL_Grade\"] == 0) , sbl_col_names_femur\n",
    "].values.mean(0)\n",
    "print(f\"shape of sbl_KL_0_mean: {sbl_KL_0_mean.shape}\")\n",
    "baseline = sbl_KL_0_mean\n",
    "\n",
    "sbl_difference = df_normalized_SBL.loc[:, sbl_col_names_femur].sub(baseline, axis=1)\n",
    "\n",
    "# absolute value of sbl difference.\n",
    "sbl_difference_absolute = sbl_difference.abs()\n",
    "\n",
    "sbl_difference_absolute.name = \"normalized_sbl_femur\"\n",
    "df_normalized_SBL_femur = pd.DataFrame(sbl_difference_absolute)\n",
    "df_normalized_SBL_femur = df_normalized_SBL_femur.add_suffix('_femur')\n",
    "print(df_normalized_SBL_femur)"
   ]
  },
  {
   "cell_type": "code",
   "execution_count": null,
   "metadata": {},
   "outputs": [],
   "source": [
    "###########################\n",
    "# normalize SBL for tibia #\n",
    "###########################\n",
    "raw_sbl_values = raw_data_SBL.loc[:, sbl_col_names_tibia].values\n",
    "sbl_values = np.empty_like(raw_sbl_values)  # for saving normalized SBL\n",
    "for row in range(raw_sbl_values.shape[0]):\n",
    "    sbl_values[row, :] = (\n",
    "        raw_sbl_values[row, :] / raw_sbl_values[row, :].mean()\n",
    "    )  # normalize by the averaged val. of SBL\n",
    "df_normalized_SBL = pd.DataFrame(sbl_values, columns=sbl_col_names_tibia)\n",
    "# get mean of Kellgren Lawrence (KL) grade 0\n",
    "sbl_KL_0_mean = df_normalized_SBL.loc[\n",
    "    (merge1[\"KL_Grade\"] == 0) , sbl_col_names_tibia\n",
    "].values.mean(0)\n",
    "print(f\"shape of sbl_KL_0_mean: {sbl_KL_0_mean.shape}\")\n",
    "baseline = sbl_KL_0_mean\n",
    "sbl_difference = df_normalized_SBL.loc[:, sbl_col_names_tibia].sub(baseline, axis=1)\n",
    "# absolute value of sbl difference.\n",
    "sbl_difference_absolute = sbl_difference.abs()\n",
    "sbl_difference_absolute.name = \"normalized_sbl_tibia\"\n",
    "df_normalized_SBL_tibia = pd.DataFrame(sbl_difference_absolute)\n",
    "df_normalized_SBL_tibia = df_normalized_SBL_tibia.add_suffix('_tibia')\n",
    "print(df_normalized_SBL_tibia)"
   ]
  },
  {
   "cell_type": "code",
   "execution_count": null,
   "metadata": {},
   "outputs": [],
   "source": [
    "# Combining 3 Variables: df_normalized_SBL_both, df_normalized_SBL_femur, df_normalized_SBL_tibia\n",
    "data_SBL = pd.merge(\n",
    "    raw_data_SBL, df_normalized_SBL_both, right_index=True, left_index=True\n",
    ")  # merge df_normalized_SBL_both\n",
    "data_SBL = pd.merge(\n",
    "    data_SBL, df_normalized_SBL_femur, right_index=True, left_index=True\n",
    ")  # merge df_normalized_SBL_femur\n",
    "data_SBL = pd.merge(\n",
    "    data_SBL, df_normalized_SBL_tibia, right_index=True, left_index=True\n",
    ")  # merge df_normalized_SBL_tibia"
   ]
  },
  {
   "cell_type": "code",
   "execution_count": null,
   "metadata": {},
   "outputs": [],
   "source": [
    "# Splitting data by knee side(right/left) and formatting columns appropriately \n",
    "\n",
    "print(\"total number of baseline knees\", len(data_SBL))\n",
    "data_SBL[\"id\"] = data_SBL[\"id\"].astype(str)\n",
    "data_BioMarkers = pd.read_csv(loc_data + \"Biomarker_data.csv\")\n",
    "data_SBL = data_SBL.drop([\"Unnamed: 0\"], axis=1)\n",
    "data_BioMarkers = data_BioMarkers.drop([\"Unnamed: 0\"], axis=1)\n",
    "side_SBL_temp = data_SBL.groupby(\"SIDE\")\n",
    "side_1_SBL_Right = side_SBL_temp.get_group(1)\n",
    "side_2_SBL_Left = side_SBL_temp.get_group(2)"
   ]
  },
  {
   "cell_type": "code",
   "execution_count": null,
   "metadata": {},
   "outputs": [],
   "source": [
    "print(\"total number of right knees\", len(side_1_SBL_Right))\n",
    "print(\"total number of left knees\", len(side_2_SBL_Left))"
   ]
  },
  {
   "cell_type": "code",
   "execution_count": null,
   "metadata": {},
   "outputs": [],
   "source": [
    "# settings\n",
    "NUM_YEARS = 11.0 \n",
    "encoding = \"utf-8\"\n",
    "# read and preprocessing\n",
    "raw_df = pd.read_sas(loc_data + \"outcomes99.sas7bdat\")\n",
    "# must censor data per knee\n",
    "print(\"Before data drop mri data\", len(raw_df))\n",
    "df = raw_df.dropna(axis=0, subset=[\"V99RNTCNT\"])\n",
    "print(\"complete mri data\", len(df))\n",
    "print(f\"number of drop: {len(raw_df)-len(df)}\")\n",
    "df = df.copy()\n",
    "df.loc[:, \"id\"] = df[\"id\"].apply(lambda x: str(x, encoding))\n",
    "merge1 = merge1.dropna(axis=0, subset=[\"P02SEX\"])\n",
    "merge1 = merge1.dropna(axis=0, subset=[\"V00AGE\"])\n",
    "merge1[\"id\"] = merge1[\"id\"].astype(str)\n",
    "merge1_temp = merge1.groupby(\"SIDE\")\n",
    "merge1_right = merge1_temp.get_group(1)\n",
    "merge1_left = merge1_temp.get_group(2)\n",
    "df_8_years = df[df[\"V99RNTCNT\"] <= NUM_YEARS].copy()\n",
    "print(\"oai Data: \", len(df_8_years))"
   ]
  },
  {
   "cell_type": "code",
   "execution_count": null,
   "metadata": {},
   "outputs": [],
   "source": [
    "# KL Grade information preprocessing for right knees\n",
    "data_KL_grade_right = pd.read_csv(loc_data + \"rightFilteredklMEAS.csv\")\n",
    "data_KL_grade_right = data_KL_grade_right.drop([\"Unnamed: 0\"], axis=1)\n",
    "data_KL_grade_right = data_KL_grade_right.dropna(axis=0, subset=[\"V00XRKLR\"])\n",
    "data_KL_grade_right[\"id\"] = data_KL_grade_right[\"id\"].astype(str)"
   ]
  },
  {
   "cell_type": "code",
   "execution_count": null,
   "metadata": {},
   "outputs": [],
   "source": [
    "# KL Grade information preprocessing for left knees\n",
    "data_KL_grade_left = pd.read_csv(loc_data + \"leftFilteredklMEAS.csv\")\n",
    "data_KL_grade_left = data_KL_grade_left.drop([\"Unnamed: 0\"], axis=1)\n",
    "data_KL_grade_left = data_KL_grade_left.dropna(axis=0, subset=[\"V00XRKLL\"])\n",
    "data_KL_grade_left[\"id\"] = data_KL_grade_left[\"id\"].astype(str)"
   ]
  },
  {
   "cell_type": "code",
   "execution_count": null,
   "metadata": {},
   "outputs": [],
   "source": [
    "# BML information preprocessing for right knees. \n",
    "# right side\n",
    "data_BML_right = pd.read_csv(loc_data + \"rightFilteredbmlMoaks.csv\")\n",
    "data_BML_right[\"id\"] = data_BML_right[\"id\"].astype(str)\n",
    "\n",
    "data_BML_right = data_BML_right.drop([\"Unnamed: 0\"], axis=1)\n",
    "data_BML_right = data_BML_right.dropna(axis=0, subset=['V00MBMSFMA',\n",
    "'V00MBMSFLA',\n",
    "'V00MBMSFMC',\n",
    "'V00MBMSFLC',\n",
    "'V00MBMSFMP',\n",
    "'V00MBMSFLP',\n",
    "'V00MBMSSS',\n",
    "'V00MBMSTMA',\n",
    "'V00MBMSTLA',\n",
    "'V00MBMSTMC',\n",
    "'V00MBMSTLC',\n",
    "'V00MBMSTMP',\n",
    "'V00MBMSTLP'])\n",
    "\n",
    "# For verification after data processing\n",
    "print(\"bml right Data: \", len(data_BML_right))\n"
   ]
  },
  {
   "cell_type": "code",
   "execution_count": null,
   "metadata": {},
   "outputs": [],
   "source": [
    "# Race Data, dropping patients with missing data\n",
    "race_data = pd.read_csv('/data_1/OAI_Backup/MeasInventory.csv')\n",
    "race_data = race_data.dropna(axis=0, subset=['P02RACE'])\n",
    "race_data = race_data.drop(columns=['V00AGE'])\n",
    "race_data = race_data.drop(columns=['P02SEX'])\n",
    "race_data = race_data.drop(columns=['V00XRKLR'])\n",
    "race_data = race_data.drop(columns=['V00XRKLL'])\n",
    "race_data['id'] = race_data['id'].astype(str)\n"
   ]
  },
  {
   "cell_type": "code",
   "execution_count": null,
   "metadata": {},
   "outputs": [],
   "source": [
    "# Merging all right knee info, including demographics, TKR, KL Grade, BML, etc...\n",
    "oai_bml_merge_right = pd.merge(df_8_years, data_BML_right, how=\"inner\", on=[\"id\"])\n",
    "oai_bml_SBL_KL_merge_right_pre = pd.merge(\n",
    "    oai_bml_merge_right, side_1_SBL_Right, how=\"inner\", on=[\"id\"]\n",
    ")\n",
    "print(len(oai_bml_SBL_KL_merge_right_pre))\n",
    "\n",
    "oai_bml_SBL_KL_merge_right_age_pre_1 = pd.merge(\n",
    "    oai_bml_SBL_KL_merge_right_pre, data_KL_grade_right, how=\"inner\", on=[\"id\"]\n",
    ")\n",
    "oai_bml_SBL_KL_merge_right_pre = pd.merge(\n",
    "    oai_bml_SBL_KL_merge_right_age_pre_1, merge1_right, how=\"inner\", on=[\"id\"]\n",
    ")\n",
    "\n",
    "\n",
    "oai_bml_SBL_KL_merge_right = pd.merge(\n",
    "    oai_bml_SBL_KL_merge_right_pre, race_data, how=\"inner\", on=[\"id\"]\n",
    ")\n",
    "print(len(oai_bml_SBL_KL_merge_right))\n",
    "\n",
    "oai_bml_SBL_KL_merge_right.drop_duplicates(subset=[\"id\"], inplace=True, keep=\"last\")\n",
    "oai_bml_SBL_KL_merge_right.reset_index(drop=True, inplace=True)\n",
    "print(len(oai_bml_SBL_KL_merge_right))\n"
   ]
  },
  {
   "cell_type": "code",
   "execution_count": null,
   "metadata": {},
   "outputs": [],
   "source": [
    "# BML information preprocessing for left knees. \n",
    "# left side\n",
    "data_BML_left = pd.read_csv(loc_data + \"leftFilteredbmlMoaks.csv\")\n",
    "data_BML_left[\"id\"] = data_BML_left[\"id\"].astype(str)\n",
    "\n",
    "data_BML_left = data_BML_left.drop([\"Unnamed: 0\"], axis=1)\n",
    "data_BML_left = data_BML_left.dropna(axis=0, subset=['V00MBMSFMA',\n",
    "'V00MBMSFLA',\n",
    "'V00MBMSFMC',\n",
    "'V00MBMSFLC',\n",
    "'V00MBMSFMP',\n",
    "'V00MBMSFLP',\n",
    "'V00MBMSSS',\n",
    "'V00MBMSTMA',\n",
    "'V00MBMSTLA',\n",
    "'V00MBMSTMC',\n",
    "'V00MBMSTLC',\n",
    "'V00MBMSTMP',\n",
    "'V00MBMSTLP'])\n",
    "\n",
    "# For verification after data processing\n",
    "print(\"bml left Data: \", len(data_BML_left))"
   ]
  },
  {
   "cell_type": "code",
   "execution_count": null,
   "metadata": {},
   "outputs": [],
   "source": [
    "# Merging all left knee info, including demographics, TKR, KL Grade, BML, etc...\n",
    "oai_bml_merge_left = pd.merge(df_8_years, data_BML_left, how=\"inner\", on=[\"id\"])\n",
    "oai_bml_SBL_KL_merge_left_pre = pd.merge(\n",
    "    oai_bml_merge_left, side_2_SBL_Left, how=\"inner\", on=[\"id\"]\n",
    ")\n",
    "oai_bml_SBL_KL_merge_left_age_pre_1 = pd.merge(\n",
    "    oai_bml_SBL_KL_merge_left_pre, data_KL_grade_left, how=\"inner\", on=[\"id\"]\n",
    ") \n",
    "\n",
    "oai_bml_SBL_KL_merge_left_pre = pd.merge(\n",
    "    oai_bml_SBL_KL_merge_left_age_pre_1, merge1_left, how=\"inner\", on=[\"id\"]\n",
    ")\n",
    "\n",
    "oai_bml_SBL_KL_merge_left = pd.merge(\n",
    "    oai_bml_SBL_KL_merge_left_pre, race_data, how=\"inner\", on=[\"id\"]\n",
    ")\n",
    "oai_bml_SBL_KL_merge_left.drop_duplicates(subset=[\"id\"], inplace=True, keep=\"last\")\n",
    "oai_bml_SBL_KL_merge_left.reset_index(drop=True, inplace=True)\n",
    "print(len(oai_bml_SBL_KL_merge_left))\n"
   ]
  },
  {
   "cell_type": "code",
   "execution_count": null,
   "metadata": {},
   "outputs": [],
   "source": [
    "# need 3 groups representing merged femur and tibia. \n",
    "\n",
    "femur_column_list = ['V00MBMSFMA',\n",
    "'V00MBMSFLA',\n",
    "'V00MBMSFMC',\n",
    "'V00MBMSFLC',\n",
    "'V00MBMSFMP',\n",
    "'V00MBMSFLP']\n",
    "\n",
    "tibia_column_list = ['V00MBMSSS',\n",
    "'V00MBMSTMA',\n",
    "'V00MBMSTLA',\n",
    "'V00MBMSTMC',\n",
    "'V00MBMSTLC',\n",
    "'V00MBMSTMP',\n",
    "'V00MBMSTLP']\n",
    "\n",
    "merged_column_list = ['V00MBMSFMA',\n",
    "'V00MBMSFLA',\n",
    "'V00MBMSFMC',\n",
    "'V00MBMSFLC',\n",
    "'V00MBMSFMP',\n",
    "'V00MBMSFLP',\n",
    "'V00MBMSSS',\n",
    "'V00MBMSTMA',\n",
    "'V00MBMSTLA',\n",
    "'V00MBMSTMC',\n",
    "'V00MBMSTLC',\n",
    "'V00MBMSTMP',\n",
    "'V00MBMSTLP']\n"
   ]
  },
  {
   "cell_type": "code",
   "execution_count": null,
   "metadata": {},
   "outputs": [],
   "source": [
    "# Determining the largest BML in each knee based on if it is a Merged, Femur, or Tibia model\n",
    "# For both left and right knees\n",
    "\n",
    "# right side\n",
    "right_knee_tkr = oai_bml_SBL_KL_merge_right[\n",
    "    (oai_bml_SBL_KL_merge_right[\"V99RNTCNT\"] <= NUM_YEARS)\n",
    "    & (oai_bml_SBL_KL_merge_right[\"V99ERKDAYS\"].isnull() == False)\n",
    "]\n",
    "print(\"total knees on right side: \", len(oai_bml_SBL_KL_merge_right))\n",
    "print(\"censored right knees: \", len(oai_bml_SBL_KL_merge_right) - len(right_knee_tkr))\n",
    "print(\"proper right knee tkr: \", len(right_knee_tkr))\n",
    "\n",
    "oai_bml_SBL_KL_merge_right[\"right_tkr\"] = np.where(\n",
    "    oai_bml_SBL_KL_merge_right[\"id\"].isin(right_knee_tkr[\"id\"]) == True, 1, 0\n",
    ")\n",
    "oai_bml_SBL_KL_merge_right[\"bml_total_merged\"] = oai_bml_SBL_KL_merge_right[merged_column_list].max(axis=1)\n",
    "oai_bml_SBL_KL_merge_right[\"bml_total_femur\"] = oai_bml_SBL_KL_merge_right[femur_column_list].max(axis=1)\n",
    "oai_bml_SBL_KL_merge_right[\"bml_total_tibia\"] = oai_bml_SBL_KL_merge_right[tibia_column_list].max(axis=1)\n",
    "print(oai_bml_SBL_KL_merge_right[\"bml_total_merged\"].unique())\n",
    "\n",
    "# left side\n",
    "left_knee_tkr = oai_bml_SBL_KL_merge_left[\n",
    "    (oai_bml_SBL_KL_merge_left[\"V99RNTCNT\"] <= NUM_YEARS)\n",
    "    & (oai_bml_SBL_KL_merge_left[\"V99ELKDAYS\"].isnull() == False)\n",
    "]\n",
    "\n",
    "print(\"total knees on left side: \", len(oai_bml_SBL_KL_merge_left))\n",
    "print(\"censored left knees: \", len(oai_bml_SBL_KL_merge_left) - len(left_knee_tkr))\n",
    "print(\"proper left knee tkr: \", len(left_knee_tkr))\n",
    "\n",
    "oai_bml_SBL_KL_merge_left[\"right_tkr\"] = np.where(\n",
    "    oai_bml_SBL_KL_merge_left[\"id\"].isin(left_knee_tkr[\"id\"]) == True, 1, 0\n",
    ")\n",
    "\n",
    "oai_bml_SBL_KL_merge_left[\"bml_total_merged\"] = oai_bml_SBL_KL_merge_left[merged_column_list].max(axis = 1)\n",
    "oai_bml_SBL_KL_merge_left[\"bml_total_femur\"] = oai_bml_SBL_KL_merge_left[femur_column_list].max(axis = 1)\n",
    "oai_bml_SBL_KL_merge_left[\"bml_total_tibia\"] = oai_bml_SBL_KL_merge_left[tibia_column_list].max(axis = 1)\n",
    "print(oai_bml_SBL_KL_merge_left[\"bml_total_merged\"].unique())\n",
    "\n",
    "print(oai_bml_SBL_KL_merge_right)"
   ]
  },
  {
   "cell_type": "code",
   "execution_count": null,
   "metadata": {},
   "outputs": [],
   "source": [
    "# Renaming right knee columns for ease of use\n",
    "oai_bml_SBL_KL_merge_right = oai_bml_SBL_KL_merge_right.rename(columns = {\"V00AGE\":'AGE', \"V00XRKLR\":'KL_grade',\"P01BMI\":'BMI',\"P02RACE\":'RACE'})\n",
    "print('RACE' in oai_bml_SBL_KL_merge_right)\n",
    "print(\"KL_grade\" in oai_bml_SBL_KL_merge_right.columns.tolist() )"
   ]
  },
  {
   "cell_type": "code",
   "execution_count": null,
   "metadata": {},
   "outputs": [],
   "source": [
    "# Renaming left knee columns for ease of use\n",
    "oai_bml_SBL_KL_merge_left = oai_bml_SBL_KL_merge_left.rename(columns = {\"V00AGE\":'AGE',\"V00XRKLL\":'KL_grade',\"P01BMI\":'BMI',\"P02RACE\":'RACE'})\n",
    "\n",
    "print(\"KL_grade\" in oai_bml_SBL_KL_merge_left.columns.tolist() )"
   ]
  },
  {
   "cell_type": "code",
   "execution_count": null,
   "metadata": {},
   "outputs": [],
   "source": [
    "# Determining which patiets had a TKR and if not, what their most recent time of follow-up was.\n",
    "from time_adder import add_time\n",
    "\n",
    "oai_SBL_KL_BML_right = add_time(oai_bml_SBL_KL_merge_right, \"right\")\n",
    "oai_SBL_KL_BML_left = add_time(oai_bml_SBL_KL_merge_left, \"left\")"
   ]
  },
  {
   "cell_type": "code",
   "execution_count": null,
   "metadata": {},
   "outputs": [],
   "source": [
    "# Selecting columns from left and right knee info, to merge into 1 table for each SBL and BML model\n",
    "# right side\n",
    "oai_right_temp_SBL_Merged_right = pd.concat( [oai_SBL_KL_BML_right.loc[:, 'F0_merged':'T199_merged'], oai_SBL_KL_BML_right[\n",
    "    ['id',\"time\", \"right_tkr\", \"P02SEX\",'KL_grade','BMI', 'RACE','bml_total_merged','bml_total_femur','bml_total_tibia']]], axis = 1)\n",
    "\n",
    "oai_right_temp_SBL_Femur_right = pd.concat( [oai_SBL_KL_BML_right.loc[:, 'F0_femur':'F199_femur'], oai_SBL_KL_BML_right[\n",
    "    ['id',\"time\", \"right_tkr\", \"P02SEX\",'bml_total_femur','BMI']]], axis = 1)\n",
    "\n",
    "oai_right_temp_SBL_Tibia_right = pd.concat( [oai_SBL_KL_BML_right.loc[:, 'T0_tibia':'T199_tibia'], oai_SBL_KL_BML_right[\n",
    "    ['id',\"time\", \"right_tkr\", \"P02SEX\",'bml_total_tibia','BMI']]], axis = 1)\n",
    "\n",
    "\n",
    "oai_right_temp_BML_Merged_right = oai_SBL_KL_BML_right[\n",
    "    ['id',\"time\", \"right_tkr\", \"P02SEX\", \"bml_total_merged\",'BMI']\n",
    "]\n",
    "oai_right_temp_BML_Femur_right = oai_SBL_KL_BML_right[\n",
    "    ['id',\"time\", \"right_tkr\", \"P02SEX\", \"bml_total_femur\",'BMI']\n",
    "]\n",
    "oai_right_temp_BML_Tibia_right = oai_SBL_KL_BML_right[\n",
    "    ['id',\"time\", \"right_tkr\", \"P02SEX\", \"bml_total_tibia\",'BMI']\n",
    "]\n",
    "\n",
    "# left side\n",
    "oai_right_temp_SBL_Merged_left = pd.concat( [oai_SBL_KL_BML_left.loc[:, 'F0_merged':'T199_merged'], oai_SBL_KL_BML_left[\n",
    "    ['id',\"time\", \"right_tkr\", \"P02SEX\",'KL_grade','BMI','bml_total_merged','bml_total_femur','bml_total_tibia']]], axis = 1)\n",
    "\n",
    "oai_right_temp_SBL_Femur_left = pd.concat( [oai_SBL_KL_BML_left.loc[:, 'F0_femur':'F199_femur'], oai_SBL_KL_BML_left[\n",
    "    ['id',\"time\", \"right_tkr\", \"P02SEX\",'bml_total_femur','BMI']]], axis = 1)\n",
    "\n",
    "oai_right_temp_SBL_Tibia_left = pd.concat( [oai_SBL_KL_BML_left.loc[:, 'T0_tibia':'T199_tibia'], oai_SBL_KL_BML_left[\n",
    "    ['id',\"time\", \"right_tkr\", \"P02SEX\",'bml_total_tibia','BMI']]], axis = 1)\n",
    "\n",
    "\n",
    "oai_right_temp_BML_Merged_left = oai_SBL_KL_BML_left[\n",
    "    ['id',\"time\", \"right_tkr\", \"P02SEX\", \"bml_total_merged\",'BMI']\n",
    "]\n",
    "oai_right_temp_BML_Femur_left = oai_SBL_KL_BML_left[\n",
    "    ['id',\"time\", \"right_tkr\", \"P02SEX\", \"bml_total_femur\",'BMI']\n",
    "]\n",
    "oai_right_temp_BML_Tibia_left = oai_SBL_KL_BML_left[\n",
    "    ['id',\"time\", \"right_tkr\", \"P02SEX\", \"bml_total_tibia\",'BMI']\n",
    "]\n",
    "\n",
    "\n",
    "\n",
    "\n"
   ]
  },
  {
   "cell_type": "code",
   "execution_count": null,
   "metadata": {},
   "outputs": [],
   "source": [
    "# merging information for various SBL and BML models based on left and right knee information that was selected previously\n",
    "oai_right_temp_SBL_Merged_all = pd.concat(\n",
    "    [oai_right_temp_SBL_Merged_right, oai_right_temp_SBL_Merged_left],\n",
    "    ignore_index=True,\n",
    ")\n",
    "oai_right_temp_SBL_Femur_all = pd.concat(\n",
    "    [oai_right_temp_SBL_Femur_right, oai_right_temp_SBL_Femur_left],\n",
    "    ignore_index=True,\n",
    ")\n",
    "oai_right_temp_SBL_Tibia_all = pd.concat(\n",
    "    [oai_right_temp_SBL_Tibia_right, oai_right_temp_SBL_Tibia_left],\n",
    "    ignore_index=True,\n",
    ")\n",
    "oai_right_temp_BML_Merged_all = pd.concat(\n",
    "    [oai_right_temp_BML_Merged_right, oai_right_temp_BML_Merged_left],\n",
    "    ignore_index=True,\n",
    ")\n",
    "\n",
    "oai_right_temp_BML_Merged_all = pd.concat(\n",
    "    [oai_right_temp_BML_Merged_right, oai_right_temp_BML_Merged_left],\n",
    "    ignore_index=True,\n",
    ")\n",
    "oai_right_temp_BML_Femur_all = pd.concat(\n",
    "    [oai_right_temp_BML_Femur_right, oai_right_temp_BML_Femur_left],\n",
    "    ignore_index=True,\n",
    ")\n",
    "oai_right_temp_BML_Tibia_all = pd.concat(\n",
    "    [oai_right_temp_BML_Tibia_right, oai_right_temp_BML_Tibia_left],\n",
    "    ignore_index=True,\n",
    ")\n",
    "\n",
    "# Dropping unknown information from Race column\n",
    "oai_right_temp_SBL_Merged_all.drop(oai_right_temp_SBL_Merged_all[(oai_right_temp_SBL_Merged_all['RACE'] == '.D: Don t Know/Unknown/Uncertain') ].index, inplace=True)"
   ]
  },
  {
   "cell_type": "code",
   "execution_count": null,
   "metadata": {},
   "outputs": [],
   "source": [
    "# dropping the smaller bml from patients who have 2 knees in the table in order to avoid confounding variables. \n",
    "oai_right_temp_SBL_Merged_all = oai_right_temp_SBL_Merged_all.sort_values('bml_total_merged').drop_duplicates('id', keep='last').sort_index()\n",
    "oai_right_temp_SBL_Femur_all = oai_right_temp_SBL_Femur_all.sort_values('bml_total_femur').drop_duplicates('id', keep='last').sort_index()\n",
    "oai_right_temp_SBL_Tibia_all = oai_right_temp_SBL_Tibia_all.sort_values('bml_total_tibia').drop_duplicates('id', keep='last').sort_index()\n",
    "oai_right_temp_BML_Merged_all = oai_right_temp_BML_Merged_all.sort_values('bml_total_merged').drop_duplicates('id', keep='last').sort_index()\n",
    "oai_right_temp_BML_Femur_all = oai_right_temp_BML_Femur_all.sort_values('bml_total_femur').drop_duplicates('id', keep='last').sort_index()\n",
    "oai_right_temp_BML_Tibia_all = oai_right_temp_BML_Tibia_all.sort_values('bml_total_tibia').drop_duplicates('id', keep='last').sort_index()\n",
    "\n",
    "#Checking to make sure each patient has no more than 1 knee in the table\n",
    "print(len(list(set([x for i,x in enumerate(oai_right_temp_SBL_Merged_all['id'].tolist()) if oai_right_temp_SBL_Merged_all['id'].tolist().count(x) > 1]))))\n",
    "\n"
   ]
  },
  {
   "cell_type": "code",
   "execution_count": null,
   "metadata": {},
   "outputs": [],
   "source": [
    "groups_merged = oai_right_temp_SBL_Merged_all.groupby(\"P02SEX\")\n",
    "males_merged = groups_merged.get_group(1)\n",
    "females_merged = groups_merged.get_group(2)\n",
    "print(\"total males\", len(males_merged))\n",
    "# check the gender population; male:1, female:2\n",
    "print('total females', len(females_merged))\n"
   ]
  },
  {
   "cell_type": "code",
   "execution_count": null,
   "metadata": {},
   "outputs": [],
   "source": [
    "\n",
    "# grouping by sex\n",
    "groups_merged = oai_right_temp_SBL_Merged_all.groupby(\"P02SEX\")\n",
    "males_merged = groups_merged.get_group(1)\n",
    "females_merged = groups_merged.get_group(2)\n",
    "males_merged = males_merged.drop(columns=[\"P02SEX\"])\n",
    "females_merged = females_merged.drop(columns=[\"P02SEX\"])\n",
    "\n",
    "groups_femur = oai_right_temp_SBL_Femur_all.groupby(\"P02SEX\")\n",
    "males_femur = groups_femur.get_group(1)\n",
    "females_femur = groups_femur.get_group(2)\n",
    "males_femur = males_femur.drop(columns=[\"P02SEX\"])\n",
    "females_femur = females_femur.drop(columns=[\"P02SEX\"])\n",
    "\n",
    "groups_tibia = oai_right_temp_SBL_Tibia_all.groupby(\"P02SEX\")\n",
    "males_tibia = groups_tibia.get_group(1)\n",
    "females_tibia = groups_tibia.get_group(2)\n",
    "males_tibia = males_tibia.drop(columns=[\"P02SEX\"])\n",
    "females_tibia = females_tibia.drop(columns=[\"P02SEX\"])\n",
    "\n",
    "groups_BML_merged = oai_right_temp_BML_Merged_all.groupby(\"P02SEX\")\n",
    "males_BML_merged = groups_BML_merged.get_group(1)\n",
    "females_BML_merged = groups_BML_merged.get_group(2)\n",
    "\n",
    "\n",
    "groups_BML_femur = oai_right_temp_BML_Femur_all.groupby(\"P02SEX\")\n",
    "males_BML_femur = groups_BML_femur.get_group(1)\n",
    "females_BML_femur = groups_BML_femur.get_group(2)\n",
    "\n",
    "\n",
    "\n",
    "groups_BML_tibia = oai_right_temp_BML_Tibia_all.groupby(\"P02SEX\")\n",
    "males_BML_tibia = groups_BML_tibia.get_group(1)\n",
    "females_BML_tibia = groups_BML_tibia.get_group(2)\n",
    "\n",
    "\n",
    "males_BML_merged = males_BML_merged.drop(columns=[\"P02SEX\"])\n",
    "females_BML_merged = females_BML_merged.drop(columns=[\"P02SEX\"])\n",
    "\n",
    "males_BML_femur = males_BML_femur.drop(columns=[\"P02SEX\"])\n",
    "females_BML_femur = females_BML_femur.drop(columns=[\"P02SEX\"])\n",
    "\n",
    "males_BML_tibia = males_BML_tibia.drop(columns=[\"P02SEX\"])\n",
    "females_BML_tibia = females_BML_tibia.drop(columns=[\"P02SEX\"])\n",
    "\n",
    "\n",
    "# Dropping irrelevent information from tables before input to Cox Models\n",
    "oai_right_temp_SBL_Merged_all = oai_right_temp_SBL_Merged_all.drop(columns=[\"P02SEX\",'id'])\n",
    "oai_right_temp_SBL_Femur_all = oai_right_temp_SBL_Femur_all.drop(columns=[\"P02SEX\",'id'])\n",
    "oai_right_temp_SBL_Tibia_all = oai_right_temp_SBL_Tibia_all.drop(columns=[\"P02SEX\",'id'])\n",
    "oai_right_temp_BML_Merged_all = oai_right_temp_BML_Merged_all.drop(columns=[\"P02SEX\",'id'])\n",
    "oai_right_temp_BML_Femur_all = oai_right_temp_BML_Femur_all.drop(columns=[\"P02SEX\",'id'])\n",
    "oai_right_temp_BML_Tibia_all = oai_right_temp_BML_Tibia_all.drop(columns=[\"P02SEX\",'id'])\n"
   ]
  },
  {
   "cell_type": "code",
   "execution_count": null,
   "metadata": {},
   "outputs": [],
   "source": [
    "with_TKR = oai_right_temp_SBL_Merged_all[(oai_right_temp_SBL_Merged_all['right_tkr'] == 1)]\n",
    "without_TKR = oai_right_temp_SBL_Merged_all[(oai_right_temp_SBL_Merged_all['right_tkr'] == 0)]\n",
    "# Average BMI of patients with and without TKR\n",
    "print((without_TKR.BMI.mean()))\n",
    "print((with_TKR.BMI.mean()))"
   ]
  },
  {
   "cell_type": "code",
   "execution_count": null,
   "metadata": {},
   "outputs": [],
   "source": [
    "#Splitting populations based on BMI\n",
    "\n",
    "less_25_merged = oai_right_temp_SBL_Merged_all[(oai_right_temp_SBL_Merged_all['BMI'] <  25.0)]\n",
    "mid_20_to_30_merged = oai_right_temp_SBL_Merged_all[(oai_right_temp_SBL_Merged_all['BMI'] <  30) & (oai_right_temp_SBL_Merged_all['BMI'] >=  25.0)]\n",
    "more_30_merged = oai_right_temp_SBL_Merged_all[(oai_right_temp_SBL_Merged_all['BMI'] >=  30.0) ]\n",
    "\n",
    "\n",
    "less_25_femur = oai_right_temp_SBL_Femur_all[(oai_right_temp_SBL_Femur_all['BMI'] <  25.0)]\n",
    "mid_20_to_30_femur = oai_right_temp_SBL_Femur_all[(oai_right_temp_SBL_Femur_all['BMI'] <  30) & (oai_right_temp_SBL_Femur_all['BMI'] >=  25.0)]\n",
    "more_30_femur = oai_right_temp_SBL_Femur_all[(oai_right_temp_SBL_Femur_all['BMI'] >  30.0) ]\n",
    "\n",
    "less_25_tibia = oai_right_temp_SBL_Tibia_all[(oai_right_temp_SBL_Tibia_all['BMI'] <  25.0)]\n",
    "mid_20_to_30_tibia = oai_right_temp_SBL_Tibia_all[(oai_right_temp_SBL_Tibia_all['BMI'] <  30) & (oai_right_temp_SBL_Tibia_all['BMI'] >=  25.0)]\n",
    "more_30_tibia = oai_right_temp_SBL_Tibia_all[(oai_right_temp_SBL_Tibia_all['BMI'] >  30.0) ]\n",
    "\n",
    "\n",
    "less_25_bml_merged = oai_right_temp_BML_Merged_all[(oai_right_temp_BML_Merged_all['BMI'] <  25.0)]\n",
    "mid_20_to_30_bml_merged = oai_right_temp_BML_Merged_all[(oai_right_temp_BML_Merged_all['BMI'] <  30) & (oai_right_temp_BML_Merged_all['BMI'] >=  25.0)]\n",
    "more_30_bml_merged = oai_right_temp_BML_Merged_all[(oai_right_temp_BML_Merged_all['BMI'] >  30.0) ]\n",
    "\n",
    "less_25_bml_femur = oai_right_temp_BML_Femur_all[(oai_right_temp_BML_Femur_all['BMI'] <  25.0)]\n",
    "mid_20_to_30_bml_femur = oai_right_temp_BML_Femur_all[(oai_right_temp_BML_Femur_all['BMI'] <  30) & (oai_right_temp_BML_Femur_all['BMI'] >=  25.0)]\n",
    "more_30_bml_femur = oai_right_temp_BML_Femur_all[(oai_right_temp_BML_Femur_all['BMI'] >  30.0) ]\n",
    "\n",
    "less_25_bml_tibia = oai_right_temp_BML_Tibia_all[(oai_right_temp_BML_Tibia_all['BMI'] <  25.0)]\n",
    "mid_20_to_30_bml_tibia = oai_right_temp_BML_Tibia_all[(oai_right_temp_BML_Tibia_all['BMI'] <  30) & (oai_right_temp_BML_Tibia_all['BMI'] >=  25.0)]\n",
    "more_30_bml_tibia = oai_right_temp_BML_Tibia_all[(oai_right_temp_BML_Tibia_all['BMI'] >  30.0) ]\n",
    "\n",
    "\n"
   ]
  },
  {
   "cell_type": "code",
   "execution_count": null,
   "metadata": {},
   "outputs": [],
   "source": [
    "# Selecting SBL, BML, BMI, and TKR from each table before information is input into the CPH models\n",
    "from all_knee_sbl import cph_creator_SBL\n",
    "\n",
    "less_25_sbl_merged =  pd.concat( [less_25_merged.loc[:, 'F0_merged':'T199_merged'], less_25_merged[\n",
    "    [\"time\", \"right_tkr\"]]], axis = 1)\n",
    "less_25_sbl_femur =  pd.concat( [less_25_femur.loc[:, 'F0_femur':'F199_femur'], less_25_femur[\n",
    "    [\"time\", \"right_tkr\"]]], axis = 1)\n",
    "less_25_sbl_tibia =  pd.concat( [less_25_tibia.loc[:, 'T0_tibia':'T199_tibia'], less_25_tibia[\n",
    "    [\"time\", \"right_tkr\"]]], axis = 1)\n",
    "less_25_bml_merged = less_25_merged[[\"time\", \"right_tkr\", \"bml_total_merged\"]]\n",
    "less_25_bml_femur = less_25_merged[[\"time\", \"right_tkr\", \"bml_total_femur\"]]\n",
    "less_25_bml_tibia = less_25_merged[[\"time\", \"right_tkr\", \"bml_total_tibia\"]]\n",
    "\n",
    "\n",
    "mid_20_to_30_sbl_merged =  pd.concat( [mid_20_to_30_merged.loc[:, 'F0_merged':'T199_merged'], mid_20_to_30_merged[\n",
    "    [\"time\", \"right_tkr\"]]], axis = 1)\n",
    "mid_20_to_30_sbl_femur =  pd.concat( [mid_20_to_30_femur.loc[:, 'F0_femur':'F199_femur'], mid_20_to_30_femur[\n",
    "    [\"time\", \"right_tkr\"]]], axis = 1)\n",
    "mid_20_to_30_sbl_tibia =  pd.concat( [mid_20_to_30_tibia.loc[:, 'T0_tibia':'T199_tibia'], mid_20_to_30_tibia[\n",
    "    [\"time\", \"right_tkr\"]]], axis = 1)\n",
    "mid_20_to_30_bml_merged = mid_20_to_30_merged[[\"time\", \"right_tkr\", \"bml_total_merged\"]]\n",
    "mid_20_to_30_bml_femur = mid_20_to_30_merged[[\"time\", \"right_tkr\", \"bml_total_femur\"]]\n",
    "mid_20_to_30_bml_tibia = mid_20_to_30_merged[[\"time\", \"right_tkr\", \"bml_total_tibia\"]]\n",
    "\n",
    "more_30_sbl_merged =  pd.concat( [more_30_merged.loc[:, 'F0_merged':'T199_merged'], more_30_merged[\n",
    "    [\"time\", \"right_tkr\"]]], axis = 1)\n",
    "more_30_sbl_femur =  pd.concat( [more_30_femur.loc[:, 'F0_femur':'F199_femur'], more_30_femur[\n",
    "    [\"time\", \"right_tkr\"]]], axis = 1)\n",
    "more_30_sbl_tibia =  pd.concat( [more_30_tibia.loc[:, 'T0_tibia':'T199_tibia'], more_30_tibia[\n",
    "    [\"time\", \"right_tkr\"]]], axis = 1)\n",
    "more_30_bml_merged = more_30_merged[[\"time\", \"right_tkr\", \"bml_total_merged\"]]\n",
    "more_30_bml_femur = more_30_merged[[\"time\", \"right_tkr\", \"bml_total_femur\"]]\n",
    "more_30_bml_tibia = more_30_merged[[\"time\", \"right_tkr\", \"bml_total_tibia\"]]"
   ]
  },
  {
   "cell_type": "code",
   "execution_count": null,
   "metadata": {},
   "outputs": [],
   "source": [
    "# Determing number of patients in each BMI range\n",
    "print(len(less_25_sbl_merged))\n",
    "print(len(mid_20_to_30_sbl_merged))\n",
    "print(len(more_30_sbl_merged))"
   ]
  },
  {
   "cell_type": "code",
   "execution_count": null,
   "metadata": {},
   "outputs": [],
   "source": [
    "# CPH Model for SBL Merged data for patients BMI < 25\n",
    "brier_score, scores_1, auc_less_25_sbl_merged = cph_creator_SBL(less_25_sbl_merged, \"CPH Plot BML Female\")"
   ]
  },
  {
   "cell_type": "code",
   "execution_count": null,
   "metadata": {},
   "outputs": [],
   "source": [
    "# CPH Model for SBL Femur data for patients BMI < 25\n",
    "brier_score, scores_1, auc_less_25_sbl_femur = cph_creator_SBL(less_25_sbl_femur, \"CPH Plot BML Female\")"
   ]
  },
  {
   "cell_type": "code",
   "execution_count": null,
   "metadata": {},
   "outputs": [],
   "source": [
    "# CPH Model for SBL Tibia data for patients BMI < 25\n",
    "brier_score, scores_1, auc_less_25_sbl_tibia = cph_creator_SBL(less_25_sbl_tibia, \"CPH Plot BML Female\")"
   ]
  },
  {
   "cell_type": "code",
   "execution_count": null,
   "metadata": {},
   "outputs": [],
   "source": [
    "# CPH Model for BML Merged data for patients BMI < 25\n",
    "brier_score, scores_1, auc_less_25_bml_merged = cph_creator_SBL(less_25_bml_merged, \"CPH Plot BML Female\")"
   ]
  },
  {
   "cell_type": "code",
   "execution_count": null,
   "metadata": {},
   "outputs": [],
   "source": [
    "# CPH Model for BML Femur data for patients BMI < 25\n",
    "brier_score, scores_1, auc_less_25_bml_femur = cph_creator_SBL(less_25_bml_femur, \"CPH Plot BML Female\")"
   ]
  },
  {
   "cell_type": "code",
   "execution_count": null,
   "metadata": {},
   "outputs": [],
   "source": [
    "# CPH Model for BML Tibia data for patients BMI < 25\n",
    "brier_score, scores_1, auc_less_25_bml_tibia = cph_creator_SBL(less_25_bml_tibia, \"CPH Plot BML Female\")"
   ]
  },
  {
   "cell_type": "code",
   "execution_count": null,
   "metadata": {},
   "outputs": [],
   "source": [
    "# Time dependent Area Under the Curve (AUC) for patients with BMI < 25\n",
    "plt.rcParams[\"figure.figsize\"] = [10.50, 7.50]\n",
    "plt.rcParams.update({'font.size': 15})\n",
    "plt.plot(auc_less_25_sbl_merged[0], auc_less_25_sbl_merged[1], linestyle='dashed' , label=\"CoxPH Normalized SBL Merged (mean AUC = {:.3f})\".format(auc_less_25_sbl_merged[2]))\n",
    "plt.plot(auc_less_25_sbl_femur[0], auc_less_25_sbl_femur[1], linestyle='dashdot' , label=\"CoxPH Normalized SBL Femur (mean AUC = {:.3f})\".format(auc_less_25_sbl_femur[2]))\n",
    "plt.plot(auc_less_25_sbl_tibia[0], auc_less_25_sbl_tibia[1], linestyle='dotted' , label=\"CoxPH Normalized SBL Tibia (mean AUC = {:.3f})\".format(auc_less_25_sbl_tibia[2]))\n",
    "plt.plot(auc_less_25_bml_merged[0], auc_less_25_bml_merged[1], linestyle='solid', label=\"CoxPH BML Merged(mean AUC = {:.3f})\".format(auc_less_25_bml_merged[2]))\n",
    "plt.plot(auc_less_25_bml_femur[0], auc_less_25_bml_femur[1], linestyle='dashed',dashes=[7, 3, 7, 3], label=\"CoxPH BML Femur (mean AUC = {:.3f})\".format(auc_less_25_bml_femur[2]))\n",
    "plt.plot(auc_less_25_bml_tibia[0], auc_less_25_bml_tibia[1], linestyle='dashed',dashes=[1, 3, 1, 3], label=\"CoxPH BML Tibia (mean AUC = {:.3f})\".format(auc_less_25_bml_tibia[2]))\n",
    "plt.xlabel(\"Timeline (Days)\")\n",
    "plt.ylabel(\"Time-Dependent AUC\")\n",
    "plt.legend(loc=\"lower right\")\n",
    "plt.yticks(np.arange(0, 1.1, 0.2))\n",
    "plt.savefig('/home/tsurendr/AUC_Curves/AUC_less_25_BMI_SBL_BML_ALL_SBL.pdf', format='tif', bbox_inches = 'tight')"
   ]
  },
  {
   "cell_type": "code",
   "execution_count": null,
   "metadata": {},
   "outputs": [],
   "source": [
    "# CPH Model for SBL Merged data for patients BMI 20 - 30\n",
    "brier_score, scores_5, auc_mid_20_to_30_sbl_merged = cph_creator_SBL(mid_20_to_30_sbl_merged, \"CPH Plot BML Female\")"
   ]
  },
  {
   "cell_type": "code",
   "execution_count": null,
   "metadata": {},
   "outputs": [],
   "source": [
    "# CPH Model for SBL Femur data for patients BMI 20 - 30\n",
    "brier_score, scores_6, auc_mid_20_to_30_sbl_femur = cph_creator_SBL(mid_20_to_30_sbl_femur, \"CPH Plot BML Female\")"
   ]
  },
  {
   "cell_type": "code",
   "execution_count": null,
   "metadata": {},
   "outputs": [],
   "source": [
    "# CPH Model for SBL Tibia data for patients BMI 20 - 30\n",
    "brier_score, scores_7, auc_mid_20_to_30_sbl_tibia = cph_creator_SBL(mid_20_to_30_sbl_tibia, \"CPH Plot BML Female\")"
   ]
  },
  {
   "cell_type": "code",
   "execution_count": null,
   "metadata": {},
   "outputs": [],
   "source": [
    "# CPH Model for BML Merged data for patients BMI 20 - 30\n",
    "brier_score, scores_8, auc_mid_20_to_30_BML_merged = cph_creator_SBL(mid_20_to_30_bml_merged, \"CPH Plot BML Female\")"
   ]
  },
  {
   "cell_type": "code",
   "execution_count": null,
   "metadata": {},
   "outputs": [],
   "source": [
    "# CPH Model for BML Femur data for patients BMI 20 - 30\n",
    "brier_score, scores_8, auc_mid_20_to_30_BML_femur = cph_creator_SBL(mid_20_to_30_bml_femur, \"CPH Plot BML Female\")"
   ]
  },
  {
   "cell_type": "code",
   "execution_count": null,
   "metadata": {},
   "outputs": [],
   "source": [
    "# CPH Model for BML Tibia data for patients BMI 20 - 30\n",
    "brier_score, scores_8, auc_mid_20_to_30_BML_tibia = cph_creator_SBL(mid_20_to_30_bml_tibia, \"CPH Plot BML Female\")"
   ]
  },
  {
   "cell_type": "code",
   "execution_count": null,
   "metadata": {},
   "outputs": [],
   "source": [
    "# Time dependent Area Under the Curve (AUC) for patients with BMI 20 - 30\n",
    "plt.rcParams[\"figure.figsize\"] = [10.50, 7.50]\n",
    "plt.rcParams.update({'font.size': 15})\n",
    "plt.plot(auc_mid_20_to_30_sbl_merged[0], auc_mid_20_to_30_sbl_merged[1], linestyle='dashed' , label=\"CoxPH Normalized SBL Merged (mean AUC = {:.3f})\".format(auc_mid_20_to_30_sbl_merged[2]))\n",
    "plt.plot(auc_mid_20_to_30_sbl_femur[0], auc_mid_20_to_30_sbl_femur[1], linestyle='dashdot' , label=\"CoxPH Normalized SBL Femur (mean AUC = {:.3f})\".format(auc_mid_20_to_30_sbl_femur[2]))\n",
    "plt.plot(auc_mid_20_to_30_sbl_tibia[0], auc_mid_20_to_30_sbl_tibia[1], linestyle='dotted' , label=\"CoxPH Normalized SBL Tibia (mean AUC = {:.3f})\".format(auc_mid_20_to_30_sbl_tibia[2]))\n",
    "plt.plot(auc_mid_20_to_30_BML_merged[0], auc_mid_20_to_30_BML_merged[1], linestyle='solid', label=\"CoxPH BML Merged(mean AUC = {:.3f})\".format(auc_mid_20_to_30_BML_merged[2]))\n",
    "plt.plot(auc_mid_20_to_30_BML_femur[0], auc_mid_20_to_30_BML_femur[1], linestyle='dashed',dashes=[7, 3, 7, 3], label=\"CoxPH BML Femur (mean AUC = {:.3f})\".format(auc_mid_20_to_30_BML_femur[2]))\n",
    "plt.plot(auc_mid_20_to_30_BML_tibia[0], auc_mid_20_to_30_BML_tibia[1], linestyle='dashed',dashes=[1, 3, 1, 3], label=\"CoxPH BML Tibia (mean AUC = {:.3f})\".format(auc_mid_20_to_30_BML_tibia[2]))\n",
    "plt.xlabel(\"Timeline (Days)\")\n",
    "plt.ylabel(\"Time-Dependent AUC\")\n",
    "plt.legend(loc=\"lower right\")\n",
    "plt.yticks(np.arange(0, 1.1, 0.2))\n",
    "plt.savefig('/home/tsurendr/AUC_Curves/AUC_mid_20_to_30_BMI_SBL_BML_ALL_SBL.pdf', format='tif', bbox_inches = 'tight')"
   ]
  },
  {
   "cell_type": "code",
   "execution_count": null,
   "metadata": {},
   "outputs": [],
   "source": [
    "# CPH Model for SBL Merged data for patients BMI > 30\n",
    "brier_score, bad_cols, auc_more_30_sbl_merged = cph_creator_SBL(more_30_sbl_merged, \"CPH Plot BML Female\")"
   ]
  },
  {
   "cell_type": "code",
   "execution_count": null,
   "metadata": {},
   "outputs": [],
   "source": [
    "# CPH Model for SBL Femur data for patients BMI > 30\n",
    "brier_score, bad_cols, auc_more_30_sbl_femur = cph_creator_SBL(more_30_sbl_femur, \"CPH Plot BML Female\")"
   ]
  },
  {
   "cell_type": "code",
   "execution_count": null,
   "metadata": {},
   "outputs": [],
   "source": [
    "# CPH Model for SBL Tibia data for patients BMI > 30\n",
    "brier_score, bad_cols, auc_more_30_sbl_tibia = cph_creator_SBL(more_30_sbl_tibia, \"CPH Plot BML Female\")"
   ]
  },
  {
   "cell_type": "code",
   "execution_count": null,
   "metadata": {},
   "outputs": [],
   "source": [
    "# CPH Model for BML Merged data for patients BMI > 30\n",
    "brier_score, bad_cols, auc_more_30_BML_merged = cph_creator_SBL(more_30_bml_merged, \"CPH Plot BML Female\")"
   ]
  },
  {
   "cell_type": "code",
   "execution_count": null,
   "metadata": {},
   "outputs": [],
   "source": [
    "# CPH Model for BML Femur data for patients BMI > 30\n",
    "brier_score, bad_cols, auc_more_30_BML_femur = cph_creator_SBL(more_30_bml_femur, \"CPH Plot BML Female\")"
   ]
  },
  {
   "cell_type": "code",
   "execution_count": null,
   "metadata": {},
   "outputs": [],
   "source": [
    "# CPH Model for BML Tibia data for patients BMI > 30\n",
    "brier_score, bad_cols, auc_more_30_BML_tibia = cph_creator_SBL(more_30_bml_tibia, \"CPH Plot BML Female\")"
   ]
  },
  {
   "cell_type": "code",
   "execution_count": null,
   "metadata": {},
   "outputs": [],
   "source": [
    "# Time dependent Area Under the Curve (AUC) for patients with BMI > 30\n",
    "plt.rcParams[\"figure.figsize\"] = [10.50, 7.50]\n",
    "plt.rcParams.update({'font.size': 15})\n",
    "plt.plot(auc_more_30_sbl_merged[0], auc_more_30_sbl_merged[1], linestyle='dashed' , label=\"CoxPH Normalized SBL Merged (mean AUC = {:.3f})\".format(auc_more_30_sbl_merged[2]))\n",
    "plt.plot(auc_more_30_sbl_femur[0], auc_more_30_sbl_femur[1], linestyle='dashdot' , label=\"CoxPH Normalized SBL Femur (mean AUC = {:.3f})\".format(auc_more_30_sbl_femur[2]))\n",
    "plt.plot(auc_more_30_sbl_tibia[0], auc_more_30_sbl_tibia[1], linestyle='dotted' , label=\"CoxPH Normalized SBL Tibia (mean AUC = {:.3f})\".format(auc_more_30_sbl_tibia[2]))\n",
    "plt.plot(auc_more_30_BML_merged[0], auc_more_30_BML_merged[1], linestyle='solid', label=\"CoxPH BML Merged (mean AUC = {:.3f})\".format(auc_more_30_BML_merged[2]))\n",
    "plt.plot(auc_more_30_BML_femur[0], auc_more_30_BML_femur[1], linestyle='dashed',dashes=[7, 3, 7, 3], label=\"CoxPH BML Femur (mean AUC = {:.3f})\".format(auc_more_30_BML_femur[2]))\n",
    "plt.plot(auc_more_30_BML_tibia[0], auc_more_30_BML_tibia[1], linestyle='dashed',dashes=[1, 3, 1, 3], label=\"CoxPH BML Tibia (mean AUC = {:.3f})\".format(auc_more_30_BML_tibia[2]))\n",
    "plt.xlabel(\"Timeline (Days)\")\n",
    "plt.ylabel(\"Time-Dependent AUC\")\n",
    "plt.legend(loc=\"lower right\")\n",
    "plt.yticks(np.arange(0, 1.1, 0.2))\n",
    "plt.savefig('/home/tsurendr/AUC_Curves/AUC_more_30_BMI_SBL_Merged_BML_ALL_SBL.pdf', format='tif', bbox_inches = 'tight')"
   ]
  }
 ],
 "metadata": {
  "kernelspec": {
   "display_name": "Python 3.9.13 ('neuro': conda)",
   "language": "python",
   "name": "python3"
  },
  "language_info": {
   "codemirror_mode": {
    "name": "ipython",
    "version": 3
   },
   "file_extension": ".py",
   "mimetype": "text/x-python",
   "name": "python",
   "nbconvert_exporter": "python",
   "pygments_lexer": "ipython3",
   "version": "3.9.12"
  },
  "orig_nbformat": 4,
  "vscode": {
   "interpreter": {
    "hash": "7c5ec2711fb9be5244b20562b562d0757efd7313fdacff057c04e89290da72bf"
   }
  }
 },
 "nbformat": 4,
 "nbformat_minor": 2
}
