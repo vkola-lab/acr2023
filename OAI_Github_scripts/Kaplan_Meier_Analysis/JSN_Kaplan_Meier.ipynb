{
 "cells": [
  {
   "cell_type": "code",
   "execution_count": 1,
   "metadata": {},
   "outputs": [
    {
     "data": {
      "text/plain": [
       "['/home/tsurendr/OAI_Github_scripts_paper_modifications',\n",
       " '/home/tsurendr/OAI_Github_scripts_paper_modifications/Kaplan_Meier_Analysis',\n",
       " '/home/tsurendr/.conda/envs/neuro/lib/python310.zip',\n",
       " '/home/tsurendr/.conda/envs/neuro/lib/python3.10',\n",
       " '/home/tsurendr/.conda/envs/neuro/lib/python3.10/lib-dynload',\n",
       " '',\n",
       " '/home/tsurendr/.conda/envs/neuro/lib/python3.10/site-packages',\n",
       " '/home/tsurendr/.conda/envs/neuro/lib/python3.10/site-packages/deepsurv-0.2.1-py3.10.egg']"
      ]
     },
     "execution_count": 1,
     "metadata": {},
     "output_type": "execute_result"
    }
   ],
   "source": [
    "import sys\n",
    "\n",
    "sys.path.insert(0, \"/home/tsurendr/OAI_Github_scripts_paper_modifications\")\n",
    "sys.path"
   ]
  },
  {
   "cell_type": "code",
   "execution_count": 2,
   "metadata": {},
   "outputs": [],
   "source": [
    "import pandas as pd\n",
    "import numpy as np\n",
    "import matplotlib.pyplot as plt\n",
    "from lifelines import KaplanMeierFitter\n",
    "from lifelines import CoxPHFitter\n",
    "import lifelines\n",
    "import math\n",
    "import sys\n",
    "from statistics import stdev\n",
    "from lifelines.statistics import logrank_test, multivariate_logrank_test,pairwise_logrank_test\n",
    "\n",
    "# Set the path of SBL and merge1 files and read the files\n",
    "loc_data = \"/data_1/OAI_SBL_Analysis_Data/\"\n",
    "loc_module = \"/home/tsurendr/OAI_Github_scripts\"\n",
    "loc_data_SBL = loc_data + \"SBL_0904.csv\"\n",
    "loc_merge1 = loc_data + \"merge1_KL.csv\"\n",
    "raw_data_SBL = pd.read_csv(loc_data_SBL)\n",
    "merge1 = pd.read_csv(loc_merge1)\n",
    "# load custom module \n",
    "sys.path.append(loc_module)"
   ]
  },
  {
   "cell_type": "code",
   "execution_count": 3,
   "metadata": {},
   "outputs": [],
   "source": [
    "sbl_col_names = [\"F\" + str(i) for i in range(200)] + [\n",
    "    \"T\" + str(i) for i in range(200)\n",
    "]  # femur: F0~ F199 , tibia: T0 ~ T199\n",
    "sbl_col_names_femur = [\"F\" + str(i) for i in range(200)]\n",
    "sbl_col_names_tibia = [\"T\" + str(i) for i in range(200)]"
   ]
  },
  {
   "attachments": {},
   "cell_type": "markdown",
   "metadata": {},
   "source": [
    "Organize with the following 3 variables:\n",
    "\n",
    "- data_SBL_both\n",
    "- data_SBL_femur\n",
    "- data_SBL_tibia\n"
   ]
  },
  {
   "cell_type": "code",
   "execution_count": 4,
   "metadata": {},
   "outputs": [
    {
     "name": "stdout",
     "output_type": "stream",
     "text": [
      "shape of sbl_KL_0_mean: (400,)\n",
      "      F0_merged  F1_merged  F2_merged  F3_merged  F4_merged  F5_merged  \\\n",
      "0      0.024314   0.009810   0.011005   0.052986   0.079013   0.118261   \n",
      "1      0.013703   0.019834   0.002094   0.201439   0.299686   0.337951   \n",
      "2      0.018291   0.030892   0.026733   0.014838   0.049785   0.089033   \n",
      "3      0.010937   0.021318   0.023385   0.009863   0.205972   0.340246   \n",
      "4      0.010937   0.021318   0.031250   0.053808   0.075563   0.091829   \n",
      "...         ...        ...        ...        ...        ...        ...   \n",
      "9429   0.022091   0.018734   0.024575   0.011616   0.083101   0.184055   \n",
      "9430   0.010937   0.021318   0.031250   0.053808   0.079013   0.118261   \n",
      "9431   0.010937   0.021318   0.031250   0.053808   0.079013   0.118261   \n",
      "9432   0.010937   0.021318   0.031250   0.053808   0.078623   0.076980   \n",
      "9433   0.041504   0.009010   0.031250   0.053808   0.079013   0.118261   \n",
      "\n",
      "      F6_merged  F7_merged  F8_merged  F9_merged  ...  T190_merged  \\\n",
      "0      0.164768   0.223948   0.290740   0.365775  ...     0.322035   \n",
      "1      0.349408   0.336273   0.307927   0.276380  ...     0.297686   \n",
      "2      0.139348   0.219827   0.235086   0.086939  ...     0.056359   \n",
      "3      0.365178   0.367687   0.359905   0.345575  ...     0.171703   \n",
      "4      0.097659   0.079845   0.040099   0.119337  ...     0.084089   \n",
      "...         ...        ...        ...        ...  ...          ...   \n",
      "9429   0.310770   0.381681   0.404955   0.390203  ...     0.194080   \n",
      "9430   0.164768   0.223948   0.277020   0.179052  ...     0.052726   \n",
      "9431   0.160563   0.044609   0.076055   0.129636  ...     0.330124   \n",
      "9432   0.038806   0.120514   0.241677   0.260914  ...     0.138564   \n",
      "9433   0.164768   0.223948   0.290740   0.365775  ...     0.322035   \n",
      "\n",
      "      T191_merged  T192_merged  T193_merged  T194_merged  T195_merged  \\\n",
      "0        0.270156     0.219636     0.171041     0.126708     0.085072   \n",
      "1        0.310398     0.293061     0.309424     0.335304     0.306818   \n",
      "2        0.215958     0.219636     0.171041     0.126708     0.085072   \n",
      "3        0.166001     0.170281     0.168802     0.098030     0.005806   \n",
      "4        0.120159     0.118117     0.089187     0.032959     0.059325   \n",
      "...           ...          ...          ...          ...          ...   \n",
      "9429     0.213772     0.225601     0.161804     0.036373     0.065341   \n",
      "9430     0.115170     0.168896     0.171041     0.126708     0.085072   \n",
      "9431     0.346392     0.364015     0.380595     0.398717     0.411988   \n",
      "9432     0.179713     0.198383     0.196057     0.199568     0.194952   \n",
      "9433     0.270156     0.219636     0.171041     0.126708     0.085072   \n",
      "\n",
      "      T196_merged  T197_merged  T198_merged  T199_merged  \n",
      "0        0.056588     0.030475     0.019186     0.005472  \n",
      "1        0.235238     0.153544     0.067911     0.005472  \n",
      "2        0.056588     0.030475     0.019186     0.005472  \n",
      "3        0.056588     0.030475     0.019186     0.005472  \n",
      "4        0.056588     0.030475     0.019186     0.005472  \n",
      "...           ...          ...          ...          ...  \n",
      "9429     0.056588     0.030475     0.019186     0.005472  \n",
      "9430     0.056588     0.030475     0.019186     0.005472  \n",
      "9431     0.392539     0.341983     0.207204     0.005472  \n",
      "9432     0.127582     0.050823     0.009511     0.005472  \n",
      "9433     0.056588     0.030475     0.019186     0.005472  \n",
      "\n",
      "[9434 rows x 400 columns]\n"
     ]
    }
   ],
   "source": [
    "##################################\n",
    "# normalize SBL for both at once #\n",
    "##################################\n",
    "raw_sbl_values = raw_data_SBL.loc[:, sbl_col_names].values\n",
    "sbl_values = np.empty_like(raw_sbl_values)  # for saving normalized SBL\n",
    "for row in range(raw_sbl_values.shape[0]):\n",
    "    sbl_values[row, :] = (\n",
    "        raw_sbl_values[row, :] / raw_sbl_values[row, :].mean()\n",
    "    )  # normalize by the averaged val. of SBL\n",
    "df_normalized_SBL = pd.DataFrame(sbl_values, columns=sbl_col_names)\n",
    "# get mean of Kellgren Lawrence (KL) grade 0\n",
    "sbl_KL_0_mean = df_normalized_SBL.loc[\n",
    "    (merge1[\"KL_Grade\"] == 0) , sbl_col_names\n",
    "].values.mean(0)\n",
    "\n",
    "print(f\"shape of sbl_KL_0_mean: {sbl_KL_0_mean.shape}\")\n",
    "baseline = sbl_KL_0_mean\n",
    "sbl_difference = df_normalized_SBL.loc[:, sbl_col_names].sub(baseline, axis=1)\n",
    "# absolute value of sbl difference.\n",
    "sbl_difference_absolute = sbl_difference.abs()\n",
    "sbl_difference_absolute.name = \"normalized_sbl\"\n",
    "df_normalized_SBL_both = pd.DataFrame(sbl_difference_absolute)\n",
    "df_normalized_SBL_both = df_normalized_SBL_both.add_suffix('_merged')\n",
    "print(df_normalized_SBL_both)"
   ]
  },
  {
   "cell_type": "code",
   "execution_count": 5,
   "metadata": {},
   "outputs": [
    {
     "name": "stdout",
     "output_type": "stream",
     "text": [
      "shape of sbl_KL_0_mean: (200,)\n",
      "      F0_femur  F1_femur  F2_femur  F3_femur  F4_femur  F5_femur  F6_femur  \\\n",
      "0     0.018121  0.007638  0.007515  0.038046  0.056767  0.084979  0.118464   \n",
      "1     0.010044  0.014247  0.001237  0.147069  0.218780  0.246966  0.255658   \n",
      "2     0.013065  0.022097  0.019111  0.010719  0.035816  0.064029  0.100243   \n",
      "3     0.007885  0.015326  0.016776  0.007292  0.148874  0.245872  0.263937   \n",
      "4     0.007885  0.015326  0.022451  0.038652  0.054315  0.066201  0.070786   \n",
      "...        ...       ...       ...       ...       ...       ...       ...   \n",
      "9429  0.016426  0.013424  0.017537  0.009506  0.062564  0.137552  0.231574   \n",
      "9430  0.007885  0.015326  0.022451  0.038652  0.056767  0.084979  0.118464   \n",
      "9431  0.007885  0.015326  0.022451  0.038652  0.056767  0.084979  0.115441   \n",
      "9432  0.007885  0.015326  0.022451  0.038652  0.056485  0.055179  0.027535   \n",
      "9433  0.028839  0.006707  0.022451  0.038652  0.056767  0.084979  0.118464   \n",
      "\n",
      "      F7_femur  F8_femur  F9_femur  ...  F190_femur  F191_femur  F192_femur  \\\n",
      "0     0.161093  0.209238  0.263337  ...    0.089110    0.171422    0.090384   \n",
      "1     0.246532  0.226360  0.203904  ...    0.002204    0.002665    0.020797   \n",
      "2     0.158139  0.169346  0.063469  ...    0.121107    0.062994    0.010509   \n",
      "3     0.265822  0.260256  0.249961  ...    0.099970    0.098615    0.061766   \n",
      "4     0.058714  0.025808  0.081313  ...    0.047678    0.000179    0.062624   \n",
      "...        ...       ...       ...  ...         ...         ...         ...   \n",
      "9429  0.284704  0.302855  0.293130  ...    0.043716    0.009098    0.001268   \n",
      "9430  0.161093  0.199607  0.132254  ...    0.051285    0.071818    0.068395   \n",
      "9431  0.032192  0.054398  0.092743  ...    0.144851    0.163937    0.121461   \n",
      "9432  0.087566  0.175101  0.189055  ...    0.061628    0.110214    0.090960   \n",
      "9433  0.161093  0.209238  0.263337  ...    0.336656    0.337511    0.313755   \n",
      "\n",
      "      F193_femur  F194_femur  F195_femur  F196_femur  F197_femur  F198_femur  \\\n",
      "0       0.016080    0.119321    0.134048    0.082569    0.005449    0.000561   \n",
      "1       0.036922    0.046834    0.042225    0.051531    0.101981    0.051208   \n",
      "2       0.030041    0.014543    0.103179    0.003083    0.256248    0.169474   \n",
      "3       0.018851    0.134359    0.057098    0.099427    0.115197    0.084267   \n",
      "4       0.076652    0.072244    0.055049    0.058180    0.086988    0.006652   \n",
      "...          ...         ...         ...         ...         ...         ...   \n",
      "9429    0.031876    0.128601    0.114658    0.093993    0.098602    0.118750   \n",
      "9430    0.065411    0.099291    0.108758    0.068232    0.048434    0.002913   \n",
      "9431    0.017282    0.032156    0.070110    0.162124    0.246285    0.266163   \n",
      "9432    0.058235    0.018907    0.029207    0.020322    0.037165    0.083732   \n",
      "9433    0.301521    0.265020    0.133530    0.078790    0.126251    0.124442   \n",
      "\n",
      "      F199_femur  \n",
      "0       0.089307  \n",
      "1       0.235774  \n",
      "2       0.043567  \n",
      "3       0.000585  \n",
      "4       0.235774  \n",
      "...          ...  \n",
      "9429    0.138528  \n",
      "9430    0.085973  \n",
      "9431    0.222879  \n",
      "9432    0.117022  \n",
      "9433    0.070512  \n",
      "\n",
      "[9434 rows x 200 columns]\n"
     ]
    }
   ],
   "source": [
    "###########################\n",
    "# normalize SBL for femur #\n",
    "###########################\n",
    "raw_sbl_values = raw_data_SBL.loc[:, sbl_col_names_femur].values\n",
    "sbl_values = np.empty_like(raw_sbl_values)  # for saving normalized SBL\n",
    "for row in range(raw_sbl_values.shape[0]):\n",
    "    sbl_values[row, :] = (\n",
    "        raw_sbl_values[row, :] / raw_sbl_values[row, :].mean()\n",
    "    )  # normalize by the averaged val. of SBL\n",
    "df_normalized_SBL = pd.DataFrame(sbl_values, columns=sbl_col_names_femur)\n",
    "# get mean of Kellgren Lawrence (KL) grade 0\n",
    "sbl_KL_0_mean = df_normalized_SBL.loc[\n",
    "    (merge1[\"KL_Grade\"] == 0) , sbl_col_names_femur\n",
    "].values.mean(0)\n",
    "print(f\"shape of sbl_KL_0_mean: {sbl_KL_0_mean.shape}\")\n",
    "baseline = sbl_KL_0_mean\n",
    "sbl_difference = df_normalized_SBL.loc[:, sbl_col_names_femur].sub(baseline, axis=1)\n",
    "# absolute value of sbl difference.\n",
    "sbl_difference_absolute = sbl_difference.abs()\n",
    "sbl_difference_absolute.name = \"normalized_sbl_femur\"\n",
    "df_normalized_SBL_femur = pd.DataFrame(sbl_difference_absolute)\n",
    "df_normalized_SBL_femur = df_normalized_SBL_femur.add_suffix('_femur')\n",
    "print(df_normalized_SBL_femur)"
   ]
  },
  {
   "cell_type": "code",
   "execution_count": 6,
   "metadata": {},
   "outputs": [
    {
     "name": "stdout",
     "output_type": "stream",
     "text": [
      "shape of sbl_KL_0_mean: (200,)\n",
      "      T0_tibia  T1_tibia  T2_tibia  T3_tibia  T4_tibia  T5_tibia  T6_tibia  \\\n",
      "0     0.301952  0.325814  0.256355  0.122554  0.088898  0.061168  0.026069   \n",
      "1     0.301952  0.388695  0.341094  0.133392  0.070244  0.057986  0.045945   \n",
      "2     0.197341  0.200637  0.216932  0.234500  0.218031  0.174787  0.133464   \n",
      "3     0.079798  0.031405  0.019653  0.031731  0.033399  0.026103  0.004322   \n",
      "4     0.125026  0.113558  0.113332  0.106838  0.094182  0.071969  0.066063   \n",
      "...        ...       ...       ...       ...       ...       ...       ...   \n",
      "9429  0.148573  0.066767  0.042459  0.048942  0.028361  0.009301  0.041774   \n",
      "9430  0.301952  0.421591  0.291075  0.229067  0.187717  0.145044  0.127339   \n",
      "9431  0.007530  0.007900  0.023079  0.034945  0.032252  0.001532  0.020451   \n",
      "9432  0.233265  0.039571  0.074359  0.089772  0.068112  0.084114  0.089373   \n",
      "9433  0.034177  0.023643  0.012957  0.016503  0.001989  0.050278  0.068061   \n",
      "\n",
      "      T7_tibia  T8_tibia  T9_tibia  ...  T190_tibia  T191_tibia  T192_tibia  \\\n",
      "0     0.017032  0.008069  0.069176  ...    0.523914    0.439253    0.356969   \n",
      "1     0.061667  0.090304  0.080125  ...    0.466619    0.488677    0.462500   \n",
      "2     0.093441  0.091576  0.160092  ...    0.084710    0.349655    0.356969   \n",
      "3     0.006245  0.012941  0.020583  ...    0.280011    0.270918    0.277910   \n",
      "4     0.070985  0.092020  0.101931  ...    0.161584    0.219560    0.213125   \n",
      "...        ...       ...       ...  ...         ...         ...         ...   \n",
      "9429  0.059470  0.062117  0.055937  ...    0.280671    0.315156    0.337123   \n",
      "9430  0.157094  0.164555  0.132223  ...    0.055984    0.169962    0.268808   \n",
      "9431  0.016580  0.022569  0.047955  ...    0.547463    0.573621    0.601862   \n",
      "9432  0.068657  0.048349  0.034630  ...    0.225367    0.292574    0.323045   \n",
      "9433  0.080122  0.122873  0.148095  ...    0.523914    0.439253    0.356969   \n",
      "\n",
      "      T193_tibia  T194_tibia  T195_tibia  T196_tibia  T197_tibia  T198_tibia  \\\n",
      "0       0.277829    0.205763    0.138126    0.091828    0.049380    0.031077   \n",
      "1       0.490121    0.532694    0.488253    0.374611    0.244747    0.108135   \n",
      "2       0.277829    0.205763    0.138126    0.091828    0.049380    0.031077   \n",
      "3       0.275517    0.160164    0.009846    0.091828    0.049380    0.031077   \n",
      "4       0.161409    0.063738    0.094667    0.091828    0.049380    0.031077   \n",
      "...          ...         ...         ...         ...         ...         ...   \n",
      "9429    0.241051    0.064938    0.107367    0.091828    0.049380    0.031077   \n",
      "9430    0.277829    0.205763    0.138126    0.091828    0.049380    0.031077   \n",
      "9431    0.628406    0.657413    0.678452    0.646005    0.562499    0.340841   \n",
      "9432    0.319348    0.325008    0.317404    0.207771    0.082873    0.015607   \n",
      "9433    0.277829    0.205763    0.138126    0.091828    0.049380    0.031077   \n",
      "\n",
      "      T199_tibia  \n",
      "0       0.008828  \n",
      "1       0.008828  \n",
      "2       0.008828  \n",
      "3       0.008828  \n",
      "4       0.008828  \n",
      "...          ...  \n",
      "9429    0.008828  \n",
      "9430    0.008828  \n",
      "9431    0.008828  \n",
      "9432    0.008828  \n",
      "9433    0.008828  \n",
      "\n",
      "[9434 rows x 200 columns]\n"
     ]
    }
   ],
   "source": [
    "###########################\n",
    "# normalize SBL for tibia #\n",
    "###########################\n",
    "raw_sbl_values = raw_data_SBL.loc[:, sbl_col_names_tibia].values\n",
    "sbl_values = np.empty_like(raw_sbl_values)  # for saving normalized SBL\n",
    "for row in range(raw_sbl_values.shape[0]):\n",
    "    sbl_values[row, :] = (\n",
    "        raw_sbl_values[row, :] / raw_sbl_values[row, :].mean()\n",
    "    )  # normalize by the averaged val. of SBL\n",
    "df_normalized_SBL = pd.DataFrame(sbl_values, columns=sbl_col_names_tibia)\n",
    "# get mean of Kellgren Lawrence (KL) grade 0\n",
    "sbl_KL_0_mean = df_normalized_SBL.loc[\n",
    "    (merge1[\"KL_Grade\"] == 0) , sbl_col_names_tibia\n",
    "].values.mean(0)\n",
    "print(f\"shape of sbl_KL_0_mean: {sbl_KL_0_mean.shape}\")\n",
    "baseline = sbl_KL_0_mean\n",
    "sbl_difference = df_normalized_SBL.loc[:, sbl_col_names_tibia].sub(baseline, axis=1)\n",
    "# absolute value of sbl difference.\n",
    "sbl_difference_absolute = sbl_difference.abs()\n",
    "sbl_difference_absolute.name = \"normalized_sbl_tibia\"\n",
    "df_normalized_SBL_tibia = pd.DataFrame(sbl_difference_absolute)\n",
    "df_normalized_SBL_tibia = df_normalized_SBL_tibia.add_suffix('_tibia')\n",
    "print(df_normalized_SBL_tibia)"
   ]
  },
  {
   "cell_type": "code",
   "execution_count": 7,
   "metadata": {},
   "outputs": [],
   "source": [
    "# Combining 3 Variables: df_normalized_SBL_both, df_normalized_SBL_femur, df_normalized_SBL_tibia\n",
    "data_SBL = pd.merge(\n",
    "    raw_data_SBL, df_normalized_SBL_both, right_index=True, left_index=True\n",
    ")  # merge df_normalized_SBL_both\n",
    "data_SBL = pd.merge(\n",
    "    data_SBL, df_normalized_SBL_femur, right_index=True, left_index=True\n",
    ")  # merge df_normalized_SBL_femur\n",
    "data_SBL = pd.merge(\n",
    "    data_SBL, df_normalized_SBL_tibia, right_index=True, left_index=True\n",
    ")  # merge df_normalized_SBL_tibia"
   ]
  },
  {
   "cell_type": "code",
   "execution_count": 8,
   "metadata": {},
   "outputs": [
    {
     "name": "stdout",
     "output_type": "stream",
     "text": [
      "total number of baseline knees 9434\n"
     ]
    }
   ],
   "source": [
    "# Splitting data by knee side(right/left) and formatting columns appropriately \n",
    "print(\"total number of baseline knees\", len(data_SBL))\n",
    "data_SBL[\"id\"] = data_SBL[\"id\"].astype(str)\n",
    "data_BioMarkers = pd.read_csv(loc_data + \"Biomarker_data.csv\")\n",
    "data_SBL = data_SBL.drop([\"Unnamed: 0\"], axis=1)\n",
    "data_BioMarkers = data_BioMarkers.drop([\"Unnamed: 0\"], axis=1)\n",
    "side_SBL_temp = data_SBL.groupby(\"SIDE\")\n",
    "side_1_SBL_Right = side_SBL_temp.get_group(1)\n",
    "side_2_SBL_Left = side_SBL_temp.get_group(2)"
   ]
  },
  {
   "cell_type": "code",
   "execution_count": 9,
   "metadata": {},
   "outputs": [
    {
     "name": "stdout",
     "output_type": "stream",
     "text": [
      "total number of right knees 4727\n",
      "total number of left knees 4707\n"
     ]
    }
   ],
   "source": [
    "print(\"total number of right knees\", len(side_1_SBL_Right))\n",
    "print(\"total number of left knees\", len(side_2_SBL_Left))"
   ]
  },
  {
   "cell_type": "code",
   "execution_count": 10,
   "metadata": {},
   "outputs": [
    {
     "name": "stdout",
     "output_type": "stream",
     "text": [
      "Before data drop mri data 4796\n",
      "complete mri data 4650\n",
      "number of drop: 146\n",
      "oai Data:  4650\n"
     ]
    }
   ],
   "source": [
    "# settings\n",
    "NUM_YEARS = 11.0  \n",
    "encoding = \"utf-8\"\n",
    "# read and preprocessing\n",
    "raw_df = pd.read_sas(loc_data + \"outcomes99.sas7bdat\")\n",
    "# must censor data per knee\n",
    "print(\"Before data drop mri data\", len(raw_df))\n",
    "df = raw_df.dropna(axis=0, subset=[\"V99RNTCNT\"])\n",
    "print(\"complete mri data\", len(df))\n",
    "print(f\"number of drop: {len(raw_df)-len(df)}\")\n",
    "df = df.copy()\n",
    "df.loc[:, \"id\"] = df[\"id\"].apply(lambda x: str(x, encoding))\n",
    "\n",
    "merge1 = merge1.dropna(axis=0, subset=[\"P02SEX\"])\n",
    "merge1 = merge1.dropna(axis=0, subset=[\"V00AGE\"])\n",
    "merge1 = merge1.dropna(axis=0, subset=[\"V00XRJSM\"])\n",
    "merge1 = merge1.dropna(axis=0, subset=[\"V00XRJSL\"])\n",
    "merge1[\"id\"] = merge1[\"id\"].astype(str)\n",
    "merge1_temp = merge1.groupby(\"SIDE\")\n",
    "merge1_right = merge1_temp.get_group(1)\n",
    "merge1_left = merge1_temp.get_group(2)\n",
    "\n",
    "df_8_years = df[df[\"V99RNTCNT\"] <= NUM_YEARS].copy()  \n",
    "print(\"oai Data: \", len(df_8_years))"
   ]
  },
  {
   "cell_type": "code",
   "execution_count": 11,
   "metadata": {},
   "outputs": [],
   "source": [
    "# KL Grade information preprocessing for right knees\n",
    "data_KL_grade_right = pd.read_csv(loc_data + \"rightFilteredklMEAS.csv\")\n",
    "data_KL_grade_right = data_KL_grade_right.drop([\"Unnamed: 0\"], axis=1)\n",
    "data_KL_grade_right = data_KL_grade_right.dropna(axis=0, subset=[\"V00XRKLR\"])\n",
    "data_KL_grade_right[\"id\"] = data_KL_grade_right[\"id\"].astype(str)"
   ]
  },
  {
   "cell_type": "code",
   "execution_count": 12,
   "metadata": {},
   "outputs": [],
   "source": [
    "# KL Grade information preprocessing for left knees\n",
    "data_KL_grade_left = pd.read_csv(loc_data + \"leftFilteredklMEAS.csv\")\n",
    "data_KL_grade_left = data_KL_grade_left.drop([\"Unnamed: 0\"], axis=1)\n",
    "data_KL_grade_left = data_KL_grade_left.dropna(axis=0, subset=[\"V00XRKLL\"])\n",
    "data_KL_grade_left[\"id\"] = data_KL_grade_left[\"id\"].astype(str)"
   ]
  },
  {
   "cell_type": "code",
   "execution_count": 13,
   "metadata": {},
   "outputs": [
    {
     "name": "stdout",
     "output_type": "stream",
     "text": [
      "bml right Data:  1587\n"
     ]
    }
   ],
   "source": [
    "# BML information preprocessing for right knees. \n",
    "# right side\n",
    "data_BML_right = pd.read_csv(loc_data + \"rightFilteredbmlMoaks.csv\")\n",
    "data_BML_right[\"id\"] = data_BML_right[\"id\"].astype(str)\n",
    "\n",
    "data_BML_right = data_BML_right.drop([\"Unnamed: 0\"], axis=1)\n",
    "data_BML_right = data_BML_right.dropna(axis=0, subset=['V00MBMSFMA',\n",
    "'V00MBMSFLA',\n",
    "'V00MBMSFMC',\n",
    "'V00MBMSFLC',\n",
    "'V00MBMSFMP',\n",
    "'V00MBMSFLP',\n",
    "'V00MBMSSS',\n",
    "'V00MBMSTMA',\n",
    "'V00MBMSTLA',\n",
    "'V00MBMSTMC',\n",
    "'V00MBMSTLC',\n",
    "'V00MBMSTMP',\n",
    "'V00MBMSTLP'])\n",
    "\n",
    "# For verification after data processing\n",
    "print(\"bml right Data: \", len(data_BML_right))\n"
   ]
  },
  {
   "cell_type": "code",
   "execution_count": 14,
   "metadata": {},
   "outputs": [],
   "source": [
    "# Race Data, dropping patients with missing data\n",
    "race_data = pd.read_csv('/data_1/OAI_Backup/MeasInventory.csv')\n",
    "race_data = race_data.dropna(axis=0, subset=['P02RACE'])\n",
    "race_data = race_data.drop(columns=['V00AGE'])\n",
    "race_data = race_data.drop(columns=['P02SEX'])\n",
    "race_data = race_data.drop(columns=['V00XRKLR'])\n",
    "race_data = race_data.drop(columns=['V00XRKLL'])\n",
    "race_data['id'] = race_data['id'].astype(str)\n"
   ]
  },
  {
   "cell_type": "code",
   "execution_count": 15,
   "metadata": {},
   "outputs": [
    {
     "name": "stdout",
     "output_type": "stream",
     "text": [
      "1587\n",
      "1584\n",
      "1257\n"
     ]
    }
   ],
   "source": [
    "# Merging all right knee info, including demographics, TKR, KL Grade, BML, etc...\n",
    "oai_bml_merge_right = pd.merge(df_8_years, data_BML_right, how=\"inner\", on=[\"id\"])\n",
    "oai_bml_SBL_KL_merge_right_pre = pd.merge(\n",
    "    oai_bml_merge_right, side_1_SBL_Right, how=\"inner\", on=[\"id\"]\n",
    ")\n",
    "print(len(oai_bml_SBL_KL_merge_right_pre))\n",
    "\n",
    "oai_bml_SBL_KL_merge_right_age_pre_1 = pd.merge(\n",
    "    oai_bml_SBL_KL_merge_right_pre, data_KL_grade_right, how=\"inner\", on=[\"id\"]\n",
    ")\n",
    "oai_bml_SBL_KL_merge_right_pre = pd.merge(\n",
    "    oai_bml_SBL_KL_merge_right_age_pre_1, merge1_right, how=\"inner\", on=[\"id\"]\n",
    ")\n",
    "\n",
    "\n",
    "oai_bml_SBL_KL_merge_right = pd.merge(\n",
    "    oai_bml_SBL_KL_merge_right_pre, race_data, how=\"inner\", on=[\"id\"]\n",
    ")\n",
    "print(len(oai_bml_SBL_KL_merge_right))\n",
    "\n",
    "oai_bml_SBL_KL_merge_right.drop_duplicates(subset=[\"id\"], inplace=True, keep=\"last\")\n",
    "oai_bml_SBL_KL_merge_right.reset_index(drop=True, inplace=True)\n",
    "print(len(oai_bml_SBL_KL_merge_right))\n"
   ]
  },
  {
   "cell_type": "code",
   "execution_count": 16,
   "metadata": {},
   "outputs": [
    {
     "name": "stdout",
     "output_type": "stream",
     "text": [
      "True\n"
     ]
    }
   ],
   "source": [
    "if 'V00XRJSM' in oai_bml_SBL_KL_merge_right:\n",
    "    print(True)\n",
    "else:\n",
    "    print(False)"
   ]
  },
  {
   "cell_type": "code",
   "execution_count": 17,
   "metadata": {},
   "outputs": [
    {
     "name": "stdout",
     "output_type": "stream",
     "text": [
      "True\n"
     ]
    }
   ],
   "source": [
    "if 'V00XRJSL' in oai_bml_SBL_KL_merge_right:\n",
    "    print(True)\n",
    "else:\n",
    "    print(False)"
   ]
  },
  {
   "cell_type": "code",
   "execution_count": 18,
   "metadata": {},
   "outputs": [
    {
     "name": "stdout",
     "output_type": "stream",
     "text": [
      "bml left Data:  1366\n"
     ]
    }
   ],
   "source": [
    "# BML information preprocessing for left knees. \n",
    "# left side\n",
    "data_BML_left = pd.read_csv(loc_data + \"leftFilteredbmlMoaks.csv\")\n",
    "data_BML_left[\"id\"] = data_BML_left[\"id\"].astype(str)\n",
    "\n",
    "data_BML_left = data_BML_left.drop([\"Unnamed: 0\"], axis=1)\n",
    "data_BML_left = data_BML_left.dropna(axis=0, subset=['V00MBMSFMA',\n",
    "'V00MBMSFLA',\n",
    "'V00MBMSFMC',\n",
    "'V00MBMSFLC',\n",
    "'V00MBMSFMP',\n",
    "'V00MBMSFLP',\n",
    "'V00MBMSSS',\n",
    "'V00MBMSTMA',\n",
    "'V00MBMSTLA',\n",
    "'V00MBMSTMC',\n",
    "'V00MBMSTLC',\n",
    "'V00MBMSTMP',\n",
    "'V00MBMSTLP'])\n",
    "\n",
    "# For verification after data processing\n",
    "print(\"bml left Data: \", len(data_BML_left))"
   ]
  },
  {
   "cell_type": "code",
   "execution_count": 19,
   "metadata": {},
   "outputs": [
    {
     "name": "stdout",
     "output_type": "stream",
     "text": [
      "1083\n"
     ]
    }
   ],
   "source": [
    "# Merging all left knee info, including demographics, TKR, KL Grade, BML, etc...\n",
    "oai_bml_merge_left = pd.merge(df_8_years, data_BML_left, how=\"inner\", on=[\"id\"])\n",
    "oai_bml_SBL_KL_merge_left_pre = pd.merge(\n",
    "    oai_bml_merge_left, side_2_SBL_Left, how=\"inner\", on=[\"id\"]\n",
    ")\n",
    "oai_bml_SBL_KL_merge_left_age_pre_1 = pd.merge(\n",
    "    oai_bml_SBL_KL_merge_left_pre, data_KL_grade_left, how=\"inner\", on=[\"id\"]\n",
    ") \n",
    "\n",
    "oai_bml_SBL_KL_merge_left_pre = pd.merge(\n",
    "    oai_bml_SBL_KL_merge_left_age_pre_1, merge1_left, how=\"inner\", on=[\"id\"]\n",
    ")\n",
    "\n",
    "oai_bml_SBL_KL_merge_left = pd.merge(\n",
    "    oai_bml_SBL_KL_merge_left_pre, race_data, how=\"inner\", on=[\"id\"]\n",
    ")\n",
    "oai_bml_SBL_KL_merge_left.drop_duplicates(subset=[\"id\"], inplace=True, keep=\"last\")\n",
    "oai_bml_SBL_KL_merge_left.reset_index(drop=True, inplace=True)\n",
    "print(len(oai_bml_SBL_KL_merge_left))\n"
   ]
  },
  {
   "cell_type": "code",
   "execution_count": 20,
   "metadata": {},
   "outputs": [
    {
     "name": "stdout",
     "output_type": "stream",
     "text": [
      "True\n"
     ]
    }
   ],
   "source": [
    "if 'V00XRJSM' in oai_bml_SBL_KL_merge_left:\n",
    "    print(True)\n",
    "else:\n",
    "    print(False)"
   ]
  },
  {
   "cell_type": "code",
   "execution_count": 21,
   "metadata": {},
   "outputs": [
    {
     "name": "stdout",
     "output_type": "stream",
     "text": [
      "True\n"
     ]
    }
   ],
   "source": [
    "if 'V00XRJSL' in oai_bml_SBL_KL_merge_left:\n",
    "    print(True)\n",
    "else:\n",
    "    print(False)"
   ]
  },
  {
   "cell_type": "code",
   "execution_count": 22,
   "metadata": {},
   "outputs": [
    {
     "name": "stdout",
     "output_type": "stream",
     "text": [
      "0\n",
      "0\n"
     ]
    }
   ],
   "source": [
    "print(oai_bml_SBL_KL_merge_right['V00XRJSM'].isnull().sum())\n",
    "print(oai_bml_SBL_KL_merge_right['V00XRJSL'].isnull().sum())"
   ]
  },
  {
   "cell_type": "code",
   "execution_count": 23,
   "metadata": {},
   "outputs": [
    {
     "name": "stdout",
     "output_type": "stream",
     "text": [
      "0\n",
      "0\n"
     ]
    }
   ],
   "source": [
    "print(oai_bml_SBL_KL_merge_left['V00XRJSM'].isnull().sum())\n",
    "print(oai_bml_SBL_KL_merge_left['V00XRJSL'].isnull().sum())"
   ]
  },
  {
   "attachments": {},
   "cell_type": "markdown",
   "metadata": {},
   "source": [
    "# Process for restricting dataset\n"
   ]
  },
  {
   "cell_type": "code",
   "execution_count": 24,
   "metadata": {},
   "outputs": [],
   "source": [
    "# need 3 groups representing merged femur and tibia. \n",
    "\n",
    "femur_column_list = ['V00MBMSFMA',\n",
    "'V00MBMSFLA',\n",
    "'V00MBMSFMC',\n",
    "'V00MBMSFLC',\n",
    "'V00MBMSFMP',\n",
    "'V00MBMSFLP']\n",
    "\n",
    "tibia_column_list = ['V00MBMSSS',\n",
    "'V00MBMSTMA',\n",
    "'V00MBMSTLA',\n",
    "'V00MBMSTMC',\n",
    "'V00MBMSTLC',\n",
    "'V00MBMSTMP',\n",
    "'V00MBMSTLP']\n",
    "\n",
    "merged_column_list = ['V00MBMSFMA',\n",
    "'V00MBMSFLA',\n",
    "'V00MBMSFMC',\n",
    "'V00MBMSFLC',\n",
    "'V00MBMSFMP',\n",
    "'V00MBMSFLP',\n",
    "'V00MBMSSS',\n",
    "'V00MBMSTMA',\n",
    "'V00MBMSTLA',\n",
    "'V00MBMSTMC',\n",
    "'V00MBMSTLC',\n",
    "'V00MBMSTMP',\n",
    "'V00MBMSTLP']\n"
   ]
  },
  {
   "cell_type": "code",
   "execution_count": 25,
   "metadata": {},
   "outputs": [
    {
     "name": "stdout",
     "output_type": "stream",
     "text": [
      "total knees on right side:  1257\n",
      "censored right knees:  1084\n",
      "proper right knee tkr:  173\n",
      "[1. 2. 3. 0.]\n",
      "total knees on left side:  1083\n",
      "censored left knees:  923\n",
      "proper left knee tkr:  160\n",
      "[3. 2. 1. 0.]\n",
      "           id version  V99RNTCNT V99ERKDATE  V99ERKFLDT  V99ERKRPCF_x  \\\n",
      "0     9001400   b'10'       11.0        NaT         NaN           NaN   \n",
      "1     9001695   b'10'        9.0        NaT         NaN           NaN   \n",
      "2     9001897   b'10'       11.0        NaT         NaN           NaN   \n",
      "3     9002430   b'10'       11.0 2010-02-15         1.0           3.0   \n",
      "4     9002817   b'10'       11.0        NaT         NaN           NaN   \n",
      "...       ...     ...        ...        ...         ...           ...   \n",
      "1252  9996098   b'10'       11.0        NaT         NaN           NaN   \n",
      "1253  9996865   b'10'       11.0        NaT         NaN           NaN   \n",
      "1254  9997381   b'10'       11.0        NaT         NaN           NaN   \n",
      "1255  9999510   b'10'       11.0        NaT         NaN           NaN   \n",
      "1256  9999862   b'10'       11.0        NaT         NaN           NaN   \n",
      "\n",
      "      V99ERKTLPR  V99ERKTPPR  V99ERKBLRP_x  V99ERKVSRP_x  ...  \\\n",
      "0            NaN         NaN           NaN           NaN  ...   \n",
      "1            NaN         NaN           NaN           NaN  ...   \n",
      "2            NaN         NaN           NaN           NaN  ...   \n",
      "3            2.0         2.0           0.0           7.0  ...   \n",
      "4            NaN         NaN           NaN           NaN  ...   \n",
      "...          ...         ...           ...           ...  ...   \n",
      "1252         NaN         NaN           NaN           NaN  ...   \n",
      "1253         NaN         NaN           NaN           NaN  ...   \n",
      "1254         NaN         NaN           NaN           NaN  ...   \n",
      "1255         NaN         NaN           NaN           NaN  ...   \n",
      "1256         NaN         NaN           NaN           NaN  ...   \n",
      "\n",
      "          V99ERHRPSN_y      V99ELHRPSN_y      V99ERKVSRP_y      V99ELKVSRP_y  \\\n",
      "0     .A: Not Expected  .A: Not Expected  .A: Not Expected  .A: Not Expected   \n",
      "1     .A: Not Expected  .A: Not Expected  .A: Not Expected  .A: Not Expected   \n",
      "2     .A: Not Expected  .A: Not Expected  .A: Not Expected  .A: Not Expected   \n",
      "3     .A: Not Expected  .A: Not Expected       7: 60-month  .A: Not Expected   \n",
      "4     .A: Not Expected  .A: Not Expected  .A: Not Expected  .A: Not Expected   \n",
      "...                ...               ...               ...               ...   \n",
      "1252  .A: Not Expected  .A: Not Expected  .A: Not Expected  .A: Not Expected   \n",
      "1253  .A: Not Expected  .A: Not Expected  .A: Not Expected  .A: Not Expected   \n",
      "1254  .A: Not Expected  .A: Not Expected  .A: Not Expected  .A: Not Expected   \n",
      "1255  .A: Not Expected  .A: Not Expected  .A: Not Expected  .A: Not Expected   \n",
      "1256  .A: Not Expected  .A: Not Expected  .A: Not Expected  .A: Not Expected   \n",
      "\n",
      "          V99ERHVSRP_y      V99ELHVSRP_y  right_tkr bml_total_merged  \\\n",
      "0     .A: Not Expected  .A: Not Expected          0              1.0   \n",
      "1     .A: Not Expected  .A: Not Expected          0              2.0   \n",
      "2     .A: Not Expected  .A: Not Expected          0              1.0   \n",
      "3     .A: Not Expected  .A: Not Expected          1              1.0   \n",
      "4     .A: Not Expected  .A: Not Expected          0              3.0   \n",
      "...                ...               ...        ...              ...   \n",
      "1252  .A: Not Expected  .A: Not Expected          0              1.0   \n",
      "1253  .A: Not Expected  .A: Not Expected          0              3.0   \n",
      "1254  .A: Not Expected  .A: Not Expected          0              1.0   \n",
      "1255  .A: Not Expected  .A: Not Expected          0              2.0   \n",
      "1256  .A: Not Expected  .A: Not Expected          0              1.0   \n",
      "\n",
      "      bml_total_femur  bml_total_tibia  \n",
      "0                 1.0              0.0  \n",
      "1                 1.0              2.0  \n",
      "2                 0.0              1.0  \n",
      "3                 1.0              0.0  \n",
      "4                 2.0              3.0  \n",
      "...               ...              ...  \n",
      "1252              1.0              1.0  \n",
      "1253              3.0              2.0  \n",
      "1254              0.0              1.0  \n",
      "1255              2.0              0.0  \n",
      "1256              1.0              0.0  \n",
      "\n",
      "[1257 rows x 1923 columns]\n"
     ]
    }
   ],
   "source": [
    "# Determining the largest BML in each knee based on if it is a Merged, Femur, or Tibia model\n",
    "# For both left and right knees\n",
    "\n",
    "# right side\n",
    "right_knee_tkr = oai_bml_SBL_KL_merge_right[\n",
    "    (oai_bml_SBL_KL_merge_right[\"V99RNTCNT\"] <= NUM_YEARS)\n",
    "    & (oai_bml_SBL_KL_merge_right[\"V99ERKDAYS\"].isnull() == False)\n",
    "]\n",
    "print(\"total knees on right side: \", len(oai_bml_SBL_KL_merge_right))\n",
    "print(\"censored right knees: \", len(oai_bml_SBL_KL_merge_right) - len(right_knee_tkr))\n",
    "print(\"proper right knee tkr: \", len(right_knee_tkr))\n",
    "oai_bml_SBL_KL_merge_right[\"right_tkr\"] = np.where(\n",
    "    oai_bml_SBL_KL_merge_right[\"id\"].isin(right_knee_tkr[\"id\"]) == True, 1, 0\n",
    ")\n",
    "oai_bml_SBL_KL_merge_right[\"bml_total_merged\"] = oai_bml_SBL_KL_merge_right[merged_column_list].max(axis=1)\n",
    "oai_bml_SBL_KL_merge_right[\"bml_total_femur\"] = oai_bml_SBL_KL_merge_right[femur_column_list].max(axis=1)\n",
    "oai_bml_SBL_KL_merge_right[\"bml_total_tibia\"] = oai_bml_SBL_KL_merge_right[tibia_column_list].max(axis=1)\n",
    "print(oai_bml_SBL_KL_merge_right[\"bml_total_merged\"].unique())\n",
    "\n",
    "# left side\n",
    "left_knee_tkr = oai_bml_SBL_KL_merge_left[\n",
    "    (oai_bml_SBL_KL_merge_left[\"V99RNTCNT\"] <= NUM_YEARS)\n",
    "    & (oai_bml_SBL_KL_merge_left[\"V99ELKDAYS\"].isnull() == False)\n",
    "]\n",
    "\n",
    "print(\"total knees on left side: \", len(oai_bml_SBL_KL_merge_left))\n",
    "print(\"censored left knees: \", len(oai_bml_SBL_KL_merge_left) - len(left_knee_tkr))\n",
    "print(\"proper left knee tkr: \", len(left_knee_tkr))\n",
    "\n",
    "oai_bml_SBL_KL_merge_left[\"right_tkr\"] = np.where(\n",
    "    oai_bml_SBL_KL_merge_left[\"id\"].isin(left_knee_tkr[\"id\"]) == True, 1, 0\n",
    ") \n",
    "\n",
    "oai_bml_SBL_KL_merge_left[\"bml_total_merged\"] = oai_bml_SBL_KL_merge_left[merged_column_list].max(axis = 1)\n",
    "oai_bml_SBL_KL_merge_left[\"bml_total_femur\"] = oai_bml_SBL_KL_merge_left[femur_column_list].max(axis = 1)\n",
    "oai_bml_SBL_KL_merge_left[\"bml_total_tibia\"] = oai_bml_SBL_KL_merge_left[tibia_column_list].max(axis = 1)\n",
    "print(oai_bml_SBL_KL_merge_left[\"bml_total_merged\"].unique())\n",
    "\n",
    "print(oai_bml_SBL_KL_merge_right)"
   ]
  },
  {
   "cell_type": "code",
   "execution_count": 26,
   "metadata": {},
   "outputs": [
    {
     "data": {
      "image/png": "[encoded data removed]",
      "text/plain": [
       "<Figure size 640x480 with 1 Axes>"
      ]
     },
     "metadata": {},
     "output_type": "display_data"
    }
   ],
   "source": [
    "# Determining which patiets had a TKR and if not, what their most recent time of follow-up was.\n",
    "from time_adder import add_time\n",
    "\n",
    "oai_SBL_KL_BML_right = add_time(oai_bml_SBL_KL_merge_right, \"right\")\n",
    "oai_SBL_KL_BML_left = add_time(oai_bml_SBL_KL_merge_left, \"left\")"
   ]
  },
  {
   "cell_type": "code",
   "execution_count": 27,
   "metadata": {},
   "outputs": [],
   "source": [
    "jsn_list = ['V00XRJSM',\n",
    "'V00XRJSL']\n",
    "oai_bml_SBL_KL_merge_right[\"jsn_total_merged\"] = oai_bml_SBL_KL_merge_right[jsn_list].max(axis=1)\n",
    "oai_bml_SBL_KL_merge_left[\"jsn_total_merged\"] = oai_bml_SBL_KL_merge_left[jsn_list].max(axis = 1)\n"
   ]
  },
  {
   "cell_type": "code",
   "execution_count": 28,
   "metadata": {},
   "outputs": [],
   "source": [
    "# Selecting columns from left and right knee info, to merge into 1 table for each SBL and BML model\n",
    "# right side\n",
    "oai_right_temp_SBL_Merged_right = pd.concat( [oai_SBL_KL_BML_right.loc[:, 'F0_merged':'T199_merged'], oai_SBL_KL_BML_right[\n",
    "    ['id',\"time\", \"right_tkr\", \"P02SEX\",'bml_total_merged','KL_Grade']]], axis = 1)\n",
    "\n",
    "oai_right_temp_SBL_Femur_right = pd.concat( [oai_SBL_KL_BML_right.loc[:, 'F0_femur':'F199_femur'], oai_SBL_KL_BML_right[\n",
    "    ['id',\"time\", \"right_tkr\", \"P02SEX\",'bml_total_femur','KL_Grade']]], axis = 1)\n",
    "\n",
    "oai_right_temp_SBL_Tibia_right = pd.concat( [oai_SBL_KL_BML_right.loc[:, 'T0_tibia':'T199_tibia'], oai_SBL_KL_BML_right[\n",
    "    ['id',\"time\", \"right_tkr\", \"P02SEX\",'bml_total_tibia','KL_Grade']]], axis = 1)\n",
    "\n",
    "\n",
    "oai_right_temp_BML_Merged_right = oai_SBL_KL_BML_right[\n",
    "    ['id',\"time\", \"right_tkr\", \"P02SEX\", \"bml_total_merged\",'KL_Grade']\n",
    "]\n",
    "oai_right_temp_BML_Femur_right = oai_SBL_KL_BML_right[\n",
    "    ['id',\"time\", \"right_tkr\", \"P02SEX\", \"bml_total_femur\",'KL_Grade']\n",
    "]\n",
    "oai_right_temp_BML_Tibia_right = oai_SBL_KL_BML_right[\n",
    "    ['id',\"time\", \"right_tkr\", \"P02SEX\", \"bml_total_tibia\",'KL_Grade']\n",
    "]\n",
    "\n",
    "oai_right_temp_JSN_Merged_right = oai_SBL_KL_BML_right[\n",
    "    ['id',\"time\", \"right_tkr\", \"P02SEX\", 'jsn_total_merged','KL_Grade']\n",
    "]\n",
    "\n",
    "\n",
    "# left side\n",
    "oai_right_temp_SBL_Merged_left = pd.concat( [oai_SBL_KL_BML_left.loc[:, 'F0_merged':'T199_merged'], oai_SBL_KL_BML_left[\n",
    "    ['id',\"time\", \"right_tkr\", \"P02SEX\",'bml_total_merged','KL_Grade']]], axis = 1)\n",
    "\n",
    "oai_right_temp_SBL_Femur_left = pd.concat( [oai_SBL_KL_BML_left.loc[:, 'F0_femur':'F199_femur'], oai_SBL_KL_BML_left[\n",
    "    ['id',\"time\", \"right_tkr\", \"P02SEX\",'bml_total_femur','KL_Grade']]], axis = 1)\n",
    "\n",
    "oai_right_temp_SBL_Tibia_left = pd.concat( [oai_SBL_KL_BML_left.loc[:, 'T0_tibia':'T199_tibia'], oai_SBL_KL_BML_left[\n",
    "    ['id',\"time\", \"right_tkr\", \"P02SEX\",'bml_total_tibia','KL_Grade']]], axis = 1)\n",
    "\n",
    "\n",
    "oai_right_temp_BML_Merged_left = oai_SBL_KL_BML_left[\n",
    "    ['id',\"time\", \"right_tkr\", \"P02SEX\", \"bml_total_merged\",'KL_Grade']\n",
    "]\n",
    "oai_right_temp_BML_Femur_left = oai_SBL_KL_BML_left[\n",
    "    ['id',\"time\", \"right_tkr\", \"P02SEX\", \"bml_total_femur\",'KL_Grade']\n",
    "]\n",
    "oai_right_temp_BML_Tibia_left = oai_SBL_KL_BML_left[\n",
    "    ['id',\"time\", \"right_tkr\", \"P02SEX\", \"bml_total_tibia\",'KL_Grade']\n",
    "]\n",
    "\n",
    "\n",
    "\n",
    "oai_right_temp_JSN_Merged_left = oai_SBL_KL_BML_left[\n",
    "    ['id',\"time\", \"right_tkr\", \"P02SEX\", \"jsn_total_merged\",'KL_Grade']\n",
    "]\n"
   ]
  },
  {
   "cell_type": "code",
   "execution_count": 29,
   "metadata": {},
   "outputs": [],
   "source": [
    "# merging information for various SBL and BML models based on left and right knee information that was selected previously\n",
    "oai_right_temp_SBL_Merged_all = pd.concat(\n",
    "    [oai_right_temp_SBL_Merged_right, oai_right_temp_SBL_Merged_left],\n",
    "    ignore_index=True,\n",
    ")\n",
    "oai_right_temp_SBL_Femur_all = pd.concat(\n",
    "    [oai_right_temp_SBL_Femur_right, oai_right_temp_SBL_Femur_left],\n",
    "    ignore_index=True,\n",
    ")\n",
    "oai_right_temp_SBL_Tibia_all = pd.concat(\n",
    "    [oai_right_temp_SBL_Tibia_right, oai_right_temp_SBL_Tibia_left],\n",
    "    ignore_index=True,\n",
    ")\n",
    "oai_right_temp_BML_Merged_all = pd.concat(\n",
    "    [oai_right_temp_BML_Merged_right, oai_right_temp_BML_Merged_left],\n",
    "    ignore_index=True,\n",
    ")\n",
    "\n",
    "oai_right_temp_BML_Merged_all = pd.concat(\n",
    "    [oai_right_temp_BML_Merged_right, oai_right_temp_BML_Merged_left],\n",
    "    ignore_index=True,\n",
    ")\n",
    "oai_right_temp_BML_Femur_all = pd.concat(\n",
    "    [oai_right_temp_BML_Femur_right, oai_right_temp_BML_Femur_left],\n",
    "    ignore_index=True,\n",
    ")\n",
    "oai_right_temp_BML_Tibia_all = pd.concat(\n",
    "    [oai_right_temp_BML_Tibia_right, oai_right_temp_BML_Tibia_left],\n",
    "    ignore_index=True,\n",
    ")\n",
    "\n",
    "oai_right_temp_JSN_Merged_all = pd.concat(\n",
    "    [oai_right_temp_JSN_Merged_right, oai_right_temp_JSN_Merged_left],\n",
    "    ignore_index=True,\n",
    ")"
   ]
  },
  {
   "cell_type": "code",
   "execution_count": 30,
   "metadata": {},
   "outputs": [
    {
     "name": "stdout",
     "output_type": "stream",
     "text": [
      "0\n"
     ]
    }
   ],
   "source": [
    "\n",
    "\n",
    "\n",
    "# dropping the the smaller KL grade from patients who have 2 knees in the table in order to avoid confounding variables.\n",
    "oai_right_temp_SBL_Merged_all = oai_right_temp_SBL_Merged_all.sort_values('KL_Grade').drop_duplicates('id', keep='last').sort_index()\n",
    "oai_right_temp_SBL_Femur_all = oai_right_temp_SBL_Femur_all.sort_values('KL_Grade').drop_duplicates('id', keep='last').sort_index()\n",
    "oai_right_temp_SBL_Tibia_all = oai_right_temp_SBL_Tibia_all.sort_values('KL_Grade').drop_duplicates('id', keep='last').sort_index()\n",
    "oai_right_temp_BML_Merged_all = oai_right_temp_BML_Merged_all.sort_values('KL_Grade').drop_duplicates('id', keep='last').sort_index()\n",
    "oai_right_temp_BML_Femur_all = oai_right_temp_BML_Femur_all.sort_values('KL_Grade').drop_duplicates('id', keep='last').sort_index()\n",
    "oai_right_temp_BML_Tibia_all = oai_right_temp_BML_Tibia_all.sort_values('KL_Grade').drop_duplicates('id', keep='last').sort_index()\n",
    "oai_right_temp_JSN_Merged_all = oai_right_temp_JSN_Merged_all.sort_values('KL_Grade').drop_duplicates('id', keep='last').sort_index()\n",
    "#Checking to make sure each patient has no more than 1 knee in the table\n",
    "print(len(list(set([x for i,x in enumerate(oai_right_temp_SBL_Merged_all['id'].tolist()) if oai_right_temp_SBL_Merged_all['id'].tolist().count(x) > 1]))))\n",
    "\n",
    "\n"
   ]
  },
  {
   "cell_type": "code",
   "execution_count": 31,
   "metadata": {},
   "outputs": [
    {
     "name": "stdout",
     "output_type": "stream",
     "text": [
      "total males 760\n",
      "total females 1214\n"
     ]
    }
   ],
   "source": [
    "groups_merged = oai_right_temp_SBL_Merged_all.groupby(\"P02SEX\")\n",
    "males_merged = groups_merged.get_group(1)\n",
    "females_merged = groups_merged.get_group(2)\n",
    "print(\"total males\", len(males_merged))\n",
    "# check the gender population; male:1, female:2\n",
    "print('total females', len(females_merged))\n"
   ]
  },
  {
   "cell_type": "code",
   "execution_count": 32,
   "metadata": {},
   "outputs": [],
   "source": [
    "\n",
    "# grouping by sex\n",
    "groups_merged = oai_right_temp_SBL_Merged_all.groupby(\"P02SEX\")\n",
    "males_merged = groups_merged.get_group(1)\n",
    "females_merged = groups_merged.get_group(2)\n",
    "males_merged = males_merged.drop(columns=[\"P02SEX\"])\n",
    "females_merged = females_merged.drop(columns=[\"P02SEX\"])\n",
    "\n",
    "groups_femur = oai_right_temp_SBL_Femur_all.groupby(\"P02SEX\")\n",
    "males_femur = groups_femur.get_group(1)\n",
    "females_femur = groups_femur.get_group(2)\n",
    "males_femur = males_femur.drop(columns=[\"P02SEX\"])\n",
    "females_femur = females_femur.drop(columns=[\"P02SEX\"])\n",
    "\n",
    "groups_tibia = oai_right_temp_SBL_Tibia_all.groupby(\"P02SEX\")\n",
    "males_tibia = groups_tibia.get_group(1)\n",
    "females_tibia = groups_tibia.get_group(2)\n",
    "males_tibia = males_tibia.drop(columns=[\"P02SEX\"])\n",
    "females_tibia = females_tibia.drop(columns=[\"P02SEX\"])\n",
    "\n",
    "groups_BML_merged = oai_right_temp_BML_Merged_all.groupby(\"P02SEX\")\n",
    "males_BML_merged = groups_BML_merged.get_group(1)\n",
    "females_BML_merged = groups_BML_merged.get_group(2)\n",
    "\n",
    "\n",
    "groups_BML_femur = oai_right_temp_BML_Femur_all.groupby(\"P02SEX\")\n",
    "males_BML_femur = groups_BML_femur.get_group(1)\n",
    "females_BML_femur = groups_BML_femur.get_group(2)\n",
    "\n",
    "\n",
    "\n",
    "groups_BML_tibia = oai_right_temp_BML_Tibia_all.groupby(\"P02SEX\")\n",
    "males_BML_tibia = groups_BML_tibia.get_group(1)\n",
    "females_BML_tibia = groups_BML_tibia.get_group(2)\n",
    "\n",
    "\n",
    "males_BML_merged = males_BML_merged.drop(columns=[\"P02SEX\"])\n",
    "females_BML_merged = females_BML_merged.drop(columns=[\"P02SEX\"])\n",
    "\n",
    "males_BML_femur = males_BML_femur.drop(columns=[\"P02SEX\"])\n",
    "females_BML_femur = females_BML_femur.drop(columns=[\"P02SEX\"])\n",
    "\n",
    "males_BML_tibia = males_BML_tibia.drop(columns=[\"P02SEX\"])\n",
    "females_BML_tibia = females_BML_tibia.drop(columns=[\"P02SEX\"])\n",
    "\n",
    "\n",
    "# Dropping irrelevent information from tables before input to Cox Models\n",
    "oai_right_temp_SBL_Merged_all = oai_right_temp_SBL_Merged_all.drop(columns=[\"P02SEX\",'id','bml_total_merged'])\n",
    "oai_right_temp_SBL_Femur_all = oai_right_temp_SBL_Femur_all.drop(columns=[\"P02SEX\",'id','bml_total_femur'])\n",
    "oai_right_temp_SBL_Tibia_all = oai_right_temp_SBL_Tibia_all.drop(columns=[\"P02SEX\",'id','bml_total_tibia'])\n",
    "oai_right_temp_BML_Merged_all = oai_right_temp_BML_Merged_all.drop(columns=[\"P02SEX\",'id'])\n",
    "oai_right_temp_BML_Femur_all = oai_right_temp_BML_Femur_all.drop(columns=[\"P02SEX\",'id'])\n",
    "oai_right_temp_BML_Tibia_all = oai_right_temp_BML_Tibia_all.drop(columns=[\"P02SEX\",'id'])\n",
    "oai_right_temp_JSN_Merged_all = oai_right_temp_JSN_Merged_all.drop(columns=[\"P02SEX\",'id'])\n"
   ]
  },
  {
   "attachments": {},
   "cell_type": "markdown",
   "metadata": {},
   "source": [
    "### CPH model fitting"
   ]
  },
  {
   "cell_type": "code",
   "execution_count": 33,
   "metadata": {},
   "outputs": [],
   "source": [
    "from all_knee_sbl import cph_creator_SBL\n",
    "list_bad = [\"right_tkr\", \"time\"]\n",
    "brier_list_males = []\n",
    "brier_list_females = []"
   ]
  },
  {
   "cell_type": "code",
   "execution_count": 34,
   "metadata": {},
   "outputs": [
    {
     "data": {
      "image/png": "[encoded data removed]",
      "text/plain": [
       "<Figure size 640x480 with 1 Axes>"
      ]
     },
     "metadata": {},
     "output_type": "display_data"
    }
   ],
   "source": [
    "# Histogram distribution of patients within each JSN category\n",
    "hist = oai_right_temp_JSN_Merged_all['jsn_total_merged'].hist(bins=10)\n",
    "equal_0 = oai_right_temp_JSN_Merged_all.loc[oai_right_temp_JSN_Merged_all['jsn_total_merged'] == 0]\n",
    "equal_1 = oai_right_temp_JSN_Merged_all.loc[oai_right_temp_JSN_Merged_all['jsn_total_merged'] == 1]\n",
    "equal_2 = oai_right_temp_JSN_Merged_all.loc[oai_right_temp_JSN_Merged_all['jsn_total_merged'] == 2]\n",
    "equal_3 = oai_right_temp_JSN_Merged_all.loc[oai_right_temp_JSN_Merged_all['jsn_total_merged'] == 3]"
   ]
  },
  {
   "cell_type": "code",
   "execution_count": 35,
   "metadata": {},
   "outputs": [
    {
     "name": "stdout",
     "output_type": "stream",
     "text": [
      "<lifelines.StatisticalResult: logrank_test>\n",
      "               t_0 = -1\n",
      " null_distribution = chi squared\n",
      "degrees_of_freedom = 1\n",
      "         test_name = logrank_test\n",
      "\n",
      "---\n",
      "         test_statistic      p  -log2(p)\n",
      "0.0 1.0           12.90 <0.005     11.57\n",
      "    2.0          101.85 <0.005     77.14\n",
      "    3.0          209.28 <0.005    155.15\n",
      "1.0 2.0           62.97 <0.005     48.76\n",
      "    3.0          165.88 <0.005    123.68\n",
      "2.0 3.0           22.43 <0.005     18.81\n"
     ]
    },
    {
     "data": {
      "image/png": "[encoded data removed]",
      "text/plain": [
       "<Figure size 1050x350 with 2 Axes>"
      ]
     },
     "metadata": {},
     "output_type": "display_data"
    }
   ],
   "source": [
    "# Kaplan Meier Analysis on general population based on JSN size breakdown\n",
    "\n",
    "from matplotlib import markers\n",
    "\n",
    "\n",
    "plt.rcParams[\"figure.figsize\"] = [10.50, 3.50]\n",
    "\n",
    "kmf1 = KaplanMeierFitter()\n",
    "kmf1.fit(\n",
    "    durations=equal_0[\"time\"],\n",
    "    event_observed=equal_0[\"right_tkr\"],\n",
    "    label = '== 0'\n",
    ")\n",
    "\n",
    "kmf1.plot_survival_function(\n",
    "    show_censors=True,linestyle='dashdot', censor_styles={\"ms\": 6, \"marker\": \"X\"}\n",
    ")\n",
    "\n",
    "kmf2 = KaplanMeierFitter()\n",
    "kmf2.fit(\n",
    "    durations=equal_1[\"time\"],\n",
    "    event_observed=equal_1[\"right_tkr\"],\n",
    "    label = '== 1'\n",
    ")\n",
    "\n",
    "kmf2.plot_survival_function(\n",
    "    show_censors=True,linestyle='solid', censor_styles={\"ms\": 6, \"marker\": \"s\"}\n",
    ")\n",
    "\n",
    "kmf3 = KaplanMeierFitter()\n",
    "kmf3.fit(\n",
    "    durations=equal_2[\"time\"],\n",
    "    event_observed=equal_2[\"right_tkr\"],\n",
    "    label = '== 2'\n",
    ")\n",
    "\n",
    "kmf3.plot_survival_function(\n",
    "    show_censors=True,linestyle='dotted', censor_styles={\"ms\": 6, \"marker\": \">\"}\n",
    ")\n",
    "\n",
    "kmf4 = KaplanMeierFitter()\n",
    "kmf4.fit(\n",
    "    durations=equal_3[\"time\"],\n",
    "    event_observed=equal_3[\"right_tkr\"],\n",
    "    label = '== 3'\n",
    ")\n",
    "\n",
    "kmf4.plot_survival_function(\n",
    "    show_censors=True,linestyle='dashed', censor_styles={\"ms\": 6, \"marker\": \"o\"}\n",
    ")\n",
    "\n",
    "plt.yticks(np.arange(0, 1.1, 0.2))\n",
    "plt.ylabel(\"Survival Probability\")\n",
    "\n",
    "plt.xlabel(\"Timeline (Days)\")\n",
    "plt.legend(loc = 'lower left')\n",
    "from lifelines.plotting import add_at_risk_counts\n",
    "# add_at_risk_counts(kmf1, kmf2,kmf3,kmf4)\n",
    "plt.savefig('/home/tsurendr/KMF_Curves/New_Analysis/kmf_JSN.pdf', format='pdf', bbox_inches = 'tight')\n",
    "\n",
    "# Log-Rank analysis to determine difference in survival function within different BML groups\n",
    "results_multivariate = pairwise_logrank_test(oai_right_temp_BML_Merged_all['time'], oai_right_temp_BML_Merged_all['bml_total_merged'],oai_right_temp_BML_Merged_all['right_tkr'])\n",
    "print(results_multivariate)\n"
   ]
  },
  {
   "cell_type": "code",
   "execution_count": 36,
   "metadata": {},
   "outputs": [
    {
     "data": {
      "image/png": "[encoded data removed]",
      "text/plain": [
       "<Figure size 1050x350 with 1 Axes>"
      ]
     },
     "metadata": {},
     "output_type": "display_data"
    }
   ],
   "source": [
    "import lifelines\n",
    "\n",
    "lifelines.plotting.loglogs_plot(kmf1)\n",
    "lifelines.plotting.loglogs_plot(kmf2)\n",
    "lifelines.plotting.loglogs_plot(kmf3)\n",
    "lifelines.plotting.loglogs_plot(kmf4)\n",
    "plt.yticks(np.arange(-7, 1, 1))\n",
    "# plt.title('Log-Log curve for JSN')\n",
    "plt.savefig('/home/tsurendr/KMF_Curves/New_Analysis/log-log_JSN.pdf', format='pdf', bbox_inches = 'tight')"
   ]
  },
  {
   "cell_type": "code",
   "execution_count": null,
   "metadata": {},
   "outputs": [],
   "source": []
  }
 ],
 "metadata": {
  "kernelspec": {
   "display_name": "Python 3.9.13 ('neuro': conda)",
   "language": "python",
   "name": "python3"
  },
  "language_info": {
   "codemirror_mode": {
    "name": "ipython",
    "version": 3
   },
   "file_extension": ".py",
   "mimetype": "text/x-python",
   "name": "python",
   "nbconvert_exporter": "python",
   "pygments_lexer": "ipython3",
   "version": "3.10.4"
  },
  "vscode": {
   "interpreter": {
    "hash": "7c5ec2711fb9be5244b20562b562d0757efd7313fdacff057c04e89290da72bf"
   }
  }
 },
 "nbformat": 4,
 "nbformat_minor": 2
}
