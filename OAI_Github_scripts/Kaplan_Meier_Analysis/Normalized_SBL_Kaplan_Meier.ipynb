{
 "cells": [
  {
   "cell_type": "code",
   "execution_count": 1,
   "metadata": {},
   "outputs": [
    {
     "data": {
      "text/plain": [
       "['/home/tsurendr/OAI_Github_scripts_paper_modifications',\n",
       " '/home/tsurendr/OAI_Github_scripts_paper_modifications/Kaplan_Meier_Analysis',\n",
       " '/home/tsurendr/.conda/envs/neuro/lib/python310.zip',\n",
       " '/home/tsurendr/.conda/envs/neuro/lib/python3.10',\n",
       " '/home/tsurendr/.conda/envs/neuro/lib/python3.10/lib-dynload',\n",
       " '',\n",
       " '/home/tsurendr/.conda/envs/neuro/lib/python3.10/site-packages',\n",
       " '/home/tsurendr/.conda/envs/neuro/lib/python3.10/site-packages/deepsurv-0.2.1-py3.10.egg']"
      ]
     },
     "execution_count": 1,
     "metadata": {},
     "output_type": "execute_result"
    }
   ],
   "source": [
    "import sys\n",
    "\n",
    "sys.path.insert(0, \"/home/tsurendr/OAI_Github_scripts_paper_modifications\")\n",
    "sys.path"
   ]
  },
  {
   "cell_type": "code",
   "execution_count": 2,
   "metadata": {},
   "outputs": [],
   "source": [
    "import pandas as pd\n",
    "import numpy as np\n",
    "import matplotlib.pyplot as plt\n",
    "from lifelines import KaplanMeierFitter\n",
    "from lifelines import CoxPHFitter\n",
    "import lifelines\n",
    "import math\n",
    "import sys\n",
    "from statistics import stdev\n",
    "from lifelines.statistics import logrank_test, multivariate_logrank_test,pairwise_logrank_test\n",
    "\n",
    "# Set the path of SBL and merge1 files and read the files\n",
    "loc_data = \"/data_1/OAI_SBL_Analysis_Data/\"\n",
    "loc_module = \"/home/tsurendr/OAI_Github_scripts\"\n",
    "loc_data_SBL = loc_data + \"SBL_0904.csv\"\n",
    "loc_merge1 = loc_data + \"merge1_KL.csv\"\n",
    "raw_data_SBL = pd.read_csv(loc_data_SBL)\n",
    "merge1 = pd.read_csv(loc_merge1)\n",
    "# load custom module \n",
    "sys.path.append(loc_module)"
   ]
  },
  {
   "cell_type": "code",
   "execution_count": 3,
   "metadata": {},
   "outputs": [],
   "source": [
    "sbl_col_names = [\"F\" + str(i) for i in range(200)] + [\n",
    "    \"T\" + str(i) for i in range(200)\n",
    "]  # femur: F0~ F199 , tibia: T0 ~ T199\n",
    "sbl_col_names_femur = [\"F\" + str(i) for i in range(200)]\n",
    "sbl_col_names_tibia = [\"T\" + str(i) for i in range(200)]"
   ]
  },
  {
   "attachments": {},
   "cell_type": "markdown",
   "metadata": {},
   "source": [
    "Organize with the following 3 variables:\n",
    "\n",
    "- data_SBL_both\n",
    "- data_SBL_femur\n",
    "- data_SBL_tibia\n"
   ]
  },
  {
   "cell_type": "code",
   "execution_count": 4,
   "metadata": {},
   "outputs": [
    {
     "name": "stdout",
     "output_type": "stream",
     "text": [
      "shape of sbl_KL_0_mean: (400,)\n",
      "      normalized_sbl\n",
      "0          80.089457\n",
      "1          35.120646\n",
      "2          38.410143\n",
      "3          25.611456\n",
      "4          35.044001\n",
      "...              ...\n",
      "9429       36.834946\n",
      "9430       46.496391\n",
      "9431       36.211543\n",
      "9432       54.886067\n",
      "9433       65.718439\n",
      "\n",
      "[9434 rows x 1 columns]\n"
     ]
    }
   ],
   "source": [
    "##################################\n",
    "# normalize SBL for both femur and tibia at once #\n",
    "##################################\n",
    "raw_sbl_values = raw_data_SBL.loc[:, sbl_col_names].values\n",
    "sbl_values = np.empty_like(raw_sbl_values)  # for saving normalized SBL\n",
    "for row in range(raw_sbl_values.shape[0]):\n",
    "    sbl_values[row, :] = (\n",
    "        raw_sbl_values[row, :] / raw_sbl_values[row, :].mean()\n",
    "    )  # normalize by the averaged val. of SBL\n",
    "df_normalized_SBL = pd.DataFrame(sbl_values, columns=sbl_col_names)\n",
    "# get mean of Kellgren Lawrence (KL) grade 0\n",
    "sbl_KL_0_mean = df_normalized_SBL.loc[\n",
    "    (merge1[\"KL_Grade\"] == 0) , sbl_col_names\n",
    "].values.mean(0)\n",
    "print(f\"shape of sbl_KL_0_mean: {sbl_KL_0_mean.shape}\")\n",
    "baseline = sbl_KL_0_mean\n",
    "\n",
    "sbl_difference = df_normalized_SBL.loc[:, sbl_col_names].sub(baseline, axis=1)\n",
    "\n",
    "# sum of all the absolute value of sbl difference.\n",
    "sbl_difference_absolute = sbl_difference.abs()\n",
    "\n",
    "list_max = []\n",
    "for index, row in sbl_difference_absolute.iterrows():\n",
    "    #look for column in each row with biggest difference.\n",
    "    col_val = sbl_difference_absolute.idxmax()\n",
    "    val_list = []\n",
    "    for i in sbl_difference_absolute.columns:\n",
    "        val_list.append(sbl_difference_absolute.at[index,i])\n",
    "    val_list.sort(reverse=True)\n",
    "    top_percentile = val_list[0:400]\n",
    "    #now find the normalized SBL value in that column\n",
    "    sbl_normalized = (sum(top_percentile))\n",
    "    list_max.append(sbl_normalized)\n",
    "\n",
    "sbl_difference_absolute.name = \"normalized_sbl\"\n",
    "# Add sum of all the absolute value of sbl difference to data_SBL\n",
    "df_normalized_SBL_both = pd.DataFrame({'normalized_sbl':list_max})\n",
    "print(df_normalized_SBL_both)"
   ]
  },
  {
   "cell_type": "code",
   "execution_count": 5,
   "metadata": {},
   "outputs": [
    {
     "name": "stdout",
     "output_type": "stream",
     "text": [
      "shape of sbl_KL_0_mean: (200,)\n",
      "      normalized_sbl_femur\n",
      "0                37.426998\n",
      "1                13.884042\n",
      "2                17.327838\n",
      "3                13.490419\n",
      "4                16.316242\n",
      "...                    ...\n",
      "9429             16.462699\n",
      "9430             18.343017\n",
      "9431             12.833986\n",
      "9432             25.550711\n",
      "9433             25.736518\n",
      "\n",
      "[9434 rows x 1 columns]\n"
     ]
    }
   ],
   "source": [
    "###########################\n",
    "# normalize SBL for femur #\n",
    "###########################\n",
    "raw_sbl_values = raw_data_SBL.loc[:, sbl_col_names_femur].values\n",
    "sbl_values = np.empty_like(raw_sbl_values)  # for saving normalized SBL\n",
    "for row in range(raw_sbl_values.shape[0]):\n",
    "    sbl_values[row, :] = (\n",
    "        raw_sbl_values[row, :] / raw_sbl_values[row, :].mean()\n",
    "    )  # normalize by the averaged val. of SBL\n",
    "df_normalized_SBL = pd.DataFrame(sbl_values, columns=sbl_col_names_femur)\n",
    "# get mean of Kellgren Lawrence (KL) grade 0\n",
    "sbl_KL_0_mean = df_normalized_SBL.loc[\n",
    "    (merge1[\"KL_Grade\"] == 0) , sbl_col_names_femur\n",
    "].values.mean(0)\n",
    "\n",
    "print(f\"shape of sbl_KL_0_mean: {sbl_KL_0_mean.shape}\")\n",
    "baseline = sbl_KL_0_mean\n",
    "\n",
    "sbl_difference = df_normalized_SBL.loc[:, sbl_col_names_femur].sub(baseline, axis=1)\n",
    "\n",
    "# sum of all the absolute value of sbl difference.\n",
    "sbl_difference_absolute = sbl_difference.abs()\n",
    "\n",
    "list_max = []\n",
    "for index, row in sbl_difference_absolute.iterrows():\n",
    "    #look for column in each row with biggest difference.\n",
    "    col_val = sbl_difference_absolute.idxmax()\n",
    "    val_list = []\n",
    "    for i in sbl_difference_absolute.columns:\n",
    "\n",
    "        val_list.append(sbl_difference_absolute.at[index,i])\n",
    "    val_list.sort(reverse=True)\n",
    "    top_percentile = val_list[0:200]\n",
    "\n",
    "    #now find the normalized SBL value in that column\n",
    "    sbl_normalized = (sum(top_percentile))\n",
    "    list_max.append(sbl_normalized)\n",
    "\n",
    "sbl_difference_absolute.name = \"normalized_sbl_femur\"\n",
    "# Add sum of all the absolute value of sbl difference to data_SBL\n",
    "df_normalized_SBL_femur = pd.DataFrame({'normalized_sbl_femur':list_max})\n",
    "print(df_normalized_SBL_femur)"
   ]
  },
  {
   "cell_type": "code",
   "execution_count": 6,
   "metadata": {},
   "outputs": [
    {
     "name": "stdout",
     "output_type": "stream",
     "text": [
      "shape of sbl_KL_0_mean: (200,)\n",
      "      normalized_sbl_tibia\n",
      "0                43.046003\n",
      "1                25.722804\n",
      "2                22.849738\n",
      "3                11.225537\n",
      "4                18.713708\n",
      "...                    ...\n",
      "9429             15.096792\n",
      "9430             27.430894\n",
      "9431             29.711875\n",
      "9432             31.844479\n",
      "9433             46.368328\n",
      "\n",
      "[9434 rows x 1 columns]\n"
     ]
    }
   ],
   "source": [
    "###########################\n",
    "# normalize SBL for tibia #\n",
    "###########################\n",
    "raw_sbl_values = raw_data_SBL.loc[:, sbl_col_names_tibia].values\n",
    "sbl_values = np.empty_like(raw_sbl_values)  # for saving normalized SBL\n",
    "for row in range(raw_sbl_values.shape[0]):\n",
    "    sbl_values[row, :] = (\n",
    "        raw_sbl_values[row, :] / raw_sbl_values[row, :].mean()\n",
    "    )  # normalize by the averaged val. of SBL\n",
    "df_normalized_SBL = pd.DataFrame(sbl_values, columns=sbl_col_names_tibia)\n",
    "# get mean of Kellgren Lawrence (KL) grade 0\n",
    "sbl_KL_0_mean = df_normalized_SBL.loc[\n",
    "    (merge1[\"KL_Grade\"] == 0) , sbl_col_names_tibia\n",
    "].values.mean(0)\n",
    "print(f\"shape of sbl_KL_0_mean: {sbl_KL_0_mean.shape}\")\n",
    "baseline = sbl_KL_0_mean\n",
    "sbl_difference = df_normalized_SBL.loc[:, sbl_col_names_tibia].sub(baseline, axis=1)\n",
    "# sum of all the absolute value of sbl difference.\n",
    "sbl_difference_absolute = sbl_difference.abs()\n",
    "\n",
    "list_max = []\n",
    "for index, row in sbl_difference_absolute.iterrows():\n",
    "    #look for column in each row with biggest difference.\n",
    "    col_val = sbl_difference_absolute.idxmax()\n",
    "\n",
    "    val_list = []\n",
    "    for i in sbl_difference_absolute.columns:\n",
    "\n",
    "        val_list.append(sbl_difference_absolute.at[index,i])\n",
    "    val_list.sort(reverse=True)\n",
    "    top_percentile = val_list[0:200]\n",
    "\n",
    "    #now find the normalized SBL value in that column\n",
    "    sbl_normalized = (sum(top_percentile))\n",
    "\n",
    "    list_max.append(sbl_normalized)\n",
    "\n",
    "    \n",
    "sbl_difference_absolute.name = \"normalized_sbl_tibia\"\n",
    "# Add sum of all the absolute value of sbl difference to data_SBL\n",
    "df_normalized_SBL_tibia = pd.DataFrame({'normalized_sbl_tibia':list_max})\n",
    "print(df_normalized_SBL_tibia)"
   ]
  },
  {
   "cell_type": "code",
   "execution_count": 7,
   "metadata": {},
   "outputs": [],
   "source": [
    "# Combining 3 Variables: df_normalized_SBL_both, df_normalized_SBL_femur, df_normalized_SBL_tibia\n",
    "data_SBL = pd.merge(\n",
    "    raw_data_SBL, df_normalized_SBL_both, right_index=True, left_index=True\n",
    ")  # merge df_normalized_SBL_both\n",
    "data_SBL = pd.merge(\n",
    "    data_SBL, df_normalized_SBL_femur, right_index=True, left_index=True\n",
    ")  # merge df_normalized_SBL_femur\n",
    "data_SBL = pd.merge(\n",
    "    data_SBL, df_normalized_SBL_tibia, right_index=True, left_index=True\n",
    ")  # merge df_normalized_SBL_tibia"
   ]
  },
  {
   "cell_type": "code",
   "execution_count": 8,
   "metadata": {},
   "outputs": [
    {
     "name": "stdout",
     "output_type": "stream",
     "text": [
      "total number of baseline knees 9434\n"
     ]
    }
   ],
   "source": [
    "# Splitting data by knee side(right/left) and formatting columns appropriately \n",
    "\n",
    "print(\"total number of baseline knees\", len(data_SBL))\n",
    "data_SBL[\"id\"] = data_SBL[\"id\"].astype(str)\n",
    "data_BioMarkers = pd.read_csv(loc_data + \"Biomarker_data.csv\")\n",
    "data_SBL = data_SBL.drop([\"Unnamed: 0\"], axis=1)\n",
    "data_BioMarkers = data_BioMarkers.drop([\"Unnamed: 0\"], axis=1)\n",
    "side_SBL_temp = data_SBL.groupby(\"SIDE\")\n",
    "side_1_SBL_Right = side_SBL_temp.get_group(1)\n",
    "side_2_SBL_Left = side_SBL_temp.get_group(2)"
   ]
  },
  {
   "cell_type": "code",
   "execution_count": 9,
   "metadata": {},
   "outputs": [
    {
     "name": "stdout",
     "output_type": "stream",
     "text": [
      "total number of right knees 4727\n",
      "total number of left knees 4707\n"
     ]
    }
   ],
   "source": [
    "print(\"total number of right knees\", len(side_1_SBL_Right))\n",
    "print(\"total number of left knees\", len(side_2_SBL_Left))"
   ]
  },
  {
   "cell_type": "code",
   "execution_count": 10,
   "metadata": {},
   "outputs": [
    {
     "name": "stdout",
     "output_type": "stream",
     "text": [
      "Before data drop mri data 4796\n",
      "complete mri data 4650\n",
      "number of drop: 146\n",
      "oai Data:  4650\n"
     ]
    }
   ],
   "source": [
    "# settings\n",
    "NUM_YEARS = 11.0  \n",
    "encoding = \"utf-8\"\n",
    "# read and preprocessing\n",
    "raw_df = pd.read_sas(loc_data + \"outcomes99.sas7bdat\")\n",
    "# must censor data per knee\n",
    "print(\"Before data drop mri data\", len(raw_df))\n",
    "df = raw_df.dropna(axis=0, subset=[\"V99RNTCNT\"])\n",
    "print(\"complete mri data\", len(df))\n",
    "print(f\"number of drop: {len(raw_df)-len(df)}\")\n",
    "df = df.copy()\n",
    "df.loc[:, \"id\"] = df[\"id\"].apply(lambda x: str(x, encoding))\n",
    "\n",
    "merge1 = merge1.dropna(axis=0, subset=[\"P02SEX\"])\n",
    "merge1 = merge1.dropna(axis=0, subset=[\"V00AGE\"])\n",
    "merge1 = merge1.dropna(axis=0, subset=[\"V00XRJSM\"])\n",
    "merge1 = merge1.dropna(axis=0, subset=[\"V00XRJSL\"])\n",
    "merge1[\"id\"] = merge1[\"id\"].astype(str)\n",
    "merge1_temp = merge1.groupby(\"SIDE\")\n",
    "merge1_right = merge1_temp.get_group(1)\n",
    "merge1_left = merge1_temp.get_group(2)\n",
    "\n",
    "df_8_years = df[df[\"V99RNTCNT\"] <= NUM_YEARS].copy()  \n",
    "print(\"oai Data: \", len(df_8_years))"
   ]
  },
  {
   "cell_type": "code",
   "execution_count": 11,
   "metadata": {},
   "outputs": [],
   "source": [
    "# KL Grade information preprocessing for right knees\n",
    "\n",
    "data_KL_grade_right = pd.read_csv(loc_data + \"rightFilteredklMEAS.csv\")\n",
    "data_KL_grade_right = data_KL_grade_right.drop([\"Unnamed: 0\"], axis=1)\n",
    "data_KL_grade_right = data_KL_grade_right.dropna(axis=0, subset=[\"V00XRKLR\"])\n",
    "data_KL_grade_right[\"id\"] = data_KL_grade_right[\"id\"].astype(str)"
   ]
  },
  {
   "cell_type": "code",
   "execution_count": 12,
   "metadata": {},
   "outputs": [],
   "source": [
    "# KL Grade information preprocessing for left knees\n",
    "\n",
    "\n",
    "data_KL_grade_left = pd.read_csv(loc_data + \"leftFilteredklMEAS.csv\")\n",
    "data_KL_grade_left = data_KL_grade_left.drop([\"Unnamed: 0\"], axis=1)\n",
    "data_KL_grade_left = data_KL_grade_left.dropna(axis=0, subset=[\"V00XRKLL\"])\n",
    "data_KL_grade_left[\"id\"] = data_KL_grade_left[\"id\"].astype(str)"
   ]
  },
  {
   "cell_type": "code",
   "execution_count": 13,
   "metadata": {},
   "outputs": [
    {
     "name": "stdout",
     "output_type": "stream",
     "text": [
      "bml right Data:  1587\n"
     ]
    }
   ],
   "source": [
    "# BML information preprocessing for right knees. \n",
    "# right side\n",
    "data_BML_right = pd.read_csv(loc_data + \"rightFilteredbmlMoaks.csv\")\n",
    "data_BML_right[\"id\"] = data_BML_right[\"id\"].astype(str)\n",
    "data_BML_right = data_BML_right.drop([\"Unnamed: 0\"], axis=1)\n",
    "data_BML_right = data_BML_right.dropna(axis=0, subset=['V00MBMSFMA',\n",
    "'V00MBMSFLA',\n",
    "'V00MBMSFMC',\n",
    "'V00MBMSFLC',\n",
    "'V00MBMSFMP',\n",
    "'V00MBMSFLP',\n",
    "'V00MBMSSS',\n",
    "'V00MBMSTMA',\n",
    "'V00MBMSTLA',\n",
    "'V00MBMSTMC',\n",
    "'V00MBMSTLC',\n",
    "'V00MBMSTMP',\n",
    "'V00MBMSTLP'])\n",
    "\n",
    "# For verification after data processing\n",
    "print(\"bml right Data: \", len(data_BML_right))\n"
   ]
  },
  {
   "cell_type": "code",
   "execution_count": 14,
   "metadata": {},
   "outputs": [
    {
     "name": "stdout",
     "output_type": "stream",
     "text": [
      "1587\n",
      "1584\n",
      "1257\n"
     ]
    }
   ],
   "source": [
    "# Merging all right knee info, including demographics, TKR, KL Grade, BML, etc...\n",
    "oai_bml_merge_right = pd.merge(df_8_years, data_BML_right, how=\"inner\", on=[\"id\"])\n",
    "oai_bml_SBL_KL_merge_right_pre = pd.merge(\n",
    "    oai_bml_merge_right, side_1_SBL_Right, how=\"inner\", on=[\"id\"]\n",
    ")\n",
    "print(len(oai_bml_SBL_KL_merge_right_pre))\n",
    "\n",
    "oai_bml_SBL_KL_merge_right_age_pre_1 = pd.merge(\n",
    "    oai_bml_SBL_KL_merge_right_pre, data_KL_grade_right, how=\"inner\", on=[\"id\"]\n",
    ")\n",
    "oai_bml_SBL_KL_merge_right = pd.merge(\n",
    "    oai_bml_SBL_KL_merge_right_age_pre_1, merge1_right, how=\"inner\", on=[\"id\"]\n",
    ")\n",
    "print(len(oai_bml_SBL_KL_merge_right))\n",
    "\n",
    "oai_bml_SBL_KL_merge_right.drop_duplicates(subset=[\"id\"], inplace=True, keep=\"last\")\n",
    "oai_bml_SBL_KL_merge_right.reset_index(drop=True, inplace=True)\n",
    "print(len(oai_bml_SBL_KL_merge_right))\n"
   ]
  },
  {
   "cell_type": "code",
   "execution_count": 15,
   "metadata": {},
   "outputs": [
    {
     "name": "stdout",
     "output_type": "stream",
     "text": [
      "True\n"
     ]
    }
   ],
   "source": [
    "if 'V00XRJSM' in oai_bml_SBL_KL_merge_right:\n",
    "    print(True)\n",
    "else:\n",
    "    print(False)"
   ]
  },
  {
   "cell_type": "code",
   "execution_count": 16,
   "metadata": {},
   "outputs": [
    {
     "name": "stdout",
     "output_type": "stream",
     "text": [
      "True\n"
     ]
    }
   ],
   "source": [
    "if 'V00XRJSL' in oai_bml_SBL_KL_merge_right:\n",
    "    print(True)\n",
    "else:\n",
    "    print(False)"
   ]
  },
  {
   "cell_type": "code",
   "execution_count": 17,
   "metadata": {},
   "outputs": [
    {
     "name": "stdout",
     "output_type": "stream",
     "text": [
      "bml left Data:  1366\n"
     ]
    }
   ],
   "source": [
    "# BML information preprocessing for left knees. \n",
    "# left side\n",
    "data_BML_left = pd.read_csv(loc_data + \"leftFilteredbmlMoaks.csv\")\n",
    "data_BML_left[\"id\"] = data_BML_left[\"id\"].astype(str)\n",
    "data_BML_left = data_BML_left.drop([\"Unnamed: 0\"], axis=1)\n",
    "data_BML_left = data_BML_left.dropna(axis=0, subset=['V00MBMSFMA',\n",
    "'V00MBMSFLA',\n",
    "'V00MBMSFMC',\n",
    "'V00MBMSFLC',\n",
    "'V00MBMSFMP',\n",
    "'V00MBMSFLP',\n",
    "'V00MBMSSS',\n",
    "'V00MBMSTMA',\n",
    "'V00MBMSTLA',\n",
    "'V00MBMSTMC',\n",
    "'V00MBMSTLC',\n",
    "'V00MBMSTMP',\n",
    "'V00MBMSTLP'])\n",
    "\n",
    "# For verification after data processing\n",
    "print(\"bml left Data: \", len(data_BML_left))"
   ]
  },
  {
   "cell_type": "code",
   "execution_count": 18,
   "metadata": {},
   "outputs": [
    {
     "name": "stdout",
     "output_type": "stream",
     "text": [
      "1083\n"
     ]
    }
   ],
   "source": [
    "# Merging all left knee info, including demographics, TKR, KL Grade, BML, etc...\n",
    "oai_bml_merge_left = pd.merge(df_8_years, data_BML_left, how=\"inner\", on=[\"id\"])\n",
    "oai_bml_SBL_KL_merge_left_pre = pd.merge(\n",
    "    oai_bml_merge_left, side_2_SBL_Left, how=\"inner\", on=[\"id\"]\n",
    ")\n",
    "oai_bml_SBL_KL_merge_left_age_pre_1 = pd.merge(\n",
    "    oai_bml_SBL_KL_merge_left_pre, data_KL_grade_left, how=\"inner\", on=[\"id\"]\n",
    ") \n",
    "oai_bml_SBL_KL_merge_left = pd.merge(\n",
    "    oai_bml_SBL_KL_merge_left_age_pre_1, merge1_left, how=\"inner\", on=[\"id\"]\n",
    ")\n",
    "oai_bml_SBL_KL_merge_left.drop_duplicates(subset=[\"id\"], inplace=True, keep=\"last\")\n",
    "oai_bml_SBL_KL_merge_left.reset_index(drop=True, inplace=True)\n",
    "print(len(oai_bml_SBL_KL_merge_left))\n"
   ]
  },
  {
   "cell_type": "code",
   "execution_count": 19,
   "metadata": {},
   "outputs": [
    {
     "name": "stdout",
     "output_type": "stream",
     "text": [
      "True\n"
     ]
    }
   ],
   "source": [
    "if 'V00XRJSM' in oai_bml_SBL_KL_merge_left:\n",
    "    print(True)\n",
    "else:\n",
    "    print(False)"
   ]
  },
  {
   "cell_type": "code",
   "execution_count": 20,
   "metadata": {},
   "outputs": [
    {
     "name": "stdout",
     "output_type": "stream",
     "text": [
      "True\n"
     ]
    }
   ],
   "source": [
    "if 'V00XRJSL' in oai_bml_SBL_KL_merge_left:\n",
    "    print(True)\n",
    "else:\n",
    "    print(False)"
   ]
  },
  {
   "cell_type": "code",
   "execution_count": 21,
   "metadata": {},
   "outputs": [
    {
     "name": "stdout",
     "output_type": "stream",
     "text": [
      "0\n",
      "0\n"
     ]
    }
   ],
   "source": [
    "print(oai_bml_SBL_KL_merge_right['V00XRJSM'].isnull().sum())\n",
    "print(oai_bml_SBL_KL_merge_right['V00XRJSL'].isnull().sum())"
   ]
  },
  {
   "cell_type": "code",
   "execution_count": 22,
   "metadata": {},
   "outputs": [
    {
     "name": "stdout",
     "output_type": "stream",
     "text": [
      "0\n",
      "0\n"
     ]
    }
   ],
   "source": [
    "print(oai_bml_SBL_KL_merge_left['V00XRJSM'].isnull().sum())\n",
    "print(oai_bml_SBL_KL_merge_left['V00XRJSL'].isnull().sum())"
   ]
  },
  {
   "attachments": {},
   "cell_type": "markdown",
   "metadata": {},
   "source": [
    "# Process for restricting dataset\n"
   ]
  },
  {
   "cell_type": "code",
   "execution_count": 23,
   "metadata": {},
   "outputs": [],
   "source": [
    "# need 3 groups representing merged femur and tibia. \n",
    "\n",
    "femur_column_list = ['V00MBMSFMA',\n",
    "'V00MBMSFLA',\n",
    "'V00MBMSFMC',\n",
    "'V00MBMSFLC',\n",
    "'V00MBMSFMP',\n",
    "'V00MBMSFLP']\n",
    "\n",
    "tibia_column_list = ['V00MBMSSS',\n",
    "'V00MBMSTMA',\n",
    "'V00MBMSTLA',\n",
    "'V00MBMSTMC',\n",
    "'V00MBMSTLC',\n",
    "'V00MBMSTMP',\n",
    "'V00MBMSTLP']\n",
    "\n",
    "merged_column_list = ['V00MBMSFMA',\n",
    "'V00MBMSFLA',\n",
    "'V00MBMSFMC',\n",
    "'V00MBMSFLC',\n",
    "'V00MBMSFMP',\n",
    "'V00MBMSFLP',\n",
    "'V00MBMSSS',\n",
    "'V00MBMSTMA',\n",
    "'V00MBMSTLA',\n",
    "'V00MBMSTMC',\n",
    "'V00MBMSTLC',\n",
    "'V00MBMSTMP',\n",
    "'V00MBMSTLP']\n"
   ]
  },
  {
   "cell_type": "code",
   "execution_count": 24,
   "metadata": {},
   "outputs": [
    {
     "name": "stdout",
     "output_type": "stream",
     "text": [
      "total knees on right side:  1257\n",
      "censored right knees:  1084\n",
      "proper right knee tkr:  173\n",
      "[1. 2. 3. 0.]\n",
      "total knees on left side:  1083\n",
      "censored left knees:  923\n",
      "proper left knee tkr:  160\n",
      "[3. 2. 1. 0.]\n",
      "           id version  V99RNTCNT V99ERKDATE  V99ERKFLDT  V99ERKRPCF  \\\n",
      "0     9001400   b'10'       11.0        NaT         NaN         NaN   \n",
      "1     9001695   b'10'        9.0        NaT         NaN         NaN   \n",
      "2     9001897   b'10'       11.0        NaT         NaN         NaN   \n",
      "3     9002430   b'10'       11.0 2010-02-15         1.0         3.0   \n",
      "4     9002817   b'10'       11.0        NaT         NaN         NaN   \n",
      "...       ...     ...        ...        ...         ...         ...   \n",
      "1252  9996098   b'10'       11.0        NaT         NaN         NaN   \n",
      "1253  9996865   b'10'       11.0        NaT         NaN         NaN   \n",
      "1254  9997381   b'10'       11.0        NaT         NaN         NaN   \n",
      "1255  9999510   b'10'       11.0        NaT         NaN         NaN   \n",
      "1256  9999862   b'10'       11.0        NaT         NaN         NaN   \n",
      "\n",
      "      V99ERKTLPR  V99ERKTPPR  V99ERKBLRP  V99ERKVSRP  ...  V00XRJSM  V00XRJSL  \\\n",
      "0            NaN         NaN         NaN         NaN  ...       0.0       0.0   \n",
      "1            NaN         NaN         NaN         NaN  ...       1.0       0.0   \n",
      "2            NaN         NaN         NaN         NaN  ...       2.0       0.0   \n",
      "3            2.0         2.0         0.0         7.0  ...       0.0       0.0   \n",
      "4            NaN         NaN         NaN         NaN  ...       2.0       0.0   \n",
      "...          ...         ...         ...         ...  ...       ...       ...   \n",
      "1252         NaN         NaN         NaN         NaN  ...       2.0       0.0   \n",
      "1253         NaN         NaN         NaN         NaN  ...       2.0       2.0   \n",
      "1254         NaN         NaN         NaN         NaN  ...       1.0       0.0   \n",
      "1255         NaN         NaN         NaN         NaN  ...       0.0       0.0   \n",
      "1256         NaN         NaN         NaN         NaN  ...       1.0       0.0   \n",
      "\n",
      "      V06XRKL  V06XRJSM  V06XRJSL  KL_Grade  right_tkr bml_total_merged  \\\n",
      "0         NaN       NaN       NaN         1          0              1.0   \n",
      "1         3.0       2.0       0.0         2          0              2.0   \n",
      "2         3.0       2.0       0.0         3          0              1.0   \n",
      "3         3.0       2.0       0.0         2          1              1.0   \n",
      "4         3.0       2.4       0.0         3          0              3.0   \n",
      "...       ...       ...       ...       ...        ...              ...   \n",
      "1252      3.0       2.8       0.0         3          0              1.0   \n",
      "1253      3.0       2.6       2.0         3          0              3.0   \n",
      "1254      2.0       1.0       0.0         2          0              1.0   \n",
      "1255      1.0       0.0       0.0         1          0              2.0   \n",
      "1256      NaN       NaN       NaN         2          0              1.0   \n",
      "\n",
      "      bml_total_femur  bml_total_tibia  \n",
      "0                 1.0              0.0  \n",
      "1                 1.0              2.0  \n",
      "2                 0.0              1.0  \n",
      "3                 1.0              0.0  \n",
      "4                 2.0              3.0  \n",
      "...               ...              ...  \n",
      "1252              1.0              1.0  \n",
      "1253              3.0              2.0  \n",
      "1254              0.0              1.0  \n",
      "1255              2.0              0.0  \n",
      "1256              1.0              0.0  \n",
      "\n",
      "[1257 rows x 750 columns]\n"
     ]
    }
   ],
   "source": [
    "# Determining the largest BML in each knee based on if it is a Merged, Femur, or Tibia model\n",
    "# For both left and right knees\n",
    "\n",
    "# right side\n",
    "right_knee_tkr = oai_bml_SBL_KL_merge_right[\n",
    "    (oai_bml_SBL_KL_merge_right[\"V99RNTCNT\"] <= NUM_YEARS)\n",
    "    & (oai_bml_SBL_KL_merge_right[\"V99ERKDAYS\"].isnull() == False)\n",
    "]\n",
    "print(\"total knees on right side: \", len(oai_bml_SBL_KL_merge_right))\n",
    "print(\"censored right knees: \", len(oai_bml_SBL_KL_merge_right) - len(right_knee_tkr))\n",
    "print(\"proper right knee tkr: \", len(right_knee_tkr))\n",
    "\n",
    "oai_bml_SBL_KL_merge_right[\"right_tkr\"] = np.where(\n",
    "    oai_bml_SBL_KL_merge_right[\"id\"].isin(right_knee_tkr[\"id\"]) == True, 1, 0\n",
    ")\n",
    "oai_bml_SBL_KL_merge_right[\"bml_total_merged\"] = oai_bml_SBL_KL_merge_right[merged_column_list].max(axis=1)\n",
    "oai_bml_SBL_KL_merge_right[\"bml_total_femur\"] = oai_bml_SBL_KL_merge_right[femur_column_list].max(axis=1)\n",
    "oai_bml_SBL_KL_merge_right[\"bml_total_tibia\"] = oai_bml_SBL_KL_merge_right[tibia_column_list].max(axis=1)\n",
    "print(oai_bml_SBL_KL_merge_right[\"bml_total_merged\"].unique())\n",
    "\n",
    "\n",
    "# left side\n",
    "left_knee_tkr = oai_bml_SBL_KL_merge_left[\n",
    "    (oai_bml_SBL_KL_merge_left[\"V99RNTCNT\"] <= NUM_YEARS)\n",
    "    & (oai_bml_SBL_KL_merge_left[\"V99ELKDAYS\"].isnull() == False)\n",
    "]\n",
    "\n",
    "print(\"total knees on left side: \", len(oai_bml_SBL_KL_merge_left))\n",
    "print(\"censored left knees: \", len(oai_bml_SBL_KL_merge_left) - len(left_knee_tkr))\n",
    "print(\"proper left knee tkr: \", len(left_knee_tkr))\n",
    "\n",
    "\n",
    "oai_bml_SBL_KL_merge_left[\"right_tkr\"] = np.where(\n",
    "    oai_bml_SBL_KL_merge_left[\"id\"].isin(left_knee_tkr[\"id\"]) == True, 1, 0\n",
    ") \n",
    "\n",
    "oai_bml_SBL_KL_merge_left[\"bml_total_merged\"] = oai_bml_SBL_KL_merge_left[merged_column_list].max(axis = 1)\n",
    "oai_bml_SBL_KL_merge_left[\"bml_total_femur\"] = oai_bml_SBL_KL_merge_left[femur_column_list].max(axis = 1)\n",
    "oai_bml_SBL_KL_merge_left[\"bml_total_tibia\"] = oai_bml_SBL_KL_merge_left[tibia_column_list].max(axis = 1)\n",
    "print(oai_bml_SBL_KL_merge_left[\"bml_total_merged\"].unique())\n",
    "\n",
    "print(oai_bml_SBL_KL_merge_right)"
   ]
  },
  {
   "cell_type": "code",
   "execution_count": 25,
   "metadata": {},
   "outputs": [
    {
     "data": {
      "image/png": "[encoded data removed]",
      "text/plain": [
       "<Figure size 640x480 with 1 Axes>"
      ]
     },
     "metadata": {},
     "output_type": "display_data"
    }
   ],
   "source": [
    "# Determining which patiets had a TKR and if not, what their most recent time of follow-up was.\n",
    "\n",
    "from time_adder import add_time\n",
    "\n",
    "oai_SBL_KL_BML_right = add_time(oai_bml_SBL_KL_merge_right, \"right\")\n",
    "oai_SBL_KL_BML_left = add_time(oai_bml_SBL_KL_merge_left, \"left\")"
   ]
  },
  {
   "cell_type": "code",
   "execution_count": 26,
   "metadata": {},
   "outputs": [],
   "source": [
    "jsn_list = ['V00XRJSM',\n",
    "'V00XRJSL']\n",
    "oai_bml_SBL_KL_merge_right[\"jsn_total_merged\"] = oai_bml_SBL_KL_merge_right[jsn_list].max(axis=1)\n",
    "oai_bml_SBL_KL_merge_left[\"jsn_total_merged\"] = oai_bml_SBL_KL_merge_left[jsn_list].max(axis = 1)\n"
   ]
  },
  {
   "cell_type": "code",
   "execution_count": 27,
   "metadata": {},
   "outputs": [],
   "source": [
    "# Selecting columns from left and right knee info, to merge into 1 table for each SBL and BML model\n",
    "\n",
    "# right side\n",
    "oai_right_temp_SBL_Merged_right = oai_SBL_KL_BML_right[\n",
    "    ['id',\"time\", \"right_tkr\", \"P02SEX\", \"normalized_sbl\",'KL_Grade']\n",
    "]\n",
    "oai_right_temp_SBL_Femur_right = oai_SBL_KL_BML_right[\n",
    "    ['id',\"time\", \"right_tkr\", \"P02SEX\", \"normalized_sbl_femur\",'KL_Grade']\n",
    "]\n",
    "oai_right_temp_SBL_Tibia_right = oai_SBL_KL_BML_right[\n",
    "    ['id',\"time\", \"right_tkr\", \"P02SEX\", \"normalized_sbl_tibia\",'KL_Grade']\n",
    "]\n",
    "oai_right_temp_BML_Merged_right = oai_SBL_KL_BML_right[\n",
    "    ['id',\"time\", \"right_tkr\", \"P02SEX\", \"bml_total_merged\",'KL_Grade']\n",
    "]\n",
    "oai_right_temp_BML_Femur_right = oai_SBL_KL_BML_right[\n",
    "    ['id',\"time\", \"right_tkr\", \"P02SEX\", \"bml_total_femur\",'KL_Grade']\n",
    "]\n",
    "oai_right_temp_BML_Tibia_right = oai_SBL_KL_BML_right[\n",
    "    ['id',\"time\", \"right_tkr\", \"P02SEX\", \"bml_total_tibia\",'KL_Grade']\n",
    "]\n",
    "\n",
    "oai_right_temp_JSN_Merged_right = oai_SBL_KL_BML_right[\n",
    "    ['id',\"time\", \"right_tkr\", \"P02SEX\", 'jsn_total_merged','KL_Grade']\n",
    "]\n",
    "\n",
    "\n",
    "# left side\n",
    "oai_right_temp_SBL_Merged_left = oai_SBL_KL_BML_left[\n",
    "    ['id',\"time\", \"right_tkr\", \"P02SEX\", \"normalized_sbl\",'KL_Grade']\n",
    "]\n",
    "oai_right_temp_SBL_Femur_left = oai_SBL_KL_BML_left[\n",
    "    ['id',\"time\", \"right_tkr\", \"P02SEX\", \"normalized_sbl_femur\",'KL_Grade']\n",
    "]\n",
    "oai_right_temp_SBL_Tibia_left = oai_SBL_KL_BML_left[\n",
    "    ['id',\"time\", \"right_tkr\", \"P02SEX\", \"normalized_sbl_tibia\",'KL_Grade']\n",
    "]\n",
    "oai_right_temp_BML_Merged_left = oai_SBL_KL_BML_left[\n",
    "    ['id',\"time\", \"right_tkr\", \"P02SEX\", \"bml_total_merged\",'KL_Grade']\n",
    "]\n",
    "oai_right_temp_BML_Femur_left = oai_SBL_KL_BML_left[\n",
    "    ['id',\"time\", \"right_tkr\", \"P02SEX\", \"bml_total_femur\",'KL_Grade']\n",
    "]\n",
    "oai_right_temp_BML_Tibia_left = oai_SBL_KL_BML_left[\n",
    "    ['id',\"time\", \"right_tkr\", \"P02SEX\", \"bml_total_tibia\",'KL_Grade']\n",
    "]\n",
    "\n",
    "oai_right_temp_JSN_Merged_left = oai_SBL_KL_BML_left[\n",
    "    ['id',\"time\", \"right_tkr\", \"P02SEX\", \"jsn_total_merged\",'KL_Grade']\n",
    "]\n",
    "\n"
   ]
  },
  {
   "cell_type": "code",
   "execution_count": 28,
   "metadata": {},
   "outputs": [],
   "source": [
    "# merging information for various SBL and BML models based on left and right knee information that was selected previously\n",
    "oai_right_temp_SBL_Merged_all = pd.concat(\n",
    "    [oai_right_temp_SBL_Merged_right, oai_right_temp_SBL_Merged_left],\n",
    "    ignore_index=True,\n",
    ")\n",
    "oai_right_temp_SBL_Femur_all = pd.concat(\n",
    "    [oai_right_temp_SBL_Femur_right, oai_right_temp_SBL_Femur_left],\n",
    "    ignore_index=True,\n",
    ")\n",
    "oai_right_temp_SBL_Tibia_all = pd.concat(\n",
    "    [oai_right_temp_SBL_Tibia_right, oai_right_temp_SBL_Tibia_left],\n",
    "    ignore_index=True,\n",
    ")\n",
    "oai_right_temp_BML_Merged_all = pd.concat(\n",
    "    [oai_right_temp_BML_Merged_right, oai_right_temp_BML_Merged_left],\n",
    "    ignore_index=True,\n",
    ")\n",
    "\n",
    "oai_right_temp_BML_Merged_all = pd.concat(\n",
    "    [oai_right_temp_BML_Merged_right, oai_right_temp_BML_Merged_left],\n",
    "    ignore_index=True,\n",
    ")\n",
    "oai_right_temp_BML_Femur_all = pd.concat(\n",
    "    [oai_right_temp_BML_Femur_right, oai_right_temp_BML_Femur_left],\n",
    "    ignore_index=True,\n",
    ")\n",
    "oai_right_temp_BML_Tibia_all = pd.concat(\n",
    "    [oai_right_temp_BML_Tibia_right, oai_right_temp_BML_Tibia_left],\n",
    "    ignore_index=True,\n",
    ")\n",
    "\n",
    "oai_right_temp_JSN_Merged_all = pd.concat(\n",
    "    [oai_right_temp_JSN_Merged_right, oai_right_temp_JSN_Merged_left],\n",
    "    ignore_index=True,\n",
    ")"
   ]
  },
  {
   "cell_type": "code",
   "execution_count": 29,
   "metadata": {},
   "outputs": [
    {
     "name": "stdout",
     "output_type": "stream",
     "text": [
      "0\n"
     ]
    }
   ],
   "source": [
    "\n",
    "\n",
    "\n",
    "# dropping the the smaller KL grade from patients who have 2 knees in the table in order to avoid confounding variables.\n",
    "oai_right_temp_SBL_Merged_all = oai_right_temp_SBL_Merged_all.sort_values('KL_Grade').drop_duplicates('id', keep='last').sort_index()\n",
    "oai_right_temp_SBL_Femur_all = oai_right_temp_SBL_Femur_all.sort_values('KL_Grade').drop_duplicates('id', keep='last').sort_index()\n",
    "oai_right_temp_SBL_Tibia_all = oai_right_temp_SBL_Tibia_all.sort_values('KL_Grade').drop_duplicates('id', keep='last').sort_index()\n",
    "oai_right_temp_BML_Merged_all = oai_right_temp_BML_Merged_all.sort_values('KL_Grade').drop_duplicates('id', keep='last').sort_index()\n",
    "oai_right_temp_BML_Femur_all = oai_right_temp_BML_Femur_all.sort_values('KL_Grade').drop_duplicates('id', keep='last').sort_index()\n",
    "oai_right_temp_BML_Tibia_all = oai_right_temp_BML_Tibia_all.sort_values('KL_Grade').drop_duplicates('id', keep='last').sort_index()\n",
    "oai_right_temp_JSN_Merged_all = oai_right_temp_JSN_Merged_all.sort_values('KL_Grade').drop_duplicates('id', keep='last').sort_index()\n",
    "#Checking to make sure each patient has no more than 1 knee in the table\n",
    "print(len(list(set([x for i,x in enumerate(oai_right_temp_SBL_Merged_all['id'].tolist()) if oai_right_temp_SBL_Merged_all['id'].tolist().count(x) > 1]))))\n",
    "\n",
    "\n"
   ]
  },
  {
   "cell_type": "code",
   "execution_count": 30,
   "metadata": {},
   "outputs": [
    {
     "name": "stdout",
     "output_type": "stream",
     "text": [
      "total males 760\n",
      "total females 1214\n"
     ]
    }
   ],
   "source": [
    "groups_merged = oai_right_temp_SBL_Merged_all.groupby(\"P02SEX\")\n",
    "males_merged = groups_merged.get_group(1)\n",
    "females_merged = groups_merged.get_group(2)\n",
    "# check the gender population; male:1, female:2\n",
    "print(\"total males\", len(males_merged))\n",
    "print('total females', len(females_merged))"
   ]
  },
  {
   "cell_type": "code",
   "execution_count": 31,
   "metadata": {},
   "outputs": [
    {
     "name": "stdout",
     "output_type": "stream",
     "text": [
      "           id    time  right_tkr  P02SEX  normalized_sbl  KL_Grade\n",
      "0     9001400  3960.0          0       2       53.137286         1\n",
      "1     9001695  3240.0          0       2       83.308976         2\n",
      "2     9001897  3960.0          0       1       37.412063         3\n",
      "3     9002430  1702.0          1       1       37.789511         2\n",
      "4     9002817  3960.0          0       2       56.795537         3\n",
      "...       ...     ...        ...     ...             ...       ...\n",
      "2335  9996865  3960.0          0       2       86.428007         4\n",
      "2336  9997856  3960.0          0       1       85.286996         4\n",
      "2337  9997869  3960.0          0       2       25.549089         0\n",
      "2338  9999510  3960.0          0       1       46.496391         3\n",
      "2339  9999878  3960.0          0       2       65.718439         1\n",
      "\n",
      "[1974 rows x 6 columns]\n"
     ]
    }
   ],
   "source": [
    "print(oai_right_temp_SBL_Merged_all)"
   ]
  },
  {
   "cell_type": "code",
   "execution_count": 32,
   "metadata": {},
   "outputs": [],
   "source": [
    "oai_right_temp_SBL_Merged_all = oai_right_temp_SBL_Merged_all.drop(['id','P02SEX','KL_Grade'], axis = 1)"
   ]
  },
  {
   "cell_type": "code",
   "execution_count": 33,
   "metadata": {},
   "outputs": [
    {
     "data": {
      "text/html": [
       "<div>\n",
       "<style scoped>\n",
       "    .dataframe tbody tr th:only-of-type {\n",
       "        vertical-align: middle;\n",
       "    }\n",
       "\n",
       "    .dataframe tbody tr th {\n",
       "        vertical-align: top;\n",
       "    }\n",
       "\n",
       "    .dataframe thead th {\n",
       "        text-align: right;\n",
       "    }\n",
       "</style>\n",
       "<table border=\"1\" class=\"dataframe\">\n",
       "  <thead>\n",
       "    <tr style=\"text-align: right;\">\n",
       "      <th></th>\n",
       "      <th>time</th>\n",
       "      <th>right_tkr</th>\n",
       "      <th>normalized_sbl</th>\n",
       "    </tr>\n",
       "  </thead>\n",
       "  <tbody>\n",
       "    <tr>\n",
       "      <th>0</th>\n",
       "      <td>3960.0</td>\n",
       "      <td>0</td>\n",
       "      <td>53.137286</td>\n",
       "    </tr>\n",
       "    <tr>\n",
       "      <th>1</th>\n",
       "      <td>3240.0</td>\n",
       "      <td>0</td>\n",
       "      <td>83.308976</td>\n",
       "    </tr>\n",
       "    <tr>\n",
       "      <th>2</th>\n",
       "      <td>3960.0</td>\n",
       "      <td>0</td>\n",
       "      <td>37.412063</td>\n",
       "    </tr>\n",
       "    <tr>\n",
       "      <th>3</th>\n",
       "      <td>1702.0</td>\n",
       "      <td>1</td>\n",
       "      <td>37.789511</td>\n",
       "    </tr>\n",
       "    <tr>\n",
       "      <th>4</th>\n",
       "      <td>3960.0</td>\n",
       "      <td>0</td>\n",
       "      <td>56.795537</td>\n",
       "    </tr>\n",
       "    <tr>\n",
       "      <th>...</th>\n",
       "      <td>...</td>\n",
       "      <td>...</td>\n",
       "      <td>...</td>\n",
       "    </tr>\n",
       "    <tr>\n",
       "      <th>2335</th>\n",
       "      <td>3960.0</td>\n",
       "      <td>0</td>\n",
       "      <td>86.428007</td>\n",
       "    </tr>\n",
       "    <tr>\n",
       "      <th>2336</th>\n",
       "      <td>3960.0</td>\n",
       "      <td>0</td>\n",
       "      <td>85.286996</td>\n",
       "    </tr>\n",
       "    <tr>\n",
       "      <th>2337</th>\n",
       "      <td>3960.0</td>\n",
       "      <td>0</td>\n",
       "      <td>25.549089</td>\n",
       "    </tr>\n",
       "    <tr>\n",
       "      <th>2338</th>\n",
       "      <td>3960.0</td>\n",
       "      <td>0</td>\n",
       "      <td>46.496391</td>\n",
       "    </tr>\n",
       "    <tr>\n",
       "      <th>2339</th>\n",
       "      <td>3960.0</td>\n",
       "      <td>0</td>\n",
       "      <td>65.718439</td>\n",
       "    </tr>\n",
       "  </tbody>\n",
       "</table>\n",
       "<p>1974 rows × 3 columns</p>\n",
       "</div>"
      ],
      "text/plain": [
       "        time  right_tkr  normalized_sbl\n",
       "0     3960.0          0       53.137286\n",
       "1     3240.0          0       83.308976\n",
       "2     3960.0          0       37.412063\n",
       "3     1702.0          1       37.789511\n",
       "4     3960.0          0       56.795537\n",
       "...      ...        ...             ...\n",
       "2335  3960.0          0       86.428007\n",
       "2336  3960.0          0       85.286996\n",
       "2337  3960.0          0       25.549089\n",
       "2338  3960.0          0       46.496391\n",
       "2339  3960.0          0       65.718439\n",
       "\n",
       "[1974 rows x 3 columns]"
      ]
     },
     "execution_count": 33,
     "metadata": {},
     "output_type": "execute_result"
    }
   ],
   "source": [
    "oai_right_temp_SBL_Merged_all"
   ]
  },
  {
   "cell_type": "code",
   "execution_count": 36,
   "metadata": {},
   "outputs": [],
   "source": [
    "from sklearn.preprocessing import MinMaxScaler, StandardScaler, QuantileTransformer,RobustScaler\n",
    "time_col = list(oai_right_temp_SBL_Merged_all['time'].copy())\n",
    "right_tkr_col = list(oai_right_temp_SBL_Merged_all['right_tkr'].copy())\n",
    "# print(len(time_col), len(right_tkr_col))\n",
    "oai_right_temp_SBL_Merged_all = oai_right_temp_SBL_Merged_all.drop(['time', 'right_tkr'], axis=1)\n",
    "scaler = MinMaxScaler()\n",
    "dataframe = scaler.fit_transform(oai_right_temp_SBL_Merged_all)\n",
    "oai_right_temp_SBL_Merged_all = pd.DataFrame(dataframe)\n",
    "oai_right_temp_SBL_Merged_all[\"right_tkr\"] = right_tkr_col\n",
    "oai_right_temp_SBL_Merged_all[\"time\"] = time_col\n",
    "oai_right_temp_SBL_Merged_all = oai_right_temp_SBL_Merged_all.rename(columns={0: 'normalized_sbl'})"
   ]
  },
  {
   "cell_type": "code",
   "execution_count": 37,
   "metadata": {},
   "outputs": [],
   "source": [
    "#Splitting Patients by SBL Difference Quartiles for Kaplan-Meier Analysis\n",
    "\n",
    "per_0, per_25, per_50, per_75, per_100 = np.quantile(sorted(oai_right_temp_SBL_Merged_all.normalized_sbl.tolist()),[0,0.25,0.5,0.75,1])\n",
    "less_25 = oai_right_temp_SBL_Merged_all.loc[oai_right_temp_SBL_Merged_all['normalized_sbl'] < per_25]\n",
    "to_50 = oai_right_temp_SBL_Merged_all.loc[(oai_right_temp_SBL_Merged_all['normalized_sbl'] < per_50) & (oai_right_temp_SBL_Merged_all['normalized_sbl'] >=  per_25)]\n",
    "to_75 = oai_right_temp_SBL_Merged_all.loc[(oai_right_temp_SBL_Merged_all['normalized_sbl'] <= per_75) & (oai_right_temp_SBL_Merged_all['normalized_sbl'] >= per_50 )]\n",
    "above_75 = oai_right_temp_SBL_Merged_all.loc[oai_right_temp_SBL_Merged_all['normalized_sbl'] > per_75]\n",
    "\n",
    "oai_right_temp_SBL_Merged_all.loc[oai_right_temp_SBL_Merged_all['normalized_sbl'] < per_25, 'SBL_Group'] = 0\n",
    "oai_right_temp_SBL_Merged_all.loc[(oai_right_temp_SBL_Merged_all['normalized_sbl'] < per_50) & (oai_right_temp_SBL_Merged_all['normalized_sbl'] >=  per_25), 'SBL_Group'] = 1\n",
    "oai_right_temp_SBL_Merged_all.loc[(oai_right_temp_SBL_Merged_all['normalized_sbl'] <= per_75) & (oai_right_temp_SBL_Merged_all['normalized_sbl'] >= per_50 ), 'SBL_Group'] = 2\n",
    "oai_right_temp_SBL_Merged_all.loc[oai_right_temp_SBL_Merged_all['normalized_sbl'] > per_75, 'SBL_Group'] = 3\n"
   ]
  },
  {
   "cell_type": "code",
   "execution_count": 38,
   "metadata": {},
   "outputs": [
    {
     "name": "stdout",
     "output_type": "stream",
     "text": [
      "493\n",
      "66\n"
     ]
    }
   ],
   "source": [
    "print(len(to_75))\n",
    "\n",
    "print(len(to_75[(to_75['right_tkr'] == 1)]))"
   ]
  },
  {
   "cell_type": "code",
   "execution_count": 39,
   "metadata": {},
   "outputs": [
    {
     "name": "stdout",
     "output_type": "stream",
     "text": [
      "<lifelines.StatisticalResult: logrank_test>\n",
      "               t_0 = -1\n",
      " null_distribution = chi squared\n",
      "degrees_of_freedom = 1\n",
      "         test_name = logrank_test\n",
      "\n",
      "---\n",
      "         test_statistic      p  -log2(p)\n",
      "0.0 1.0            1.28   0.26      1.95\n",
      "    2.0           23.97 <0.005     19.97\n",
      "    3.0          132.87 <0.005     99.71\n",
      "1.0 2.0           14.72 <0.005     12.97\n",
      "    3.0          113.16 <0.005     85.38\n",
      "2.0 3.0           52.54 <0.005     41.11\n"
     ]
    },
    {
     "data": {
      "image/png": "[encoded data removed]",
      "text/plain": [
       "<Figure size 1050x350 with 2 Axes>"
      ]
     },
     "metadata": {},
     "output_type": "display_data"
    }
   ],
   "source": [
    "# Kaplan Meier Analysis based on SBL Quartiles \n",
    "\n",
    "plt.rcParams[\"figure.figsize\"] = [10.50, 3.50]\n",
    "kmf = KaplanMeierFitter()\n",
    "kmf.fit(\n",
    "    durations=less_25[\"time\"],\n",
    "    event_observed=less_25[\"right_tkr\"],\n",
    "    label = '< 25 perentile SBL'\n",
    ")\n",
    "\n",
    "kmf.plot_survival_function(\n",
    "    show_censors=True,linestyle='solid', censor_styles={\"ms\": 6, \"marker\": \"X\"}\n",
    ")\n",
    "kmf1 = KaplanMeierFitter()\n",
    "kmf1.fit(\n",
    "    durations=to_50[\"time\"],\n",
    "    event_observed=to_50[\"right_tkr\"],\n",
    "    label = '25 - 49 Percentile SBL'\n",
    ")\n",
    "\n",
    "kmf1.plot_survival_function(\n",
    "    show_censors=True,linestyle='dotted', censor_styles={\"ms\": 6, \"marker\": \"s\"}\n",
    ")\n",
    "kmf2 = KaplanMeierFitter()\n",
    "kmf2.fit(\n",
    "    durations=to_75[\"time\"],\n",
    "    event_observed=to_75[\"right_tkr\"],\n",
    "    label = '50 - 75 Percentile SBL'\n",
    ")\n",
    "\n",
    "kmf2.plot_survival_function(\n",
    "    show_censors=True,linestyle='dashdot', censor_styles={\"ms\": 6, \"marker\": \"<\"}\n",
    ")\n",
    "kmf3 = KaplanMeierFitter()\n",
    "kmf3.fit(\n",
    "    durations=above_75[\"time\"],\n",
    "    event_observed=above_75[\"right_tkr\"],\n",
    "    label = '> 75 Percentile SBL'\n",
    ")\n",
    "\n",
    "kmf3.plot_survival_function(\n",
    "    show_censors=True,linestyle='dashed',dashes=[10, 1, 10, 1], censor_styles={\"ms\": 6, \"marker\": \"o\"}\n",
    ")\n",
    "\n",
    "plt.yticks(np.arange(0, 1.1, 0.2))\n",
    "plt.ylabel(\"Survival Probability\")\n",
    "\n",
    "plt.xlabel(\"Timeline (Days)\")\n",
    "plt.legend(loc = 'lower left')\n",
    "from lifelines.plotting import add_at_risk_counts\n",
    "add_at_risk_counts(kmf, kmf1, kmf2, kmf3)\n",
    "plt.savefig('/home/tsurendr/KMF_Curves/New_Analysis/kmf_SBL_Normalized.pdf', format='pdf', bbox_inches = 'tight')\n",
    "\n",
    "#Log-rank test to compare the survival function between various SBL populations\n",
    "results_multivariate = pairwise_logrank_test(oai_right_temp_SBL_Merged_all['time'], oai_right_temp_SBL_Merged_all['SBL_Group'],oai_right_temp_SBL_Merged_all['right_tkr'])\n",
    "print(results_multivariate)\n"
   ]
  },
  {
   "cell_type": "code",
   "execution_count": 40,
   "metadata": {},
   "outputs": [
    {
     "data": {
      "image/png": "[encoded data removed]",
      "text/plain": [
       "<Figure size 1050x350 with 1 Axes>"
      ]
     },
     "metadata": {},
     "output_type": "display_data"
    }
   ],
   "source": [
    "import lifelines\n",
    "lifelines.plotting.loglogs_plot(kmf)\n",
    "lifelines.plotting.loglogs_plot(kmf1)\n",
    "lifelines.plotting.loglogs_plot(kmf2)\n",
    "lifelines.plotting.loglogs_plot(kmf3)\n",
    "plt.yticks(np.arange(-7, 1, 1))\n",
    "# plt.title('Log-Log curve for SBL')\n",
    "plt.savefig('/home/tsurendr/KMF_Curves/New_Analysis/log-log_SBL_Normalized.pdf', format='pdf', bbox_inches = 'tight')"
   ]
  },
  {
   "cell_type": "code",
   "execution_count": null,
   "metadata": {},
   "outputs": [],
   "source": []
  }
 ],
 "metadata": {
  "kernelspec": {
   "display_name": "Python 3.9.13 ('neuro': conda)",
   "language": "python",
   "name": "python3"
  },
  "language_info": {
   "codemirror_mode": {
    "name": "ipython",
    "version": 3
   },
   "file_extension": ".py",
   "mimetype": "text/x-python",
   "name": "python",
   "nbconvert_exporter": "python",
   "pygments_lexer": "ipython3",
   "version": "3.10.4"
  },
  "vscode": {
   "interpreter": {
    "hash": "7c5ec2711fb9be5244b20562b562d0757efd7313fdacff057c04e89290da72bf"
   }
  }
 },
 "nbformat": 4,
 "nbformat_minor": 2
}
