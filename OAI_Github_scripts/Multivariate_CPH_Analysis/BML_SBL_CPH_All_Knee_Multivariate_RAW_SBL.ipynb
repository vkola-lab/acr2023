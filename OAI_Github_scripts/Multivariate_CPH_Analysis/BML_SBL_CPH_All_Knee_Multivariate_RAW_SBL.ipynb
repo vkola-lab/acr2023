{
 "cells": [
  {
   "cell_type": "code",
   "execution_count": 1,
   "metadata": {},
   "outputs": [
    {
     "name": "stdout",
     "output_type": "stream",
     "text": [
      "Requirement already satisfied: pandas==1.5.3 in /home/tsurendr/.conda/envs/neuro/lib/python3.10/site-packages (1.5.3)\n",
      "Requirement already satisfied: pytz>=2020.1 in /home/tsurendr/.conda/envs/neuro/lib/python3.10/site-packages (from pandas==1.5.3) (2023.3)\n",
      "Requirement already satisfied: python-dateutil>=2.8.1 in /home/tsurendr/.conda/envs/neuro/lib/python3.10/site-packages (from pandas==1.5.3) (2.8.2)\n",
      "Requirement already satisfied: numpy>=1.21.0 in /home/tsurendr/.conda/envs/neuro/lib/python3.10/site-packages (from pandas==1.5.3) (1.22.3)\n",
      "Requirement already satisfied: six>=1.5 in /home/tsurendr/.conda/envs/neuro/lib/python3.10/site-packages (from python-dateutil>=2.8.1->pandas==1.5.3) (1.16.0)\n",
      "Note: you may need to restart the kernel to use updated packages.\n"
     ]
    }
   ],
   "source": [
    "import sys\n",
    "\n",
    "sys.path.insert(0, \"/home/tsurendr/OAI_Skeletal_Radiology_Code_Working\")\n",
    "sys.path\n",
    "%pip install -U pandas==1.5.3\n"
   ]
  },
  {
   "cell_type": "code",
   "execution_count": 2,
   "metadata": {},
   "outputs": [],
   "source": [
    "import pandas as pd\n",
    "import numpy as np\n",
    "import matplotlib.pyplot as plt\n",
    "from lifelines import KaplanMeierFitter\n",
    "from lifelines import CoxPHFitter\n",
    "import lifelines\n",
    "import math\n",
    "import sys\n",
    "from statistics import stdev\n",
    "from lifelines.statistics import logrank_test, multivariate_logrank_test,pairwise_logrank_test\n",
    "\n",
    "# Set the path of SBL and merge1 files and read the files\n",
    "loc_data = \"/data_1/OAI_SBL_Analysis_Data/\"\n",
    "loc_module = \"/home/tsurendr/OAI_Github_scripts\"\n",
    "loc_data_SBL = loc_data + \"SBL_0904.csv\"\n",
    "loc_merge1 = loc_data + \"merge1_KL.csv\"\n",
    "raw_data_SBL = pd.read_csv(loc_data_SBL)\n",
    "merge1 = pd.read_csv(loc_merge1)\n",
    "# load custom module \n",
    "sys.path.append(loc_module)"
   ]
  },
  {
   "cell_type": "code",
   "execution_count": 3,
   "metadata": {},
   "outputs": [],
   "source": [
    "sbl_col_names = [\"F\" + str(i) for i in range(200)] + [\n",
    "    \"T\" + str(i) for i in range(200)\n",
    "]  # femur: F0~ F199 , tibia: T0 ~ T199\n",
    "sbl_col_names_femur = [\"F\" + str(i) for i in range(200)]\n",
    "sbl_col_names_tibia = [\"T\" + str(i) for i in range(200)]"
   ]
  },
  {
   "cell_type": "code",
   "execution_count": 4,
   "metadata": {},
   "outputs": [
    {
     "name": "stdout",
     "output_type": "stream",
     "text": [
      "      F0_merged  F1_merged  F2_merged  F3_merged  F4_merged  F5_merged  \\\n",
      "0           4.0   3.532079   2.297244   0.093239   0.000000   0.000000   \n",
      "1           3.0   0.180653   3.549661  31.076046  46.106151  55.543236   \n",
      "2           3.0   5.358804   5.951435   3.999878   3.000000   3.000000   \n",
      "3           0.0   0.000000   1.037586   8.400008  37.597578  60.490127   \n",
      "4           0.0   0.000000   0.000000   0.000000   0.395532   3.030169   \n",
      "...         ...        ...        ...        ...        ...        ...   \n",
      "9429        4.0   0.312965   0.808443   7.923382  19.633445  36.613096   \n",
      "9430        0.0   0.000000   0.000000   0.000000   0.000000   0.000000   \n",
      "9431        0.0   0.000000   0.000000   0.000000   0.000000   0.000000   \n",
      "9432        0.0   0.000000   0.000000   0.000000   0.049816   5.269794   \n",
      "9433        6.0   1.408218   0.000000   0.000000   0.000000   0.000000   \n",
      "\n",
      "      F6_merged  F7_merged  F8_merged  F9_merged  ...  T190_merged  \\\n",
      "0      0.000000   0.000000   0.000000   0.000000  ...     0.000000   \n",
      "1     62.600355  68.206321  72.886973  78.181635  ...    75.450373   \n",
      "2      2.609164   0.422986   5.712379  28.619947  ...    27.269226   \n",
      "3     69.915004  78.053542  85.838532  93.847291  ...    65.138068   \n",
      "4      7.693455  16.520127  37.927709  55.613679  ...    46.558476   \n",
      "...         ...        ...        ...        ...  ...          ...   \n",
      "9429  57.591739  73.346927  84.254631  91.555481  ...    62.505970   \n",
      "9430   0.000000   0.000000   1.864595  25.376389  ...    36.600126   \n",
      "9431   0.468768  19.991601  40.887993  55.225361  ...    72.698659   \n",
      "9432  16.079861  43.972664  67.966155  80.000618  ...    58.798233   \n",
      "9433   0.000000   0.000000   0.000000   0.000000  ...     0.000000   \n",
      "\n",
      "      T191_merged  T192_merged  T193_merged  T194_merged  T195_merged  \\\n",
      "0        0.000000     0.000000     0.000000     0.000000     0.000000   \n",
      "1       70.681829    62.420245    58.495949    56.249404    47.712155   \n",
      "2        5.562963     0.000000     0.000000     0.000000     0.000000   \n",
      "3       57.541607    51.441154    44.834931    29.649290    11.989397   \n",
      "4       44.746058    38.720345    29.832754    18.304327     2.951661   \n",
      "...           ...          ...          ...          ...          ...   \n",
      "9429    58.607941    53.922085    40.310362    10.940294     2.389575   \n",
      "9430    21.063155     6.895736     0.000000     0.000000     0.000000   \n",
      "9431    68.728957    65.061824    61.492939    58.571141    55.409187   \n",
      "9432    57.428517    53.362662    46.862167    41.651122    35.746666   \n",
      "9433     0.000000     0.000000     0.000000     0.000000     0.000000   \n",
      "\n",
      "      T196_merged  T197_merged  T198_merged  T199_merged  \n",
      "0        0.000000     0.000000     0.000000          0.0  \n",
      "1       35.529405    22.404094    10.603953          0.0  \n",
      "2        0.000000     0.000000     0.000000          0.0  \n",
      "3        0.000000     0.000000     0.000000          0.0  \n",
      "4        0.000000     0.000000     0.000000          0.0  \n",
      "...           ...          ...          ...          ...  \n",
      "9429     0.000000     0.000000     0.000000          0.0  \n",
      "9430     0.000000     0.000000     0.000000          0.0  \n",
      "9431    50.065947    41.519318    25.236632          0.0  \n",
      "9432    23.510369    10.378279     3.663433          0.0  \n",
      "9433     0.000000     0.000000     0.000000          0.0  \n",
      "\n",
      "[9434 rows x 400 columns]\n"
     ]
    }
   ],
   "source": [
    "# ##################################\n",
    "# # In this model we are using RAW SBL VALUES#\n",
    "# ##################################\n",
    "# raw_sbl_values = raw_data_SBL.loc[:, sbl_col_names].values\n",
    "# # print(raw_data_SBL)\n",
    "# sbl_values = np.empty_like(raw_sbl_values)  # for saving normalized SBL\n",
    "# for row in range(raw_sbl_values.shape[0]):\n",
    "#     sbl_values[row, :] = (\n",
    "#         raw_sbl_values[row, :] / raw_sbl_values[row, :].mean()\n",
    "#     )  # normalize by the averaged val. of SBL\n",
    "# df_normalized_SBL = pd.DataFrame(sbl_values, columns=sbl_col_names)\n",
    "# # get mean of Kellgren Lawrence (KL) grade 0\n",
    "# sbl_KL_0_mean = df_normalized_SBL.loc[\n",
    "#     (merge1[\"KL_Grade\"] == 0) , sbl_col_names\n",
    "# ].values.mean(0)\n",
    "\n",
    "# print(f\"shape of sbl_KL_0_mean: {sbl_KL_0_mean.shape}\")\n",
    "# baseline = sbl_KL_0_mean\n",
    "# sbl_difference = df_normalized_SBL.loc[:, sbl_col_names].sub(baseline, axis=1)\n",
    "# # absolute value of sbl difference.\n",
    "# sbl_difference_absolute = sbl_difference.abs()\n",
    "# sbl_difference_absolute.name = \"normalized_sbl\"\n",
    "df_normalized_SBL_both = pd.DataFrame(raw_data_SBL)\n",
    "df_normalized_SBL_both = df_normalized_SBL_both.add_suffix('_merged')\n",
    "# df_normalized_SBL_both['SBL_difference_merged'] = df_normalized_SBL_both.sum(axis=1)\n",
    "\n",
    "df_normalized_SBL_both.drop(columns=df_normalized_SBL_both.columns[0], axis=1,  inplace=True)\n",
    "df_normalized_SBL_both.drop(columns=df_normalized_SBL_both.columns[-1], axis=1,  inplace=True)\n",
    "df_normalized_SBL_both.drop(columns=df_normalized_SBL_both.columns[-1], axis=1,  inplace=True)\n",
    "print(df_normalized_SBL_both)"
   ]
  },
  {
   "cell_type": "code",
   "execution_count": 5,
   "metadata": {},
   "outputs": [],
   "source": [
    "# Combining 3 Variables: df_normalized_SBL_both, df_normalized_SBL_femur, df_normalized_SBL_tibia\n",
    "data_SBL = pd.merge(\n",
    "    raw_data_SBL, df_normalized_SBL_both, right_index=True, left_index=True\n",
    ")  # merge df_normalized_SBL_both\n"
   ]
  },
  {
   "cell_type": "code",
   "execution_count": 6,
   "metadata": {},
   "outputs": [
    {
     "name": "stdout",
     "output_type": "stream",
     "text": [
      "total number of baseline knees 9434\n"
     ]
    }
   ],
   "source": [
    "# Splitting data by knee side(right/left) and formatting columns appropriately \n",
    "print(\"total number of baseline knees\", len(data_SBL))\n",
    "data_SBL[\"id\"] = data_SBL[\"id\"].astype(str)\n",
    "data_BioMarkers = pd.read_csv(loc_data + \"Biomarker_data.csv\")\n",
    "data_SBL = data_SBL.drop([\"Unnamed: 0\"], axis=1)\n",
    "data_BioMarkers = data_BioMarkers.drop([\"Unnamed: 0\"], axis=1)\n",
    "side_SBL_temp = data_SBL.groupby(\"SIDE\")\n",
    "side_1_SBL_Right = side_SBL_temp.get_group(1)\n",
    "side_2_SBL_Left = side_SBL_temp.get_group(2)"
   ]
  },
  {
   "cell_type": "code",
   "execution_count": 7,
   "metadata": {},
   "outputs": [
    {
     "name": "stdout",
     "output_type": "stream",
     "text": [
      "total number of right knees 4727\n",
      "total number of left knees 4707\n"
     ]
    }
   ],
   "source": [
    "print(\"total number of right knees\", len(side_1_SBL_Right))\n",
    "print(\"total number of left knees\", len(side_2_SBL_Left))"
   ]
  },
  {
   "cell_type": "code",
   "execution_count": 8,
   "metadata": {},
   "outputs": [
    {
     "name": "stdout",
     "output_type": "stream",
     "text": [
      "Before data drop mri data 4796\n",
      "complete mri data 4650\n",
      "number of drop: 146\n",
      "oai Data:  4650\n"
     ]
    }
   ],
   "source": [
    "# settings\n",
    "NUM_YEARS = 11.0 \n",
    "encoding = \"utf-8\"\n",
    "# read and preprocessing\n",
    "raw_df = pd.read_sas(loc_data + \"outcomes99.sas7bdat\")\n",
    "# must censor data per knee\n",
    "print(\"Before data drop mri data\", len(raw_df))\n",
    "df = raw_df.dropna(axis=0, subset=[\"V99RNTCNT\"])\n",
    "print(\"complete mri data\", len(df))\n",
    "print(f\"number of drop: {len(raw_df)-len(df)}\")\n",
    "df = df.copy()\n",
    "df.loc[:, \"id\"] = df[\"id\"].apply(lambda x: str(x, encoding))\n",
    "merge1 = merge1.dropna(axis=0, subset=[\"P02SEX\"])\n",
    "merge1 = merge1.dropna(axis=0, subset=[\"V00AGE\"])\n",
    "merge1 = merge1.dropna(axis=0, subset=[\"V00XRJSM\"])\n",
    "merge1 = merge1.dropna(axis=0, subset=[\"V00XRJSL\"])\n",
    "merge1[\"id\"] = merge1[\"id\"].astype(str)\n",
    "merge1_temp = merge1.groupby(\"SIDE\")\n",
    "merge1_right = merge1_temp.get_group(1)\n",
    "merge1_left = merge1_temp.get_group(2)\n",
    "df_8_years = df[df[\"V99RNTCNT\"] <= NUM_YEARS].copy()\n",
    "print(\"oai Data: \", len(df_8_years))"
   ]
  },
  {
   "cell_type": "code",
   "execution_count": 9,
   "metadata": {},
   "outputs": [],
   "source": [
    "# KL Grade information preprocessing for right knees\n",
    "data_KL_grade_right = pd.read_csv(loc_data + \"rightFilteredklMEAS.csv\")\n",
    "data_KL_grade_right = data_KL_grade_right.drop([\"Unnamed: 0\"], axis=1)\n",
    "data_KL_grade_right = data_KL_grade_right.dropna(axis=0, subset=[\"V00XRKLR\"])\n",
    "data_KL_grade_right[\"id\"] = data_KL_grade_right[\"id\"].astype(str)"
   ]
  },
  {
   "cell_type": "code",
   "execution_count": 10,
   "metadata": {},
   "outputs": [],
   "source": [
    "# KL Grade information preprocessing for left knees\n",
    "data_KL_grade_left = pd.read_csv(loc_data + \"leftFilteredklMEAS.csv\")\n",
    "data_KL_grade_left = data_KL_grade_left.drop([\"Unnamed: 0\"], axis=1)\n",
    "data_KL_grade_left = data_KL_grade_left.dropna(axis=0, subset=[\"V00XRKLL\"])\n",
    "data_KL_grade_left[\"id\"] = data_KL_grade_left[\"id\"].astype(str)"
   ]
  },
  {
   "cell_type": "code",
   "execution_count": 11,
   "metadata": {},
   "outputs": [
    {
     "name": "stdout",
     "output_type": "stream",
     "text": [
      "bml right Data:  1587\n"
     ]
    }
   ],
   "source": [
    "# BML information preprocessing for right knees. \n",
    "# right side\n",
    "data_BML_right = pd.read_csv(loc_data + \"rightFilteredbmlMoaks.csv\")\n",
    "data_BML_right[\"id\"] = data_BML_right[\"id\"].astype(str)\n",
    "\n",
    "data_BML_right = data_BML_right.drop([\"Unnamed: 0\"], axis=1)\n",
    "data_BML_right = data_BML_right.dropna(axis=0, subset=['V00MBMSFMA',\n",
    "'V00MBMSFLA',\n",
    "'V00MBMSFMC',\n",
    "'V00MBMSFLC',\n",
    "'V00MBMSFMP',\n",
    "'V00MBMSFLP',\n",
    "'V00MBMSSS',\n",
    "'V00MBMSTMA',\n",
    "'V00MBMSTLA',\n",
    "'V00MBMSTMC',\n",
    "'V00MBMSTLC',\n",
    "'V00MBMSTMP',\n",
    "'V00MBMSTLP'])\n",
    "\n",
    "# For verification after data processing\n",
    "print(\"bml right Data: \", len(data_BML_right))\n"
   ]
  },
  {
   "cell_type": "code",
   "execution_count": 12,
   "metadata": {},
   "outputs": [],
   "source": [
    "# Race Data, dropping patients with missing data\n",
    "race_data = pd.read_csv('/data_1/OAI_Backup/MeasInventory.csv')\n",
    "race_data = race_data.dropna(axis=0, subset=['P02RACE'])\n",
    "race_data = race_data.drop(columns=['V00AGE'])\n",
    "race_data = race_data.drop(columns=['P02SEX'])\n",
    "race_data = race_data.drop(columns=['V00XRKLR'])\n",
    "race_data = race_data.drop(columns=['V00XRKLL'])\n",
    "race_data['id'] = race_data['id'].astype(str)\n"
   ]
  },
  {
   "cell_type": "code",
   "execution_count": 13,
   "metadata": {},
   "outputs": [
    {
     "name": "stdout",
     "output_type": "stream",
     "text": [
      "1587\n",
      "1584\n",
      "1257\n"
     ]
    }
   ],
   "source": [
    "# Merging all right knee info, including demographics, TKR, KL Grade, BML, etc...\n",
    "oai_bml_merge_right = pd.merge(df_8_years, data_BML_right, how=\"inner\", on=[\"id\"])\n",
    "oai_bml_SBL_KL_merge_right_pre = pd.merge(\n",
    "    oai_bml_merge_right, side_1_SBL_Right, how=\"inner\", on=[\"id\"]\n",
    ")\n",
    "print(len(oai_bml_SBL_KL_merge_right_pre))\n",
    "\n",
    "oai_bml_SBL_KL_merge_right_age_pre_1 = pd.merge(\n",
    "    oai_bml_SBL_KL_merge_right_pre, data_KL_grade_right, how=\"inner\", on=[\"id\"]\n",
    ")\n",
    "oai_bml_SBL_KL_merge_right_pre = pd.merge(\n",
    "    oai_bml_SBL_KL_merge_right_age_pre_1, merge1_right, how=\"inner\", on=[\"id\"]\n",
    ")\n",
    "\n",
    "\n",
    "oai_bml_SBL_KL_merge_right = pd.merge(\n",
    "    oai_bml_SBL_KL_merge_right_pre, race_data, how=\"inner\", on=[\"id\"]\n",
    ")\n",
    "print(len(oai_bml_SBL_KL_merge_right))\n",
    "\n",
    "oai_bml_SBL_KL_merge_right.drop_duplicates(subset=[\"id\"], inplace=True, keep=\"last\")\n",
    "oai_bml_SBL_KL_merge_right.reset_index(drop=True, inplace=True)\n",
    "print(len(oai_bml_SBL_KL_merge_right))\n"
   ]
  },
  {
   "cell_type": "code",
   "execution_count": 14,
   "metadata": {},
   "outputs": [
    {
     "name": "stdout",
     "output_type": "stream",
     "text": [
      "True\n"
     ]
    }
   ],
   "source": [
    "if 'V00XRJSM' in oai_bml_SBL_KL_merge_right:\n",
    "    print(True)\n",
    "else:\n",
    "    print(False)"
   ]
  },
  {
   "cell_type": "code",
   "execution_count": 15,
   "metadata": {},
   "outputs": [
    {
     "name": "stdout",
     "output_type": "stream",
     "text": [
      "True\n"
     ]
    }
   ],
   "source": [
    "if 'V00XRJSL' in oai_bml_SBL_KL_merge_right:\n",
    "    print(True)\n",
    "else:\n",
    "    print(False)"
   ]
  },
  {
   "cell_type": "code",
   "execution_count": 16,
   "metadata": {},
   "outputs": [
    {
     "name": "stdout",
     "output_type": "stream",
     "text": [
      "bml left Data:  1366\n"
     ]
    }
   ],
   "source": [
    "# BML information preprocessing for left knees. \n",
    "# left side\n",
    "data_BML_left = pd.read_csv(loc_data + \"leftFilteredbmlMoaks.csv\")\n",
    "data_BML_left[\"id\"] = data_BML_left[\"id\"].astype(str)\n",
    "\n",
    "data_BML_left = data_BML_left.drop([\"Unnamed: 0\"], axis=1)\n",
    "data_BML_left = data_BML_left.dropna(axis=0, subset=['V00MBMSFMA',\n",
    "'V00MBMSFLA',\n",
    "'V00MBMSFMC',\n",
    "'V00MBMSFLC',\n",
    "'V00MBMSFMP',\n",
    "'V00MBMSFLP',\n",
    "'V00MBMSSS',\n",
    "'V00MBMSTMA',\n",
    "'V00MBMSTLA',\n",
    "'V00MBMSTMC',\n",
    "'V00MBMSTLC',\n",
    "'V00MBMSTMP',\n",
    "'V00MBMSTLP'])\n",
    "\n",
    "# For verification after data processing\n",
    "print(\"bml left Data: \", len(data_BML_left))"
   ]
  },
  {
   "cell_type": "code",
   "execution_count": 17,
   "metadata": {},
   "outputs": [
    {
     "name": "stdout",
     "output_type": "stream",
     "text": [
      "1083\n"
     ]
    }
   ],
   "source": [
    "# Merging all left knee info, including demographics, TKR, KL Grade, BML, etc...\n",
    "oai_bml_merge_left = pd.merge(df_8_years, data_BML_left, how=\"inner\", on=[\"id\"])\n",
    "oai_bml_SBL_KL_merge_left_pre = pd.merge(\n",
    "    oai_bml_merge_left, side_2_SBL_Left, how=\"inner\", on=[\"id\"]\n",
    ")\n",
    "oai_bml_SBL_KL_merge_left_age_pre_1 = pd.merge(\n",
    "    oai_bml_SBL_KL_merge_left_pre, data_KL_grade_left, how=\"inner\", on=[\"id\"]\n",
    ") \n",
    "\n",
    "oai_bml_SBL_KL_merge_left_pre = pd.merge(\n",
    "    oai_bml_SBL_KL_merge_left_age_pre_1, merge1_left, how=\"inner\", on=[\"id\"]\n",
    ")\n",
    "\n",
    "oai_bml_SBL_KL_merge_left = pd.merge(\n",
    "    oai_bml_SBL_KL_merge_left_pre, race_data, how=\"inner\", on=[\"id\"]\n",
    ")\n",
    "oai_bml_SBL_KL_merge_left.drop_duplicates(subset=[\"id\"], inplace=True, keep=\"last\")\n",
    "oai_bml_SBL_KL_merge_left.reset_index(drop=True, inplace=True)\n",
    "print(len(oai_bml_SBL_KL_merge_left))\n"
   ]
  },
  {
   "cell_type": "code",
   "execution_count": 18,
   "metadata": {},
   "outputs": [
    {
     "name": "stdout",
     "output_type": "stream",
     "text": [
      "True\n"
     ]
    }
   ],
   "source": [
    "if 'V00XRJSM' in oai_bml_SBL_KL_merge_left:\n",
    "    print(True)\n",
    "else:\n",
    "    print(False)"
   ]
  },
  {
   "cell_type": "code",
   "execution_count": 19,
   "metadata": {},
   "outputs": [
    {
     "name": "stdout",
     "output_type": "stream",
     "text": [
      "True\n"
     ]
    }
   ],
   "source": [
    "if 'V00XRJSL' in oai_bml_SBL_KL_merge_left:\n",
    "    print(True)\n",
    "else:\n",
    "    print(False)"
   ]
  },
  {
   "cell_type": "code",
   "execution_count": 20,
   "metadata": {},
   "outputs": [
    {
     "name": "stdout",
     "output_type": "stream",
     "text": [
      "0\n",
      "0\n"
     ]
    }
   ],
   "source": [
    "print(oai_bml_SBL_KL_merge_right['V00XRJSM'].isnull().sum())\n",
    "print(oai_bml_SBL_KL_merge_right['V00XRJSL'].isnull().sum())"
   ]
  },
  {
   "cell_type": "code",
   "execution_count": 21,
   "metadata": {},
   "outputs": [
    {
     "name": "stdout",
     "output_type": "stream",
     "text": [
      "0\n",
      "0\n"
     ]
    }
   ],
   "source": [
    "print(oai_bml_SBL_KL_merge_left['V00XRJSM'].isnull().sum())\n",
    "print(oai_bml_SBL_KL_merge_left['V00XRJSL'].isnull().sum())"
   ]
  },
  {
   "cell_type": "code",
   "execution_count": 22,
   "metadata": {},
   "outputs": [],
   "source": [
    "# need 3 groups representing merged femur and tibia. \n",
    "\n",
    "femur_column_list = ['V00MBMSFMA',\n",
    "'V00MBMSFLA',\n",
    "'V00MBMSFMC',\n",
    "'V00MBMSFLC',\n",
    "'V00MBMSFMP',\n",
    "'V00MBMSFLP']\n",
    "\n",
    "tibia_column_list = ['V00MBMSSS',\n",
    "'V00MBMSTMA',\n",
    "'V00MBMSTLA',\n",
    "'V00MBMSTMC',\n",
    "'V00MBMSTLC',\n",
    "'V00MBMSTMP',\n",
    "'V00MBMSTLP']\n",
    "\n",
    "merged_column_list = ['V00MBMSFMA',\n",
    "'V00MBMSFLA',\n",
    "'V00MBMSFMC',\n",
    "'V00MBMSFLC',\n",
    "'V00MBMSFMP',\n",
    "'V00MBMSFLP',\n",
    "'V00MBMSSS',\n",
    "'V00MBMSTMA',\n",
    "'V00MBMSTLA',\n",
    "'V00MBMSTMC',\n",
    "'V00MBMSTLC',\n",
    "'V00MBMSTMP',\n",
    "'V00MBMSTLP']\n"
   ]
  },
  {
   "cell_type": "code",
   "execution_count": 23,
   "metadata": {},
   "outputs": [
    {
     "name": "stdout",
     "output_type": "stream",
     "text": [
      "total knees on right side:  1257\n",
      "censored right knees:  1084\n",
      "proper right knee tkr:  173\n",
      "[1. 2. 3. 0.]\n",
      "total knees on left side:  1083\n",
      "censored left knees:  923\n",
      "proper left knee tkr:  160\n",
      "[3. 2. 1. 0.]\n",
      "           id version  V99RNTCNT V99ERKDATE  V99ERKFLDT  V99ERKRPCF_x  \\\n",
      "0     9001400   b'10'       11.0        NaT         NaN           NaN   \n",
      "1     9001695   b'10'        9.0        NaT         NaN           NaN   \n",
      "2     9001897   b'10'       11.0        NaT         NaN           NaN   \n",
      "3     9002430   b'10'       11.0 2010-02-15         1.0           3.0   \n",
      "4     9002817   b'10'       11.0        NaT         NaN           NaN   \n",
      "...       ...     ...        ...        ...         ...           ...   \n",
      "1252  9996098   b'10'       11.0        NaT         NaN           NaN   \n",
      "1253  9996865   b'10'       11.0        NaT         NaN           NaN   \n",
      "1254  9997381   b'10'       11.0        NaT         NaN           NaN   \n",
      "1255  9999510   b'10'       11.0        NaT         NaN           NaN   \n",
      "1256  9999862   b'10'       11.0        NaT         NaN           NaN   \n",
      "\n",
      "      V99ERKTLPR  V99ERKTPPR  V99ERKBLRP_x  V99ERKVSRP_x  ...  \\\n",
      "0            NaN         NaN           NaN           NaN  ...   \n",
      "1            NaN         NaN           NaN           NaN  ...   \n",
      "2            NaN         NaN           NaN           NaN  ...   \n",
      "3            2.0         2.0           0.0           7.0  ...   \n",
      "4            NaN         NaN           NaN           NaN  ...   \n",
      "...          ...         ...           ...           ...  ...   \n",
      "1252         NaN         NaN           NaN           NaN  ...   \n",
      "1253         NaN         NaN           NaN           NaN  ...   \n",
      "1254         NaN         NaN           NaN           NaN  ...   \n",
      "1255         NaN         NaN           NaN           NaN  ...   \n",
      "1256         NaN         NaN           NaN           NaN  ...   \n",
      "\n",
      "          V99ERHRPSN_y      V99ELHRPSN_y      V99ERKVSRP_y      V99ELKVSRP_y  \\\n",
      "0     .A: Not Expected  .A: Not Expected  .A: Not Expected  .A: Not Expected   \n",
      "1     .A: Not Expected  .A: Not Expected  .A: Not Expected  .A: Not Expected   \n",
      "2     .A: Not Expected  .A: Not Expected  .A: Not Expected  .A: Not Expected   \n",
      "3     .A: Not Expected  .A: Not Expected       7: 60-month  .A: Not Expected   \n",
      "4     .A: Not Expected  .A: Not Expected  .A: Not Expected  .A: Not Expected   \n",
      "...                ...               ...               ...               ...   \n",
      "1252  .A: Not Expected  .A: Not Expected  .A: Not Expected  .A: Not Expected   \n",
      "1253  .A: Not Expected  .A: Not Expected  .A: Not Expected  .A: Not Expected   \n",
      "1254  .A: Not Expected  .A: Not Expected  .A: Not Expected  .A: Not Expected   \n",
      "1255  .A: Not Expected  .A: Not Expected  .A: Not Expected  .A: Not Expected   \n",
      "1256  .A: Not Expected  .A: Not Expected  .A: Not Expected  .A: Not Expected   \n",
      "\n",
      "          V99ERHVSRP_y      V99ELHVSRP_y  right_tkr bml_total_merged  \\\n",
      "0     .A: Not Expected  .A: Not Expected          0              1.0   \n",
      "1     .A: Not Expected  .A: Not Expected          0              2.0   \n",
      "2     .A: Not Expected  .A: Not Expected          0              1.0   \n",
      "3     .A: Not Expected  .A: Not Expected          1              1.0   \n",
      "4     .A: Not Expected  .A: Not Expected          0              3.0   \n",
      "...                ...               ...        ...              ...   \n",
      "1252  .A: Not Expected  .A: Not Expected          0              1.0   \n",
      "1253  .A: Not Expected  .A: Not Expected          0              3.0   \n",
      "1254  .A: Not Expected  .A: Not Expected          0              1.0   \n",
      "1255  .A: Not Expected  .A: Not Expected          0              2.0   \n",
      "1256  .A: Not Expected  .A: Not Expected          0              1.0   \n",
      "\n",
      "      bml_total_femur  bml_total_tibia  \n",
      "0                 1.0              0.0  \n",
      "1                 1.0              2.0  \n",
      "2                 0.0              1.0  \n",
      "3                 1.0              0.0  \n",
      "4                 2.0              3.0  \n",
      "...               ...              ...  \n",
      "1252              1.0              1.0  \n",
      "1253              3.0              2.0  \n",
      "1254              0.0              1.0  \n",
      "1255              2.0              0.0  \n",
      "1256              1.0              0.0  \n",
      "\n",
      "[1257 rows x 1523 columns]\n"
     ]
    }
   ],
   "source": [
    "# Determining the largest BML in each knee based on if it is a Merged, Femur, or Tibia model\n",
    "# For both left and right knees\n",
    "\n",
    "# right side\n",
    "right_knee_tkr = oai_bml_SBL_KL_merge_right[\n",
    "    (oai_bml_SBL_KL_merge_right[\"V99RNTCNT\"] <= NUM_YEARS)\n",
    "    & (oai_bml_SBL_KL_merge_right[\"V99ERKDAYS\"].isnull() == False)\n",
    "]\n",
    "print(\"total knees on right side: \", len(oai_bml_SBL_KL_merge_right))\n",
    "print(\"censored right knees: \", len(oai_bml_SBL_KL_merge_right) - len(right_knee_tkr))\n",
    "print(\"proper right knee tkr: \", len(right_knee_tkr))\n",
    "\n",
    "oai_bml_SBL_KL_merge_right[\"right_tkr\"] = np.where(\n",
    "    oai_bml_SBL_KL_merge_right[\"id\"].isin(right_knee_tkr[\"id\"]) == True, 1, 0\n",
    ")\n",
    "oai_bml_SBL_KL_merge_right[\"bml_total_merged\"] = oai_bml_SBL_KL_merge_right[merged_column_list].max(axis=1)\n",
    "oai_bml_SBL_KL_merge_right[\"bml_total_femur\"] = oai_bml_SBL_KL_merge_right[femur_column_list].max(axis=1)\n",
    "oai_bml_SBL_KL_merge_right[\"bml_total_tibia\"] = oai_bml_SBL_KL_merge_right[tibia_column_list].max(axis=1)\n",
    "print(oai_bml_SBL_KL_merge_right[\"bml_total_merged\"].unique())\n",
    "\n",
    "# left side\n",
    "left_knee_tkr = oai_bml_SBL_KL_merge_left[\n",
    "    (oai_bml_SBL_KL_merge_left[\"V99RNTCNT\"] <= NUM_YEARS)\n",
    "    & (oai_bml_SBL_KL_merge_left[\"V99ELKDAYS\"].isnull() == False)\n",
    "]\n",
    "\n",
    "print(\"total knees on left side: \", len(oai_bml_SBL_KL_merge_left))\n",
    "print(\"censored left knees: \", len(oai_bml_SBL_KL_merge_left) - len(left_knee_tkr))\n",
    "print(\"proper left knee tkr: \", len(left_knee_tkr))\n",
    "\n",
    "\n",
    "oai_bml_SBL_KL_merge_left[\"right_tkr\"] = np.where(\n",
    "    oai_bml_SBL_KL_merge_left[\"id\"].isin(left_knee_tkr[\"id\"]) == True, 1, 0\n",
    ")\n",
    "\n",
    "oai_bml_SBL_KL_merge_left[\"bml_total_merged\"] = oai_bml_SBL_KL_merge_left[merged_column_list].max(axis = 1)\n",
    "oai_bml_SBL_KL_merge_left[\"bml_total_femur\"] = oai_bml_SBL_KL_merge_left[femur_column_list].max(axis = 1)\n",
    "oai_bml_SBL_KL_merge_left[\"bml_total_tibia\"] = oai_bml_SBL_KL_merge_left[tibia_column_list].max(axis = 1)\n",
    "print(oai_bml_SBL_KL_merge_left[\"bml_total_merged\"].unique())\n",
    "\n",
    "print(oai_bml_SBL_KL_merge_right)"
   ]
  },
  {
   "cell_type": "code",
   "execution_count": 24,
   "metadata": {},
   "outputs": [
    {
     "name": "stdout",
     "output_type": "stream",
     "text": [
      "True\n",
      "True\n"
     ]
    }
   ],
   "source": [
    "# Renaming right knee columns for ease of use\n",
    "\n",
    "oai_bml_SBL_KL_merge_right = oai_bml_SBL_KL_merge_right.rename(columns = {\"V00AGE\":'AGE', \"V00XRKLR\":'KL_grade',\"P01BMI\":'BMI',\"P02RACE\":'RACE'})\n",
    "print('RACE' in oai_bml_SBL_KL_merge_right)\n",
    "print(\"KL_grade\" in oai_bml_SBL_KL_merge_right.columns.tolist() )"
   ]
  },
  {
   "cell_type": "code",
   "execution_count": 25,
   "metadata": {},
   "outputs": [
    {
     "name": "stdout",
     "output_type": "stream",
     "text": [
      "True\n"
     ]
    }
   ],
   "source": [
    "# Renaming left knee columns for ease of use\n",
    "\n",
    "oai_bml_SBL_KL_merge_left = oai_bml_SBL_KL_merge_left.rename(columns = {\"V00AGE\":'AGE',\"V00XRKLL\":'KL_grade',\"P01BMI\":'BMI',\"P02RACE\":'RACE'})\n",
    "print(\"RACE\" in oai_bml_SBL_KL_merge_left.columns.tolist() )"
   ]
  },
  {
   "cell_type": "code",
   "execution_count": 26,
   "metadata": {},
   "outputs": [
    {
     "data": {
      "image/png": "[encoded data removed]",
      "text/plain": [
       "<Figure size 640x480 with 1 Axes>"
      ]
     },
     "metadata": {},
     "output_type": "display_data"
    }
   ],
   "source": [
    "# Determining which patiets had a TKR and if not, what their most recent time of follow-up was.\n",
    "from time_adder import add_time\n",
    "\n",
    "oai_SBL_KL_BML_right = add_time(oai_bml_SBL_KL_merge_right, \"right\")\n",
    "oai_SBL_KL_BML_left = add_time(oai_bml_SBL_KL_merge_left, \"left\")"
   ]
  },
  {
   "cell_type": "code",
   "execution_count": 27,
   "metadata": {},
   "outputs": [],
   "source": [
    "# Selecting columns from left and right knee info, to merge into 1 table for each SBL and BML model\n",
    "# right side\n",
    "oai_right_temp_SBL_Merged_right = pd.concat( [oai_SBL_KL_BML_right.loc[:, 'F0_merged':'T199_merged'], oai_SBL_KL_BML_right[\n",
    "    ['id',\"time\", \"right_tkr\", \"P02SEX\",'KL_grade', 'RACE','bml_total_merged','bml_total_femur','bml_total_tibia','AGE','BMI']]], axis = 1)\n",
    "\n",
    "oai_right_temp_SBL_Femur_right = pd.concat( [oai_SBL_KL_BML_right.loc[:, 'F0_merged':'F199_merged'], oai_SBL_KL_BML_right[\n",
    "    ['id',\"time\", \"right_tkr\", \"P02SEX\",'bml_total_femur','RACE','AGE','BMI','KL_grade']]], axis = 1)\n",
    "\n",
    "oai_right_temp_SBL_Tibia_right = pd.concat( [oai_SBL_KL_BML_right.loc[:, 'T0_merged':'T199_merged'], oai_SBL_KL_BML_right[\n",
    "    ['id',\"time\", \"right_tkr\", \"P02SEX\",'bml_total_tibia','RACE','AGE','BMI','KL_grade']]], axis = 1)\n",
    "\n",
    "\n",
    "oai_right_temp_BML_Merged_right = oai_SBL_KL_BML_right[\n",
    "    ['id',\"time\", \"right_tkr\", \"P02SEX\", \"bml_total_merged\",'RACE','AGE','BMI','KL_grade']\n",
    "]\n",
    "oai_right_temp_BML_Femur_right = oai_SBL_KL_BML_right[\n",
    "    ['id',\"time\", \"right_tkr\", \"P02SEX\", \"bml_total_femur\",'RACE','AGE','BMI','KL_grade']\n",
    "]\n",
    "oai_right_temp_BML_Tibia_right = oai_SBL_KL_BML_right[\n",
    "    ['id',\"time\", \"right_tkr\", \"P02SEX\", \"bml_total_tibia\",'RACE','AGE','BMI','KL_grade']\n",
    "]\n",
    "\n",
    "oai_right_temp_JSN_Merged_right = oai_SBL_KL_BML_right[\n",
    "    ['id',\"time\", \"right_tkr\", \"P02SEX\", \"V00XRJSM\",'V00XRJSL','RACE','AGE','BMI','KL_grade']\n",
    "]\n",
    "\n",
    "\n",
    "# left side\n",
    "oai_right_temp_SBL_Merged_left = pd.concat( [oai_SBL_KL_BML_left.loc[:, 'F0_merged':'T199_merged'], oai_SBL_KL_BML_left[\n",
    "    ['id',\"time\", \"right_tkr\", \"P02SEX\",'KL_grade','RACE','bml_total_merged','bml_total_femur','bml_total_tibia','AGE','BMI']]], axis = 1)\n",
    "\n",
    "oai_right_temp_SBL_Femur_left = pd.concat( [oai_SBL_KL_BML_left.loc[:, 'F0_merged':'F199_merged'], oai_SBL_KL_BML_left[\n",
    "    ['id',\"time\", \"right_tkr\", \"P02SEX\",'bml_total_femur','RACE','AGE','BMI','KL_grade']]], axis = 1)\n",
    "\n",
    "oai_right_temp_SBL_Tibia_left = pd.concat( [oai_SBL_KL_BML_left.loc[:, 'T0_merged':'T199_merged'], oai_SBL_KL_BML_left[\n",
    "    ['id',\"time\", \"right_tkr\", \"P02SEX\",'bml_total_tibia','RACE','AGE','BMI','KL_grade']]], axis = 1)\n",
    "\n",
    "\n",
    "oai_right_temp_BML_Merged_left = oai_SBL_KL_BML_left[\n",
    "    ['id',\"time\", \"right_tkr\", \"P02SEX\", \"bml_total_merged\",'RACE','AGE','BMI','KL_grade']\n",
    "]\n",
    "oai_right_temp_BML_Femur_left = oai_SBL_KL_BML_left[\n",
    "    ['id',\"time\", \"right_tkr\", \"P02SEX\", \"bml_total_femur\",'RACE','AGE','BMI','KL_grade']\n",
    "]\n",
    "oai_right_temp_BML_Tibia_left = oai_SBL_KL_BML_left[\n",
    "    ['id',\"time\", \"right_tkr\", \"P02SEX\", \"bml_total_tibia\",'RACE','AGE','BMI','KL_grade']\n",
    "]\n",
    "\n",
    "oai_right_temp_JSN_Merged_left = oai_SBL_KL_BML_left[\n",
    "    ['id',\"time\", \"right_tkr\", \"P02SEX\", \"V00XRJSM\",'V00XRJSL','RACE','AGE','BMI','KL_grade']\n",
    "]\n",
    "\n",
    "\n",
    "\n"
   ]
  },
  {
   "cell_type": "code",
   "execution_count": 28,
   "metadata": {},
   "outputs": [],
   "source": [
    "# merging information for various SBL and BML models based on left and right knee information that was selected previously\n",
    "\n",
    "oai_right_temp_SBL_Merged_all = pd.concat(\n",
    "    [oai_right_temp_SBL_Merged_right, oai_right_temp_SBL_Merged_left],\n",
    "    ignore_index=True,\n",
    ")\n",
    "oai_right_temp_SBL_Femur_all = pd.concat(\n",
    "    [oai_right_temp_SBL_Femur_right, oai_right_temp_SBL_Femur_left],\n",
    "    ignore_index=True,\n",
    ")\n",
    "oai_right_temp_SBL_Tibia_all = pd.concat(\n",
    "    [oai_right_temp_SBL_Tibia_right, oai_right_temp_SBL_Tibia_left],\n",
    "    ignore_index=True,\n",
    ")\n",
    "\n",
    "\n",
    "oai_right_temp_BML_Merged_all = pd.concat(\n",
    "    [oai_right_temp_BML_Merged_right, oai_right_temp_BML_Merged_left],\n",
    "    ignore_index=True,\n",
    ")\n",
    "oai_right_temp_BML_Femur_all = pd.concat(\n",
    "    [oai_right_temp_BML_Femur_right, oai_right_temp_BML_Femur_left],\n",
    "    ignore_index=True,\n",
    ")\n",
    "oai_right_temp_BML_Tibia_all = pd.concat(\n",
    "    [oai_right_temp_BML_Tibia_right, oai_right_temp_BML_Tibia_left],\n",
    "    ignore_index=True,\n",
    ")\n",
    "\n",
    "oai_right_temp_JSN_Merged_all = pd.concat(\n",
    "    [oai_right_temp_JSN_Merged_right, oai_right_temp_JSN_Merged_left],\n",
    "    ignore_index=True,\n",
    ")\n",
    "\n",
    "oai_right_temp_SBL_Merged_all.drop(oai_right_temp_SBL_Merged_all[(oai_right_temp_SBL_Merged_all['RACE'] == '.D: Don t Know/Unknown/Uncertain') ].index, inplace=True)"
   ]
  },
  {
   "cell_type": "code",
   "execution_count": 29,
   "metadata": {},
   "outputs": [
    {
     "name": "stdout",
     "output_type": "stream",
     "text": [
      "0\n"
     ]
    }
   ],
   "source": [
    "# dropping the lowest BML size from patients who have 2 knees in the table in order to avoid confounding variables. \n",
    "oai_right_temp_SBL_Merged_all = oai_right_temp_SBL_Merged_all.sort_values('KL_grade').drop_duplicates('id', keep='last').sort_index()\n",
    "oai_right_temp_SBL_Femur_all = oai_right_temp_SBL_Femur_all.sort_values('KL_grade').drop_duplicates('id', keep='last').sort_index()\n",
    "oai_right_temp_SBL_Tibia_all = oai_right_temp_SBL_Tibia_all.sort_values('KL_grade').drop_duplicates('id', keep='last').sort_index()\n",
    "oai_right_temp_BML_Merged_all = oai_right_temp_BML_Merged_all.sort_values('KL_grade').drop_duplicates('id', keep='last').sort_index()\n",
    "oai_right_temp_BML_Femur_all = oai_right_temp_BML_Femur_all.sort_values('KL_grade').drop_duplicates('id', keep='last').sort_index()\n",
    "oai_right_temp_BML_Tibia_all = oai_right_temp_BML_Tibia_all.sort_values('KL_grade').drop_duplicates('id', keep='last').sort_index()\n",
    "oai_right_temp_JSN_Merged_all = oai_right_temp_JSN_Merged_all.sort_values('KL_grade').drop_duplicates('id', keep='last').sort_index()\n",
    "#Checking to make sure each patient has no more than 1 knee in the table\n",
    "print(len(list(set([x for i,x in enumerate(oai_right_temp_SBL_Merged_all['id'].tolist()) if oai_right_temp_SBL_Merged_all['id'].tolist().count(x) > 1]))))\n",
    "\n"
   ]
  },
  {
   "cell_type": "code",
   "execution_count": 30,
   "metadata": {},
   "outputs": [
    {
     "name": "stdout",
     "output_type": "stream",
     "text": [
      "total males 759\n",
      "total females 1214\n"
     ]
    }
   ],
   "source": [
    "groups_merged = oai_right_temp_SBL_Merged_all.groupby(\"P02SEX\")\n",
    "males_merged = groups_merged.get_group(1)\n",
    "females_merged = groups_merged.get_group(2)\n",
    "print(\"total males\", len(males_merged))\n",
    "# check the gender population; male:1, female:2\n",
    "print('total females', len(females_merged))\n"
   ]
  },
  {
   "cell_type": "code",
   "execution_count": 31,
   "metadata": {},
   "outputs": [],
   "source": [
    "\n",
    "# grouping by sex\n",
    "groups_merged = oai_right_temp_SBL_Merged_all.groupby(\"P02SEX\")\n",
    "males_merged = groups_merged.get_group(1)\n",
    "females_merged = groups_merged.get_group(2)\n",
    "males_merged = males_merged.drop(columns=[\"P02SEX\"])\n",
    "females_merged = females_merged.drop(columns=[\"P02SEX\"])\n",
    "\n",
    "groups_femur = oai_right_temp_SBL_Femur_all.groupby(\"P02SEX\")\n",
    "males_femur = groups_femur.get_group(1)\n",
    "females_femur = groups_femur.get_group(2)\n",
    "males_femur = males_femur.drop(columns=[\"P02SEX\"])\n",
    "females_femur = females_femur.drop(columns=[\"P02SEX\"])\n",
    "\n",
    "groups_tibia = oai_right_temp_SBL_Tibia_all.groupby(\"P02SEX\")\n",
    "males_tibia = groups_tibia.get_group(1)\n",
    "females_tibia = groups_tibia.get_group(2)\n",
    "males_tibia = males_tibia.drop(columns=[\"P02SEX\"])\n",
    "females_tibia = females_tibia.drop(columns=[\"P02SEX\"])\n",
    "\n",
    "groups_BML_merged = oai_right_temp_BML_Merged_all.groupby(\"P02SEX\")\n",
    "males_BML_merged = groups_BML_merged.get_group(1)\n",
    "females_BML_merged = groups_BML_merged.get_group(2)\n",
    "\n",
    "\n",
    "groups_BML_femur = oai_right_temp_BML_Femur_all.groupby(\"P02SEX\")\n",
    "males_BML_femur = groups_BML_femur.get_group(1)\n",
    "females_BML_femur = groups_BML_femur.get_group(2)\n",
    "\n",
    "\n",
    "\n",
    "groups_BML_tibia = oai_right_temp_BML_Tibia_all.groupby(\"P02SEX\")\n",
    "males_BML_tibia = groups_BML_tibia.get_group(1)\n",
    "females_BML_tibia = groups_BML_tibia.get_group(2)\n",
    "\n",
    "\n",
    "males_BML_merged = males_BML_merged.drop(columns=[\"P02SEX\"])\n",
    "females_BML_merged = females_BML_merged.drop(columns=[\"P02SEX\"])\n",
    "\n",
    "males_BML_femur = males_BML_femur.drop(columns=[\"P02SEX\"])\n",
    "females_BML_femur = females_BML_femur.drop(columns=[\"P02SEX\"])\n",
    "\n",
    "males_BML_tibia = males_BML_tibia.drop(columns=[\"P02SEX\"])\n",
    "females_BML_tibia = females_BML_tibia.drop(columns=[\"P02SEX\"])\n",
    "\n",
    "\n",
    "# Dropping irrelevent information from tables before input to Cox Models\n",
    "oai_right_temp_SBL_Merged_all = oai_right_temp_SBL_Merged_all.drop(columns=[\"P02SEX\",'id'])\n",
    "oai_right_temp_SBL_Femur_all = oai_right_temp_SBL_Femur_all.drop(columns=[\"P02SEX\",'id'])\n",
    "oai_right_temp_SBL_Tibia_all = oai_right_temp_SBL_Tibia_all.drop(columns=[\"P02SEX\",'id'])\n",
    "oai_right_temp_BML_Merged_all = oai_right_temp_BML_Merged_all.drop(columns=[\"P02SEX\",'id'])\n",
    "oai_right_temp_BML_Femur_all = oai_right_temp_BML_Femur_all.drop(columns=[\"P02SEX\",'id'])\n",
    "oai_right_temp_BML_Tibia_all = oai_right_temp_BML_Tibia_all.drop(columns=[\"P02SEX\",'id'])\n",
    "oai_right_temp_JSN_Merged_all = oai_right_temp_JSN_Merged_all.drop(columns=[\"P02SEX\",'id'])"
   ]
  },
  {
   "cell_type": "code",
   "execution_count": 32,
   "metadata": {},
   "outputs": [],
   "source": [
    "# Creating a new column for Race data, converting it from a string to a int based group\n",
    "oai_right_temp_SBL_Merged_all.loc[oai_right_temp_SBL_Merged_all['RACE'] == '0: Other Non-white', 'Race_Group'] = 0\n",
    "oai_right_temp_SBL_Merged_all.loc[oai_right_temp_SBL_Merged_all['RACE'] == '1: White or Caucasian', 'Race_Group'] = 1\n",
    "oai_right_temp_SBL_Merged_all.loc[oai_right_temp_SBL_Merged_all['RACE'] == '2: Black or African American', 'Race_Group'] = 2\n",
    "oai_right_temp_SBL_Merged_all.loc[oai_right_temp_SBL_Merged_all['RACE'] == '3: Asian', 'Race_Group'] = 3\n",
    "\n",
    "oai_right_temp_SBL_Femur_all.loc[oai_right_temp_SBL_Femur_all['RACE'] == '0: Other Non-white', 'Race_Group'] = 0\n",
    "oai_right_temp_SBL_Femur_all.loc[oai_right_temp_SBL_Femur_all['RACE'] == '1: White or Caucasian', 'Race_Group'] = 1\n",
    "oai_right_temp_SBL_Femur_all.loc[oai_right_temp_SBL_Femur_all['RACE'] == '2: Black or African American', 'Race_Group'] = 2\n",
    "oai_right_temp_SBL_Femur_all.loc[oai_right_temp_SBL_Femur_all['RACE'] == '3: Asian', 'Race_Group'] = 3\n",
    "\n",
    "oai_right_temp_SBL_Tibia_all.loc[oai_right_temp_SBL_Tibia_all['RACE'] == '0: Other Non-white', 'Race_Group'] = 0\n",
    "oai_right_temp_SBL_Tibia_all.loc[oai_right_temp_SBL_Tibia_all['RACE'] == '1: White or Caucasian', 'Race_Group'] = 1\n",
    "oai_right_temp_SBL_Tibia_all.loc[oai_right_temp_SBL_Tibia_all['RACE'] == '2: Black or African American', 'Race_Group'] = 2\n",
    "oai_right_temp_SBL_Tibia_all.loc[oai_right_temp_SBL_Tibia_all['RACE'] == '3: Asian', 'Race_Group'] = 3\n",
    "\n",
    "oai_right_temp_BML_Merged_all.loc[oai_right_temp_BML_Merged_all['RACE'] == '0: Other Non-white', 'Race_Group'] = 0\n",
    "oai_right_temp_BML_Merged_all.loc[oai_right_temp_BML_Merged_all['RACE'] == '1: White or Caucasian', 'Race_Group'] = 1\n",
    "oai_right_temp_BML_Merged_all.loc[oai_right_temp_BML_Merged_all['RACE'] == '2: Black or African American', 'Race_Group'] = 2\n",
    "oai_right_temp_BML_Merged_all.loc[oai_right_temp_BML_Merged_all['RACE'] == '3: Asian', 'Race_Group'] = 3\n",
    "\n",
    "oai_right_temp_BML_Femur_all.loc[oai_right_temp_BML_Femur_all['RACE'] == '0: Other Non-white', 'Race_Group'] = 0\n",
    "oai_right_temp_BML_Femur_all.loc[oai_right_temp_BML_Femur_all['RACE'] == '1: White or Caucasian', 'Race_Group'] = 1\n",
    "oai_right_temp_BML_Femur_all.loc[oai_right_temp_BML_Femur_all['RACE'] == '2: Black or African American', 'Race_Group'] = 2\n",
    "oai_right_temp_BML_Femur_all.loc[oai_right_temp_BML_Femur_all['RACE'] == '3: Asian', 'Race_Group'] = 3\n",
    "\n",
    "oai_right_temp_BML_Tibia_all.loc[oai_right_temp_BML_Tibia_all['RACE'] == '0: Other Non-white', 'Race_Group'] = 0\n",
    "oai_right_temp_BML_Tibia_all.loc[oai_right_temp_BML_Tibia_all['RACE'] == '1: White or Caucasian', 'Race_Group'] = 1\n",
    "oai_right_temp_BML_Tibia_all.loc[oai_right_temp_BML_Tibia_all['RACE'] == '2: Black or African American', 'Race_Group'] = 2\n",
    "oai_right_temp_BML_Tibia_all.loc[oai_right_temp_BML_Tibia_all['RACE'] == '3: Asian', 'Race_Group'] = 3\n",
    "\n",
    "\n",
    "oai_right_temp_JSN_Merged_all.loc[oai_right_temp_JSN_Merged_all['RACE'] == '0: Other Non-white', 'Race_Group'] = 0\n",
    "oai_right_temp_JSN_Merged_all.loc[oai_right_temp_JSN_Merged_all['RACE'] == '1: White or Caucasian', 'Race_Group'] = 1\n",
    "oai_right_temp_JSN_Merged_all.loc[oai_right_temp_JSN_Merged_all['RACE'] == '2: Black or African American', 'Race_Group'] = 2\n",
    "oai_right_temp_JSN_Merged_all.loc[oai_right_temp_JSN_Merged_all['RACE'] == '3: Asian', 'Race_Group'] = 3"
   ]
  },
  {
   "cell_type": "code",
   "execution_count": 33,
   "metadata": {},
   "outputs": [
    {
     "name": "stdout",
     "output_type": "stream",
     "text": [
      "1970\n"
     ]
    }
   ],
   "source": [
    "# Dropping all nan's from datasets \n",
    "oai_right_temp_SBL_Merged_all=oai_right_temp_SBL_Merged_all.dropna(axis=0)\n",
    "oai_right_temp_SBL_Femur_all=oai_right_temp_SBL_Femur_all.dropna(axis=0)\n",
    "oai_right_temp_SBL_Tibia_all=oai_right_temp_SBL_Tibia_all.dropna(axis=0)\n",
    "oai_right_temp_BML_Merged_all=oai_right_temp_BML_Merged_all.dropna(axis=0)\n",
    "oai_right_temp_BML_Femur_all=oai_right_temp_BML_Femur_all.dropna(axis=0)\n",
    "oai_right_temp_BML_Tibia_all=oai_right_temp_BML_Tibia_all.dropna(axis=0)\n",
    "oai_right_temp_BML_Tibia_all=oai_right_temp_BML_Tibia_all.dropna(axis=0)\n",
    "oai_right_temp_JSN_Merged_all=oai_right_temp_JSN_Merged_all.dropna(axis=0)\n",
    "print(len(oai_right_temp_BML_Merged_all))"
   ]
  },
  {
   "cell_type": "code",
   "execution_count": 34,
   "metadata": {},
   "outputs": [],
   "source": [
    "# Selecting SBL, BML, AGE, BMI, Race, and KL Grade variables to create CPH models\n",
    "oai_right_temp_SBL_Merged_all = pd.concat( [oai_right_temp_SBL_Merged_all.loc[:, 'F0_merged':'T199_merged'], oai_right_temp_SBL_Merged_all[\n",
    "    [\"time\", \"right_tkr\", 'AGE','KL_grade','BMI', 'Race_Group']]], axis = 1)\n",
    "\n",
    "oai_right_temp_SBL_Femur_all = pd.concat( [oai_right_temp_SBL_Femur_all.loc[:, 'F0_merged':'F199_merged'], oai_right_temp_SBL_Femur_all[\n",
    "    [\"time\", \"right_tkr\", 'AGE','KL_grade','BMI', 'Race_Group']]], axis = 1)\n",
    "\n",
    "oai_right_temp_SBL_Tibia_all = pd.concat( [oai_right_temp_SBL_Tibia_all.loc[:, 'T0_merged':'T199_merged'], oai_right_temp_BML_Tibia_all[\n",
    "    [\"time\", \"right_tkr\", 'AGE','KL_grade','BMI', 'Race_Group']]], axis = 1)\n",
    "\n",
    "\n",
    "oai_right_temp_BML_Merged_all = oai_right_temp_BML_Merged_all[\n",
    "    [\"time\", \"right_tkr\",  \"bml_total_merged\",'AGE','KL_grade','BMI', 'Race_Group']\n",
    "]\n",
    "oai_right_temp_BML_Femur_all = oai_right_temp_BML_Femur_all[\n",
    "    [\"time\", \"right_tkr\",  \"bml_total_femur\",'AGE','KL_grade','BMI', 'Race_Group']\n",
    "]\n",
    "oai_right_temp_BML_Tibia_all = oai_right_temp_BML_Tibia_all[\n",
    "    [\"time\", \"right_tkr\",  \"bml_total_tibia\",'AGE','KL_grade','BMI', 'Race_Group']]\n",
    "\n",
    "oai_right_temp_JSN_Merged_all = oai_right_temp_JSN_Merged_all[\n",
    "    [\"time\", \"right_tkr\",  \"V00XRJSM\",'V00XRJSL','AGE','KL_grade','BMI', 'Race_Group']]"
   ]
  },
  {
   "cell_type": "code",
   "execution_count": null,
   "metadata": {},
   "outputs": [],
   "source": [
    "from all_knee_sbl_bootstrap import cph_creator_SBL\n"
   ]
  },
  {
   "cell_type": "code",
   "execution_count": 35,
   "metadata": {},
   "outputs": [
    {
     "name": "stdout",
     "output_type": "stream",
     "text": [
      "test1\n",
      "old penalizer_val:  0.1\n",
      "old dataframe length:  406\n",
      "SBL_bool True\n",
      "new dataframe length:  374\n",
      "#################################### checkpoint 3\n",
      "concordance index censored scikit:0.884\n",
      "Brier Score 0.047\n"
     ]
    }
   ],
   "source": [
    "# CPH Model for SBL Merged data for patients \n",
    "cindex_1, brier_1, auc_1  = cph_creator_SBL(oai_right_temp_SBL_Merged_all, True)"
   ]
  },
  {
   "cell_type": "code",
   "execution_count": 36,
   "metadata": {},
   "outputs": [
    {
     "name": "stdout",
     "output_type": "stream",
     "text": [
      "test1\n",
      "old penalizer_val:  0.1\n",
      "old dataframe length:  206\n",
      "SBL_bool True\n",
      "new dataframe length:  192\n",
      "#################################### checkpoint 3\n",
      "concordance index censored scikit:0.861\n",
      "Brier Score 0.054\n"
     ]
    }
   ],
   "source": [
    "# CPH Model for SBL Femur data for patients \n",
    "cindex_2, brier_2, auc_2   = cph_creator_SBL(oai_right_temp_SBL_Femur_all, True)"
   ]
  },
  {
   "cell_type": "code",
   "execution_count": 37,
   "metadata": {},
   "outputs": [
    {
     "name": "stdout",
     "output_type": "stream",
     "text": [
      "test1\n",
      "old penalizer_val:  0.1\n",
      "old dataframe length:  206\n",
      "SBL_bool True\n",
      "new dataframe length:  189\n",
      "#################################### checkpoint 3\n",
      "concordance index censored scikit:0.856\n",
      "Brier Score 0.053\n"
     ]
    }
   ],
   "source": [
    "# CPH Model for SBL Tibia data for patients \n",
    "cindex_3, brier_3, auc_3  = cph_creator_SBL(oai_right_temp_SBL_Tibia_all, True)"
   ]
  },
  {
   "cell_type": "code",
   "execution_count": 38,
   "metadata": {},
   "outputs": [
    {
     "name": "stdout",
     "output_type": "stream",
     "text": [
      "test1\n",
      "old penalizer_val:  0.01\n",
      "old dataframe length:  7\n",
      "SBL_bool False\n",
      "#################################### checkpoint 3\n",
      "concordance index censored scikit:0.837\n",
      "Brier Score 0.062\n"
     ]
    }
   ],
   "source": [
    "# CPH Model for BML Merged data for patients \n",
    "cindex_4, brier_4, auc_4  = cph_creator_SBL(oai_right_temp_BML_Merged_all, False)"
   ]
  },
  {
   "cell_type": "code",
   "execution_count": 39,
   "metadata": {},
   "outputs": [
    {
     "name": "stdout",
     "output_type": "stream",
     "text": [
      "test1\n"
     ]
    },
    {
     "name": "stdout",
     "output_type": "stream",
     "text": [
      "old penalizer_val:  0.01\n",
      "old dataframe length:  7\n",
      "SBL_bool False\n",
      "#################################### checkpoint 3\n",
      "concordance index censored scikit:0.832\n",
      "Brier Score 0.063\n"
     ]
    }
   ],
   "source": [
    "# CPH Model for BML Femur data for patients \n",
    "cindex_5, brier_5, auc_5  = cph_creator_SBL(oai_right_temp_BML_Femur_all, False)"
   ]
  },
  {
   "cell_type": "code",
   "execution_count": 40,
   "metadata": {},
   "outputs": [
    {
     "name": "stdout",
     "output_type": "stream",
     "text": [
      "test1\n",
      "old penalizer_val:  0.01\n",
      "old dataframe length:  7\n",
      "SBL_bool False\n",
      "#################################### checkpoint 3\n",
      "concordance index censored scikit:0.837\n",
      "Brier Score 0.061\n"
     ]
    }
   ],
   "source": [
    "# CPH Model for BML Tibia data for patients \n",
    "cindex_6, brier_6, auc_6  = cph_creator_SBL(oai_right_temp_BML_Tibia_all, False)"
   ]
  },
  {
   "cell_type": "code",
   "execution_count": 41,
   "metadata": {},
   "outputs": [
    {
     "name": "stdout",
     "output_type": "stream",
     "text": [
      "test1\n",
      "old penalizer_val:  0.01\n",
      "old dataframe length:  8\n",
      "SBL_bool False\n",
      "#################################### checkpoint 3\n"
     ]
    },
    {
     "name": "stdout",
     "output_type": "stream",
     "text": [
      "concordance index censored scikit:0.818\n",
      "Brier Score 0.064\n"
     ]
    }
   ],
   "source": [
    "# CPH Model for JSN data for patients \n",
    "cindex_7, brier_7, auc_7  = cph_creator_SBL(oai_right_temp_JSN_Merged_all, True)"
   ]
  },
  {
   "cell_type": "code",
   "execution_count": 42,
   "metadata": {},
   "outputs": [
    {
     "data": {
      "image/png": "[encoded data removed]",
      "text/plain": [
       "<Figure size 1050x750 with 1 Axes>"
      ]
     },
     "metadata": {},
     "output_type": "display_data"
    }
   ],
   "source": [
    "mean_value_1 = cindex_1[1]\n",
    "ci1_lower = cindex_1[0][0]\n",
    "ci1_upper = cindex_1[0][1]\n",
    "plt.errorbar(x=[1], y=[mean_value_1], yerr=[[mean_value_1 - ci1_lower], [ci1_upper - mean_value_1]], fmt='o', capsize=5,label='SBL Merged')\n",
    "\n",
    "\n",
    "mean_value_2 = cindex_2[1]\n",
    "ci2_lower = cindex_2[0][0]\n",
    "ci2_upper = cindex_2[0][1]\n",
    "plt.errorbar(x=[2], y=[mean_value_2], yerr=[[mean_value_2 - ci2_lower], [ci2_upper - mean_value_2]], fmt='o', capsize=5,label='SBL Femur')\n",
    "\n",
    "\n",
    "mean_value_3 = cindex_3[1]\n",
    "ci3_lower = cindex_3[0][0]\n",
    "ci3_upper = cindex_3[0][1]\n",
    "plt.errorbar(x=[3], y=[mean_value_3], yerr=[[mean_value_3 - ci3_lower], [ci3_upper - mean_value_3]], fmt='o', capsize=5,label='SBL Tibia')\n",
    "\n",
    "mean_value_4 = cindex_4[1]\n",
    "ci4_lower = cindex_4[0][0]\n",
    "ci4_upper = cindex_4[0][1]\n",
    "plt.errorbar(x=[4], y=[mean_value_4], yerr=[[mean_value_4 - ci4_lower], [ci4_upper - mean_value_4]], fmt='o', capsize=5,label='BML Merged')\n",
    "\n",
    "mean_value_5 = cindex_5[1]\n",
    "ci5_lower = cindex_5[0][0]\n",
    "ci5_upper = cindex_5[0][1]\n",
    "plt.errorbar(x=[5], y=[mean_value_5], yerr=[[mean_value_5 - ci5_lower], [ci5_upper - mean_value_5]], fmt='o', capsize=5,label='BML Femur')\n",
    "\n",
    "mean_value_6 = cindex_6[1]\n",
    "ci6_lower = cindex_6[0][0]\n",
    "ci6_upper = cindex_6[0][1]\n",
    "plt.errorbar(x=[6], y=[mean_value_6], yerr=[[mean_value_6 - ci6_lower], [ci6_upper - mean_value_6]], fmt='o', capsize=5,label='BML Tibia')\n",
    "\n",
    "mean_value_7 = cindex_7[1]\n",
    "ci7_lower = cindex_7[0][0]\n",
    "ci7_upper = cindex_7[0][1]\n",
    "plt.errorbar(x=[7], y=[mean_value_7], yerr=[[mean_value_7 - ci7_lower], [ci7_upper - mean_value_7]], fmt='o', capsize=5,label='JSN Merged')\n",
    "\n",
    "labels = ['SBL Merged', 'SBL Femur', 'SBL Tibia', 'BML Merged', 'BML Femur', 'BML Tibia', 'JSN Merged']\n",
    "plt.xticks([])\n",
    "plt.ylabel('Mean Concordance Index')\n",
    "plt.title('Mean Concordance Index and 95% Confidence Interval')\n",
    "plt.ylim(0,1)\n",
    "# plt.legend(loc = 'lower right')\n",
    "# Set x-axis ticks and labels\n",
    "plt.xticks(range(1, 7 + 1), labels, rotation=45, ha='right')\n",
    "plt.show()\n",
    "plt.savefig('/home/tsurendr/Error_bar_Plots/Multivariate/all_knees_RAW_Cindex.pdf', format='pdf', bbox_inches = 'tight')"
   ]
  },
  {
   "cell_type": "code",
   "execution_count": null,
   "metadata": {},
   "outputs": [],
   "source": [
    "mean_value_1 = brier_1[1]\n",
    "ci1_lower = brier_1[0][0]\n",
    "ci1_upper = brier_1[0][1]\n",
    "print(ci1_lower, ci1_upper, mean_value_1)\n",
    "plt.errorbar(x=[1], y=[mean_value_1], yerr=[[mean_value_1 - ci1_lower], [ci1_upper - mean_value_1]], fmt='o', capsize=5,label='SBL Merged')\n",
    "\n",
    "\n",
    "mean_value_2 = brier_2[1]\n",
    "ci2_lower = brier_2[0][0]\n",
    "ci2_upper = brier_2[0][1]\n",
    "plt.errorbar(x=[2], y=[mean_value_2], yerr=[[mean_value_2 - ci2_lower], [ci2_upper - mean_value_2]], fmt='o', capsize=5,label='SBL Femur')\n",
    "\n",
    "\n",
    "mean_value_3 = brier_3[1]\n",
    "ci3_lower = brier_3[0][0]\n",
    "ci3_upper = brier_3[0][1]\n",
    "plt.errorbar(x=[3], y=[mean_value_3], yerr=[[mean_value_3 - ci3_lower], [ci3_upper - mean_value_3]], fmt='o', capsize=5,label='SBL Tibia')\n",
    "\n",
    "mean_value_4 = brier_4[1]\n",
    "ci4_lower = brier_4[0][0]\n",
    "ci4_upper = brier_4[0][1]\n",
    "plt.errorbar(x=[4], y=[mean_value_4], yerr=[[mean_value_4 - ci4_lower], [ci4_upper - mean_value_4]], fmt='o', capsize=5,label='BML Merged')\n",
    "\n",
    "mean_value_5 = brier_5[1]\n",
    "ci5_lower = brier_5[0][0]\n",
    "ci5_upper = brier_5[0][1]\n",
    "plt.errorbar(x=[5], y=[mean_value_5], yerr=[[mean_value_5 - ci5_lower], [ci5_upper - mean_value_5]], fmt='o', capsize=5,label='BML Femur')\n",
    "\n",
    "mean_value_6 = brier_6[1]\n",
    "ci6_lower = brier_6[0][0]\n",
    "ci6_upper = brier_6[0][1]\n",
    "plt.errorbar(x=[6], y=[mean_value_6], yerr=[[mean_value_6 - ci6_lower], [ci6_upper - mean_value_6]], fmt='o', capsize=5,label='BML Tibia')\n",
    "\n",
    "mean_value_7 = brier_7[1]\n",
    "ci7_lower = brier_7[0][0]\n",
    "ci7_upper = brier_7[0][1]\n",
    "plt.errorbar(x=[7], y=[mean_value_7], yerr=[[mean_value_7 - ci7_lower], [ci7_upper - mean_value_7]], fmt='o', capsize=5,label='JSN Merged')\n",
    "\n",
    "labels = ['SBL Merged', 'SBL Femur', 'SBL Tibia', 'BML Merged', 'BML Femur', 'BML Tibia', 'JSN Merged']\n",
    "plt.xticks([])\n",
    "plt.ylabel('Mean Brier Score')\n",
    "plt.title('Mean Brier Score and 95% Confidence Interval')\n",
    "# plt.ylim(0,1)\n",
    "# plt.legend(loc = 'lower right')\n",
    "# Set x-axis ticks and labels\n",
    "plt.xticks(range(1, 7 + 1), labels, rotation=45, ha='right')\n",
    "plt.show()\n",
    "plt.savefig('/home/tsurendr/Error_bar_Plots/Multivariate/all_knees_RAW_brier.pdf', format='pdf', bbox_inches = 'tight')"
   ]
  },
  {
   "cell_type": "code",
   "execution_count": null,
   "metadata": {},
   "outputs": [],
   "source": [
    "mean_value_1 = auc_1[1]\n",
    "ci1_lower = auc_1[0][0]\n",
    "ci1_upper = auc_1[0][1]\n",
    "print(ci1_lower, ci1_upper, mean_value_1)\n",
    "plt.errorbar(x=[1], y=[mean_value_1], yerr=[[mean_value_1 - ci1_lower], [ci1_upper - mean_value_1]], fmt='o', capsize=5,label='SBL Merged')\n",
    "\n",
    "\n",
    "mean_value_2 = auc_2[1]\n",
    "ci2_lower = auc_2[0][0]\n",
    "ci2_upper = auc_2[0][1]\n",
    "plt.errorbar(x=[2], y=[mean_value_2], yerr=[[mean_value_2 - ci2_lower], [ci2_upper - mean_value_2]], fmt='o', capsize=5,label='SBL Femur')\n",
    "\n",
    "\n",
    "mean_value_3 = auc_3[1]\n",
    "ci3_lower = auc_3[0][0]\n",
    "ci3_upper = auc_3[0][1]\n",
    "plt.errorbar(x=[3], y=[mean_value_3], yerr=[[mean_value_3 - ci3_lower], [ci3_upper - mean_value_3]], fmt='o', capsize=5,label='SBL Tibia')\n",
    "\n",
    "mean_value_4 = auc_4[1]\n",
    "ci4_lower = auc_4[0][0]\n",
    "ci4_upper = auc_4[0][1]\n",
    "plt.errorbar(x=[4], y=[mean_value_4], yerr=[[mean_value_4 - ci4_lower], [ci4_upper - mean_value_4]], fmt='o', capsize=5,label='BML Merged')\n",
    "\n",
    "mean_value_5 = auc_5[1]\n",
    "ci5_lower = auc_5[0][0]\n",
    "ci5_upper = auc_5[0][1]\n",
    "plt.errorbar(x=[5], y=[mean_value_5], yerr=[[mean_value_5 - ci5_lower], [ci5_upper - mean_value_5]], fmt='o', capsize=5,label='BML Femur')\n",
    "\n",
    "mean_value_6 = auc_6[1]\n",
    "ci6_lower = auc_6[0][0]\n",
    "ci6_upper = auc_6[0][1]\n",
    "plt.errorbar(x=[6], y=[mean_value_6], yerr=[[mean_value_6 - ci6_lower], [ci6_upper - mean_value_6]], fmt='o', capsize=5,label='BML Tibia')\n",
    "\n",
    "mean_value_7 = auc_7[1]\n",
    "ci7_lower = auc_7[0][0]\n",
    "ci7_upper = auc_7[0][1]\n",
    "plt.errorbar(x=[7], y=[mean_value_7], yerr=[[mean_value_7 - ci7_lower], [ci7_upper - mean_value_7]], fmt='o', capsize=5,label='JSN Merged')\n",
    "\n",
    "labels = ['SBL Merged', 'SBL Femur', 'SBL Tibia', 'BML Merged', 'BML Femur', 'BML Tibia', 'JSN Merged']\n",
    "plt.xticks([])\n",
    "plt.ylabel('Average Mean Time-Dependent AUC')\n",
    "plt.title('Average Mean Time-Dependent AUC and 95% Confidence Interval')\n",
    "plt.ylim(0,1)\n",
    "# plt.legend(loc = 'lower right')\n",
    "# Set x-axis ticks and labels\n",
    "plt.xticks(range(1, 7 + 1), labels, rotation=45, ha='right')\n",
    "plt.show()\n",
    "plt.savefig('/home/tsurendr/Error_bar_Plots/Multivariate/all_knees_RAW_AUC.pdf', format='pdf', bbox_inches = 'tight')"
   ]
  },
  {
   "cell_type": "code",
   "execution_count": null,
   "metadata": {},
   "outputs": [],
   "source": [
    "\n",
    "# Column names\n",
    "columns = ['Cindex', 'Brier', 'AUC']\n",
    "\n",
    "# Create an empty DataFrame\n",
    "table_df = pd.DataFrame(columns=columns)\n",
    "\n",
    "\n",
    "row_1 = {'Cindex': cindex_1, 'Brier': brier_1, 'AUC': auc_1}\n",
    "row_2 = {'Cindex': cindex_2, 'Brier': brier_2, 'AUC': auc_2}\n",
    "row_3 = {'Cindex': cindex_3, 'Brier': brier_3, 'AUC': auc_3}\n",
    "row_4 = {'Cindex': cindex_4, 'Brier': brier_4, 'AUC': auc_4}\n",
    "row_5 = {'Cindex': cindex_5, 'Brier': brier_5, 'AUC': auc_5}\n",
    "row_6 = {'Cindex': cindex_6, 'Brier': brier_6, 'AUC': auc_6}\n",
    "row_7 = {'Cindex': cindex_7, 'Brier': brier_7, 'AUC': auc_7}\n",
    "table_df = table_df.append(row_1, ignore_index=True)\n",
    "table_df = table_df.append(row_2, ignore_index=True)\n",
    "table_df = table_df.append(row_3, ignore_index=True)\n",
    "table_df = table_df.append(row_4, ignore_index=True)\n",
    "table_df = table_df.append(row_5, ignore_index=True)\n",
    "table_df = table_df.append(row_6, ignore_index=True)\n",
    "table_df = table_df.append(row_7, ignore_index=True)\n",
    "table_df.to_csv('/home/tsurendr/TABLES/all_knees_Multivariate_RAW.csv', index=False)"
   ]
  }
 ],
 "metadata": {
  "kernelspec": {
   "display_name": "Python 3.9.13 ('neuro': conda)",
   "language": "python",
   "name": "python3"
  },
  "language_info": {
   "codemirror_mode": {
    "name": "ipython",
    "version": 3
   },
   "file_extension": ".py",
   "mimetype": "text/x-python",
   "name": "python",
   "nbconvert_exporter": "python",
   "pygments_lexer": "ipython3",
   "version": "3.10.4"
  },
  "orig_nbformat": 4,
  "vscode": {
   "interpreter": {
    "hash": "7c5ec2711fb9be5244b20562b562d0757efd7313fdacff057c04e89290da72bf"
   }
  }
 },
 "nbformat": 4,
 "nbformat_minor": 2
}
